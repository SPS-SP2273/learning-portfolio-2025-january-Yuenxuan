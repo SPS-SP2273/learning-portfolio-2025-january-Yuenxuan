{
 "cells": [
  {
   "attachments": {},
   "cell_type": "markdown",
   "id": "123456",
   "metadata": {},
   "source": [
    "<div style=\"text-align:left;font-size:2em\"><span style=\"font-weight:bolder;font-size:1.25em\">SP2273 | Learning Portfolio</span><br><br><span style=\"font-weight:bold;color:darkred\">Fundamentals (Good) Exercises</span></div>"
   ]
  },
  {
   "cell_type": "markdown",
   "id": "0ddf0e0a-9cb1-4140-8a68-7c6b016be043",
   "metadata": {},
   "source": [
    "## Exercise 1"
   ]
  },
  {
   "cell_type": "code",
   "execution_count": 31,
   "id": "84189b23-ddd8-484d-bdf7-7dbb1d4e6efb",
   "metadata": {},
   "outputs": [
    {
     "name": "stdin",
     "output_type": "stream",
     "text": [
      "What is your name? yx\n"
     ]
    },
    {
     "name": "stdout",
     "output_type": "stream",
     "text": [
      "How you doin yx!\n"
     ]
    }
   ],
   "source": [
    "user_input = input('What is your name?') \n",
    "print('How you doin '+ user_input + '!')"
   ]
  },
  {
   "cell_type": "code",
   "execution_count": 34,
   "id": "53bf7cae-9304-4be1-8279-471634a5dea7",
   "metadata": {},
   "outputs": [
    {
     "name": "stdin",
     "output_type": "stream",
     "text": [
      "What is your name? yx\n",
      "What is your age? 20\n"
     ]
    },
    {
     "name": "stdout",
     "output_type": "stream",
     "text": [
      "My name is yx and I am 20 years old.\n"
     ]
    }
   ],
   "source": [
    "user_input_name = input('What is your name?') \n",
    "user_input_age = input('What is your age?')\n",
    "print('My name is ' + user_input_name + ' and I am ' + user_input_age + ' years old.')"
   ]
  },
  {
   "cell_type": "code",
   "execution_count": 38,
   "id": "a01154ee-3e4d-4f61-b392-13b7cf411660",
   "metadata": {},
   "outputs": [
    {
     "name": "stdout",
     "output_type": "stream",
     "text": [
      "The value of pi to 2 decimal places is 3.14\n",
      "The value of pi to 3 decimal places is 3.142\n",
      "The value of pi to 4 decimal places is 3.1416\n"
     ]
    }
   ],
   "source": [
    "pi = 3.1415926535897932\n",
    "print(f'The value of pi to 2 decimal places is {pi:.2f}')\n",
    "print(f'The value of pi to 3 decimal places is {pi:.3f}')\n",
    "print(f'The value of pi to 4 decimal places is {pi:.4f}')"
   ]
  },
  {
   "cell_type": "code",
   "execution_count": 41,
   "id": "facc37d8-6810-4471-9108-ed272cd8caf8",
   "metadata": {},
   "outputs": [
    {
     "name": "stdout",
     "output_type": "stream",
     "text": [
      "Apple\t$ 0.99\n",
      "Banana\t$ 0.59\n",
      "Orange\t$ 1.29\n"
     ]
    }
   ],
   "source": [
    "print( 'Apple\\t$ 0.99\\nBanana\\t$ 0.59\\nOrange\\t$ 1.29')"
   ]
  },
  {
   "cell_type": "code",
   "execution_count": 56,
   "id": "7667b889-e23c-4ab3-a244-f900d89db825",
   "metadata": {},
   "outputs": [
    {
     "name": "stdout",
     "output_type": "stream",
     "text": [
      "Apple     \n",
      "**********\n"
     ]
    }
   ],
   "source": [
    "print(f'{\"Apple\":<10}')\n",
    "print(\"*\"*10)  # dont need f string, it is a syntax that allows one to format a string, think of f as format. use f string when you wanna do special stuff like alignment or putting a function in the print"
   ]
  },
  {
   "cell_type": "code",
   "execution_count": 79,
   "id": "18d02357-acaf-4700-bafa-822f4eff1acb",
   "metadata": {},
   "outputs": [
    {
     "name": "stdout",
     "output_type": "stream",
     "text": [
      "Apple      $ 0.99\n",
      "Banana     $ 0.59\n",
      "Orange     $ 1.29\n",
      "********** $*****\n"
     ]
    }
   ],
   "source": [
    "print(f'{\"Apple\":<10} ${\"0.99\":>5}')\n",
    "print(f'{\"Banana\":<10} ${\"0.59\":>5}')\n",
    "print(f'{\"Orange\":<10} ${\"1.29\":>5}')\n",
    "print(\"*\"*10 + \" \" + \"$\" + \"*\"*5)  "
   ]
  },
  {
   "cell_type": "markdown",
   "id": "3fd66a16-6f49-42cd-9d36-210fca1f07fb",
   "metadata": {},
   "source": [
    "## Exercise 2"
   ]
  },
  {
   "cell_type": "code",
   "execution_count": 83,
   "id": "c1471246-3e57-413c-9849-524b9554ec28",
   "metadata": {},
   "outputs": [
    {
     "ename": "SyntaxError",
     "evalue": "invalid syntax (424360580.py, line 1)",
     "output_type": "error",
     "traceback": [
      "\u001b[0;36m  Cell \u001b[0;32mIn[83], line 1\u001b[0;36m\u001b[0m\n\u001b[0;31m    A = {>70 + <100}\u001b[0m\n\u001b[0m         ^\u001b[0m\n\u001b[0;31mSyntaxError\u001b[0m\u001b[0;31m:\u001b[0m invalid syntax\n"
     ]
    }
   ],
   "source": [
    "A = {>70 + <100} #ignore dis pls\n",
    "B = {>69 + <50}\n",
    "C = {>49 + <35}\n",
    "D = {>0 + <34}\n",
    "user_input = input(\"Enter student's score:\")\n",
    "print(\"The student's letter grade is:\", user_input)"
   ]
  },
  {
   "cell_type": "code",
   "execution_count": 82,
   "id": "af929e44-bcb1-438f-8c77-8cd37703b15f",
   "metadata": {},
   "outputs": [
    {
     "name": "stdin",
     "output_type": "stream",
     "text": [
      "Enter student's score: yes\n"
     ]
    },
    {
     "name": "stdout",
     "output_type": "stream",
     "text": [
      "The student's letter grade is: yes\n"
     ]
    }
   ],
   "source": [
    "user_input = input(\"Enter student's score:\")\n",
    "print(\"The student's letter grade is:\", user_input)"
   ]
  },
  {
   "cell_type": "code",
   "execution_count": 92,
   "id": "8191b0a6-ac45-42b4-9bc2-399865f3f98b",
   "metadata": {},
   "outputs": [
    {
     "name": "stdin",
     "output_type": "stream",
     "text": [
      "Enter student's score: 80\n"
     ]
    },
    {
     "name": "stdout",
     "output_type": "stream",
     "text": [
      "The student's letter grade is: D\n"
     ]
    }
   ],
   "source": [
    "user_input = input(\"Enter student's score:\")\n",
    "if user_input == range(70,100):\n",
    " print(\"The student's letter grade is: A\")\n",
    "else:\n",
    "    print(\"The student's letter grade is: D\")"
   ]
  },
  {
   "cell_type": "code",
   "execution_count": 99,
   "id": "cb4cea2f-b6ab-478b-b98d-cfaf3cfc773c",
   "metadata": {},
   "outputs": [
    {
     "name": "stdout",
     "output_type": "stream",
     "text": [
      "D\n"
     ]
    }
   ],
   "source": [
    "score = 40 #IGNORE\n",
    "if 70<=score>=100:\n",
    "    print(\"A\")\n",
    "elif 50<=score>=69:\n",
    "    print(\"B\")\n",
    "elif 35<=score>=49:\n",
    "    print(\"C\")\n",
    "else: print(\"D\")"
   ]
  },
  {
   "cell_type": "code",
   "execution_count": 134,
   "id": "125535e9-a825-46c9-bf8c-9879157635a5",
   "metadata": {},
   "outputs": [
    {
     "name": "stdin",
     "output_type": "stream",
     "text": [
      "Enter student's score: 68\n"
     ]
    },
    {
     "name": "stdout",
     "output_type": "stream",
     "text": [
      "The student's letter grade is: C\n"
     ]
    }
   ],
   "source": [
    "score = input(\"Enter student's score:\") #IGNORE\n",
    "score = int(score)\n",
    "if 70<=score>=100:\n",
    "    print(\"The student's letter grade is: A\")\n",
    "elif 50<=score>=69:\n",
    "    print(\"The student's letter grade is: B\")\n",
    "elif 35<=score>=49:\n",
    "    print(\"The student's letter grade is: C\")\n",
    "else: print(\"The student's letter grade is: D\")"
   ]
  },
  {
   "cell_type": "code",
   "execution_count": 137,
   "id": "d4b13846-1709-4b72-ac3b-8d3408841e87",
   "metadata": {},
   "outputs": [
    {
     "name": "stdin",
     "output_type": "stream",
     "text": [
      "Enter student's score: r\n"
     ]
    },
    {
     "name": "stdout",
     "output_type": "stream",
     "text": [
      "Invalid score inputted, please try again\n"
     ]
    }
   ],
   "source": [
    "score = input(\"Enter student's score:\") #FINAL\n",
    "if type(score) == str:\n",
    "    print(\"Invalid score inputted, please try again\") #I DID THIS TOTALLY BY MYSELF\n",
    "else:\n",
    "    score = int(score)\n",
    "    if 70<=score<=100:\n",
    "        print(\"The student's letter grade is: A\")\n",
    "    elif 50<=score<=69:\n",
    "        print(\"The student's letter grade is: B\")\n",
    "    elif 35<=score<=49:\n",
    "        print(\"The student's letter grade is: C\")\n",
    "    elif 0<=score<=34:\n",
    "        print(\"The student's letter grade is: D\")\n",
    "    elif score>=0:\n",
    "        print(\"Invalid score inputted, please try again\")\n",
    "    elif score>=100:\n",
    "        print(\"Invalid score inputted, please try again\")\n",
    "    else: \n",
    "        print(\"Invalid score inputted, please try again\")\n"
   ]
  },
  {
   "cell_type": "code",
   "execution_count": 111,
   "id": "726843ed-b169-412f-b51d-f945d6d39a60",
   "metadata": {},
   "outputs": [
    {
     "data": {
      "text/plain": [
       "str"
      ]
     },
     "execution_count": 111,
     "metadata": {},
     "output_type": "execute_result"
    }
   ],
   "source": [
    "type(score)"
   ]
  },
  {
   "cell_type": "markdown",
   "id": "1aaed216-cdf1-4abb-b78e-e84acfa8da52",
   "metadata": {},
   "source": [
    "## excerise 3"
   ]
  },
  {
   "cell_type": "code",
   "execution_count": 138,
   "id": "398f4d15-97bc-48a6-9844-35b1edfcaeb3",
   "metadata": {},
   "outputs": [
    {
     "name": "stdout",
     "output_type": "stream",
     "text": [
      "120\n",
      "Invalid input\n"
     ]
    }
   ],
   "source": [
    "def factorial(n):\n",
    "    if n < 0:\n",
    "        return \"Invalid input\" #I DID THIS TOTALLY BY MYSELF\n",
    "    elif n == 0:\n",
    "        return 1\n",
    "    else:\n",
    "        result = 1\n",
    "        for number in range(1, n+1):    #1 to n \n",
    "            result *= number #result = result + number --> result = result x number\n",
    "            \n",
    "        return result\n",
    "\n",
    "\n",
    "print(factorial(5))   # Testing, expected output: 120\n",
    "print(factorial(-1))  # Testing, expected output: Invalid input"
   ]
  }
 ],
 "metadata": {
  "kernelspec": {
   "display_name": "Python 3 (ipykernel)",
   "language": "python",
   "name": "python3"
  },
  "language_info": {
   "codemirror_mode": {
    "name": "ipython",
    "version": 3
   },
   "file_extension": ".py",
   "mimetype": "text/x-python",
   "name": "python",
   "nbconvert_exporter": "python",
   "pygments_lexer": "ipython3",
   "version": "3.12.2"
  },
  "toc": {
   "base_numbering": 1,
   "nav_menu": {},
   "number_sections": true,
   "sideBar": true,
   "skip_h1_title": false,
   "title_cell": "Table of Contents",
   "title_sidebar": "Contents",
   "toc_cell": false,
   "toc_position": {},
   "toc_section_display": true,
   "toc_window_display": false
  },
  "vscode": {
   "interpreter": {
    "hash": "31f2aee4e71d21fbe5cf8b01ff0e069b9275f58929596ceb00d14d90e3e16cd6"
   }
  }
 },
 "nbformat": 4,
 "nbformat_minor": 5
}
