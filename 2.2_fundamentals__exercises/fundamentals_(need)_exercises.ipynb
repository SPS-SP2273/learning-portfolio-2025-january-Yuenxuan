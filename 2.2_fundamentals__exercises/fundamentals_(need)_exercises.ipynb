{
 "cells": [
  {
   "attachments": {},
   "cell_type": "markdown",
   "id": "123456",
   "metadata": {},
   "source": [
    "<div style=\"text-align:left;font-size:2em\"><span style=\"font-weight:bolder;font-size:1.25em\">SP2273 | Learning Portfolio</span><br><br><span style=\"font-weight:bold;color:darkred\">Fundamentals (Need) Exercises</span></div>"
   ]
  },
  {
   "cell_type": "markdown",
   "id": "12ea33fd-9fd6-4375-bac6-4f9512ad4391",
   "metadata": {},
   "source": [
    "## Exercise 1"
   ]
  },
  {
   "cell_type": "markdown",
   "id": "1808abc7-7873-4370-8727-4d31625d3033",
   "metadata": {},
   "source": [
    "print()\n",
    "\n",
    "import\n",
    "\n",
    "sqrt()\n",
    "\n",
    "f()\n",
    "\n",
    "*py_list = [1, 2, 3, 4, 5]*\n",
    "\n",
    "*import*\n",
    "\n",
    "*np.sqrt(4)*\n",
    "\n",
    "what do \"features\" mean\n",
    "\n"
   ]
  },
  {
   "cell_type": "markdown",
   "id": "713ae3fa-9b47-426e-af4f-c4abe5ee75f8",
   "metadata": {},
   "source": [
    "## Exercise 2"
   ]
  },
  {
   "cell_type": "code",
   "execution_count": 6,
   "id": "f7dd732e-2a83-4e38-bcc6-399573e1d46a",
   "metadata": {},
   "outputs": [],
   "source": [
    "import numpy as np"
   ]
  },
  {
   "cell_type": "code",
   "execution_count": 12,
   "id": "ef213f74-090c-4057-8eab-1c0afa26db39",
   "metadata": {},
   "outputs": [],
   "source": [
    "import math"
   ]
  },
  {
   "cell_type": "code",
   "execution_count": 15,
   "id": "c9f7e111-b555-405e-83e5-ab4e16cf704f",
   "metadata": {},
   "outputs": [
    {
     "data": {
      "text/plain": [
       "4.0"
      ]
     },
     "execution_count": 15,
     "metadata": {},
     "output_type": "execute_result"
    }
   ],
   "source": [
    "math.sqrt(16)"
   ]
  },
  {
   "cell_type": "code",
   "execution_count": 24,
   "id": "02c4eaad-9977-4af3-a736-78b280f622d6",
   "metadata": {},
   "outputs": [
    {
     "name": "stdout",
     "output_type": "stream",
     "text": [
      "3 4 5.0\n"
     ]
    }
   ],
   "source": [
    "x, y = 3, 4\n",
    "z = math.sqrt(x**2 + y**2)\n",
    "print(x, y, z)"
   ]
  },
  {
   "cell_type": "markdown",
   "id": "5bb08065-0143-4c5b-86a4-a3af87dc21b2",
   "metadata": {},
   "source": [
    "## Exercise 3"
   ]
  },
  {
   "cell_type": "markdown",
   "id": "0a55c942-f76d-4a5a-81dc-c655800d1542",
   "metadata": {},
   "source": [
    "| #  | Term         | Description                                                                                                          |\n",
    "|----|--------------|----------------------------------------------------------------------------------------------------------------------|\n",
    "| 1  | Function     | Gives python a command to perform a task.                                                                            |\n",
    "| 2  | Arguments    | The specification of the command the function is carrying out.                                                       |\n",
    "| 3  | Comments     | Using # allows one to put notes in their code, without dirsrupting the code.                                         |\n",
    "| 4  | Indentations | Paragraphing that will allow one to group code together under a larger command.   # help                                   |\n",
    "| 5  | Packages     | by using import, one can download packages like math and numpy, that provide a wide range of new different functions |\n",
    "| 6  | .            | Is the indication of ownership of the word after it to the word before it.                                           |\n",
    "| 7  | :            | Helps in the definition of certain commands, and is usally used alongside indentations.                              |\n",
    "| 8  | []           | is used for elipse, masking, and lists                                                                               |\n",
    "| 9  | [[],[]]      | is used for lists and making empty lists # help                                                                      |\n",
    "| 10 | {}           | is for f string or dictionary                                                                                        |"
   ]
  },
  {
   "cell_type": "markdown",
   "id": "9a3344a8-f13b-4b3f-89e3-9f59292f059f",
   "metadata": {},
   "source": [
    "## Exercise 4"
   ]
  },
  {
   "cell_type": "code",
   "execution_count": 26,
   "id": "5c5802ad-0ebf-4dc3-b85f-61255095f0e4",
   "metadata": {},
   "outputs": [
    {
     "data": {
      "text/plain": [
       "2.5"
      ]
     },
     "execution_count": 26,
     "metadata": {},
     "output_type": "execute_result"
    }
   ],
   "source": [
    "5/2           # What do I do? "
   ]
  },
  {
   "cell_type": "markdown",
   "id": "611d6cb6-ca13-4843-8445-d57cace0f594",
   "metadata": {},
   "source": [
    "/ one slash will simply divide. 5 divided by 2 is 2.5"
   ]
  },
  {
   "cell_type": "code",
   "execution_count": 27,
   "id": "c4373348-39ed-44e5-b917-8d6f7e3be87d",
   "metadata": {},
   "outputs": [
    {
     "data": {
      "text/plain": [
       "2"
      ]
     },
     "execution_count": 27,
     "metadata": {},
     "output_type": "execute_result"
    }
   ],
   "source": [
    "5//2          # What do I do?"
   ]
  },
  {
   "cell_type": "markdown",
   "id": "05e6798a-63bf-4668-811d-d7be741630d8",
   "metadata": {},
   "source": [
    "// two slashes will divide the two numbers, but round down the answer to the nearest whole number."
   ]
  },
  {
   "cell_type": "code",
   "execution_count": 28,
   "id": "62eaa063-bd2f-4489-b9dd-eb908af92c3c",
   "metadata": {},
   "outputs": [
    {
     "data": {
      "text/plain": [
       "1"
      ]
     },
     "execution_count": 28,
     "metadata": {},
     "output_type": "execute_result"
    }
   ],
   "source": [
    "5%2           # What do I do?"
   ]
  },
  {
   "cell_type": "markdown",
   "id": "25196368-be0c-4086-a35e-07bcb669df68",
   "metadata": {},
   "source": [
    "% will give the remainder when the dividend is divided by the divisor. "
   ]
  }
 ],
 "metadata": {
  "kernelspec": {
   "display_name": "Python 3 (ipykernel)",
   "language": "python",
   "name": "python3"
  },
  "language_info": {
   "codemirror_mode": {
    "name": "ipython",
    "version": 3
   },
   "file_extension": ".py",
   "mimetype": "text/x-python",
   "name": "python",
   "nbconvert_exporter": "python",
   "pygments_lexer": "ipython3",
   "version": "3.12.2"
  },
  "toc": {
   "base_numbering": 1,
   "nav_menu": {},
   "number_sections": true,
   "sideBar": true,
   "skip_h1_title": false,
   "title_cell": "Table of Contents",
   "title_sidebar": "Contents",
   "toc_cell": false,
   "toc_position": {},
   "toc_section_display": true,
   "toc_window_display": false
  },
  "vscode": {
   "interpreter": {
    "hash": "31f2aee4e71d21fbe5cf8b01ff0e069b9275f58929596ceb00d14d90e3e16cd6"
   }
  }
 },
 "nbformat": 4,
 "nbformat_minor": 5
}
