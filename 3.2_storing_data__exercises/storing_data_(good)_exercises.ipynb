{
 "cells": [
  {
   "attachments": {},
   "cell_type": "markdown",
   "id": "123456",
   "metadata": {},
   "source": [
    "<div style=\"text-align:left;font-size:2em\"><span style=\"font-weight:bolder;font-size:1.25em\">SP2273 | Learning Portfolio</span><br><br><span style=\"font-weight:bold;color:darkred\">Storing Data (Good) Exercises</span></div>"
   ]
  },
  {
   "cell_type": "markdown",
   "id": "1ab9f252-9331-47b4-8211-f926156e2744",
   "metadata": {},
   "source": [
    "## Exercise 1"
   ]
  },
  {
   "cell_type": "markdown",
   "id": "93eba5ba-4508-4339-b15f-fa936d5c085c",
   "metadata": {},
   "source": [
    "Subsetting: selecting desired elements from a dataset."
   ]
  },
  {
   "cell_type": "markdown",
   "id": "83336cbf-bd23-45da-9ab4-78462f524cf3",
   "metadata": {},
   "source": [
    "Indexing: labelling a singular element (eg, [1], [2]), which allows one to access it later on using the corresponding numbers."
   ]
  },
  {
   "cell_type": "markdown",
   "id": "2e46c39d-b106-405a-b7d2-a609c2675946",
   "metadata": {},
   "source": [
    "Slicing: Separating a selected portion (usually a range) and labelling it to access later on."
   ]
  },
  {
   "cell_type": "markdown",
   "id": "9b1df71f-42cb-4bc5-b035-0cbbd077a6f3",
   "metadata": {},
   "source": [
    "Masking: Selecting a true/false array, labelling it to access later on. "
   ]
  },
  {
   "cell_type": "markdown",
   "id": "5516e23d-4408-479e-8d6a-cac3e8c6be97",
   "metadata": {},
   "source": [
    "## exercise 2"
   ]
  },
  {
   "cell_type": "code",
   "execution_count": 8,
   "id": "cee1cdbb-ca45-41cc-8d83-11921efcb266",
   "metadata": {},
   "outputs": [
    {
     "ename": "SyntaxError",
     "evalue": "invalid character '‘' (U+2018) (743753084.py, line 1)",
     "output_type": "error",
     "traceback": [
      "\u001b[0;36m  Cell \u001b[0;32mIn[8], line 1\u001b[0;36m\u001b[0m\n\u001b[0;31m    Exercise 2 (Show me the ‘odd’ letters) ☻\u001b[0m\n\u001b[0m                            ^\u001b[0m\n\u001b[0;31mSyntaxError\u001b[0m\u001b[0;31m:\u001b[0m invalid character '‘' (U+2018)\n"
     ]
    }
   ],
   "source": [
    "Exercise 2 (Show me the ‘odd’ letters) ☻\n",
    "\n",
    "np_array_2d = np.array([[1, \"A\"], [3, \"C\"], [2, \"B\"], [4, \"D\"],\n",
    "                        [5, \"E\"], [7, \"G\"], [6, \"F\"], [8, \"H\"],\n",
    "                        [10, \"J\"], [9, \"I\"]])\n",
    "\n",
    "Use masking to subset the letters that correspond to the odd numbers. I.e., get the result [A, C, E, G, I].\n",
    "\n",
    "This is a slightly tricky problem because arrays are fussy about type. So, let me give you a recipe to solve this problem.\n",
    "\n",
    "Subset all the first elements.\n",
    "You should get array(['1', '3', '2', ..., '10', '9'])\n",
    "Convert this to integers using astype(int)\n",
    "You must look up how astype() works.\n",
    "Use % to get the remainder for division by 2.\n",
    "You should get array([1, 1, 0, ..., 0, 1]).\n",
    "Use the previous result to create a mask that checks if the remainder is zero or not\n",
    "You should get array([True, True, False, ..., False, True]).\n",
    "Now you have identified the locations of the odd numbers.\n",
    "Use the mask and extract the corresponding second elements."
   ]
  },
  {
   "cell_type": "code",
   "execution_count": 9,
   "id": "d8d8937c-fcf1-4187-888e-96062cfe3b63",
   "metadata": {},
   "outputs": [],
   "source": [
    "np_array_2d = np.array([[1, \"A\"], [3, \"C\"], [2, \"B\"], [4, \"D\"],\n",
    "                        [5, \"E\"], [7, \"G\"], [6, \"F\"], [8, \"H\"],\n",
    "                        [10, \"J\"], [9, \"I\"]])"
   ]
  },
  {
   "cell_type": "code",
   "execution_count": 1,
   "id": "5b734dbf-18c8-4cb1-a1d6-1e3704ad6311",
   "metadata": {},
   "outputs": [],
   "source": [
    "import numpy as np"
   ]
  },
  {
   "cell_type": "code",
   "execution_count": 104,
   "id": "9fc72177-d651-47fd-9f03-74a7e52d36c0",
   "metadata": {},
   "outputs": [
    {
     "ename": "TypeError",
     "evalue": "'list' object is not callable",
     "output_type": "error",
     "traceback": [
      "\u001b[0;31m---------------------------------------------------------------------------\u001b[0m",
      "\u001b[0;31mTypeError\u001b[0m                                 Traceback (most recent call last)",
      "Cell \u001b[0;32mIn[104], line 1\u001b[0m\n\u001b[0;32m----> 1\u001b[0m \u001b[43mnp\u001b[49m\u001b[38;5;241;43m.\u001b[39;49m\u001b[43marray\u001b[49m\u001b[43m(\u001b[49m\u001b[43m[\u001b[49m\u001b[38;5;241;43m1\u001b[39;49m\u001b[43m,\u001b[49m\u001b[38;5;241;43m2\u001b[39;49m\u001b[43m]\u001b[49m\u001b[43m)\u001b[49m\n",
      "\u001b[0;31mTypeError\u001b[0m: 'list' object is not callable"
     ]
    }
   ],
   "source": []
  },
  {
   "cell_type": "code",
   "execution_count": 2,
   "id": "efbf2e6b-9f0e-42d2-ba7b-02c57eb606e9",
   "metadata": {},
   "outputs": [],
   "source": [
    "np_array_2d = np.array([[1, \"A\"], [3, \"C\"], [2, \"B\"], [4, \"D\"],\n",
    "                        [5, \"E\"], [7, \"G\"], [6, \"F\"], [8, \"H\"],\n",
    "                        [10, \"J\"], [9, \"I\"]])"
   ]
  },
  {
   "cell_type": "code",
   "execution_count": 85,
   "id": "1fc558b0-fde0-413b-85d3-452f11653faa",
   "metadata": {},
   "outputs": [
    {
     "name": "stdout",
     "output_type": "stream",
     "text": [
      "<class 'numpy.ndarray'>\n"
     ]
    }
   ],
   "source": [
    "print(type(np_array_2d))  "
   ]
  },
  {
   "cell_type": "code",
   "execution_count": 86,
   "id": "691cbea5-90a4-4376-8cd8-e7eff41f5efb",
   "metadata": {},
   "outputs": [
    {
     "name": "stdout",
     "output_type": "stream",
     "text": [
      "<class 'numpy.ndarray'>\n"
     ]
    }
   ],
   "source": [
    "print(type(np_array_2d[:, 0]))  \n"
   ]
  },
  {
   "cell_type": "code",
   "execution_count": 87,
   "id": "98f121f5-5a6a-4e09-b6a0-dcd0837b81b0",
   "metadata": {},
   "outputs": [
    {
     "data": {
      "text/plain": [
       "array(['1', '3', '2', '4', '5', '7', '6', '8', '10', '9'], dtype='<U21')"
      ]
     },
     "execution_count": 87,
     "metadata": {},
     "output_type": "execute_result"
    }
   ],
   "source": [
    "np_array_2d[:, 0]"
   ]
  },
  {
   "cell_type": "code",
   "execution_count": 88,
   "id": "86dde9cc-31a1-4780-90c7-487d45769880",
   "metadata": {},
   "outputs": [],
   "source": [
    "numbers = np_array_2d[:,0]"
   ]
  },
  {
   "cell_type": "code",
   "execution_count": 89,
   "id": "013153bd-5980-4a41-b8fe-ba35576f05ce",
   "metadata": {},
   "outputs": [
    {
     "data": {
      "text/plain": [
       "array([ 1,  3,  2,  4,  5,  7,  6,  8, 10,  9])"
      ]
     },
     "execution_count": 89,
     "metadata": {},
     "output_type": "execute_result"
    }
   ],
   "source": [
    "numbers.astype(int)"
   ]
  },
  {
   "cell_type": "code",
   "execution_count": 90,
   "id": "afec8c08-9722-4c07-a938-6fc94e93a7ba",
   "metadata": {},
   "outputs": [
    {
     "data": {
      "text/plain": [
       "numpy.ndarray"
      ]
     },
     "execution_count": 90,
     "metadata": {},
     "output_type": "execute_result"
    }
   ],
   "source": [
    "type(numbers)"
   ]
  },
  {
   "cell_type": "code",
   "execution_count": 91,
   "id": "1f499bdd-208c-4b43-880a-7d897ff89568",
   "metadata": {},
   "outputs": [],
   "source": [
    "plswork = numbers.astype(int)"
   ]
  },
  {
   "cell_type": "code",
   "execution_count": 92,
   "id": "1ec2d3cb-6ad2-43f0-acca-218fd21313e9",
   "metadata": {},
   "outputs": [],
   "source": [
    "yeswork = plswork % 2"
   ]
  },
  {
   "cell_type": "code",
   "execution_count": 93,
   "id": "b4a18028-dfad-48c5-8114-edda458b214a",
   "metadata": {},
   "outputs": [],
   "source": [
    "omgwork = yeswork == 1"
   ]
  },
  {
   "cell_type": "code",
   "execution_count": 94,
   "id": "88e8b21a-e041-43d5-8225-849fd88042bc",
   "metadata": {},
   "outputs": [
    {
     "data": {
      "text/plain": [
       "array(['A', 'C', 'E', 'G', 'I'], dtype='<U21')"
      ]
     },
     "execution_count": 94,
     "metadata": {},
     "output_type": "execute_result"
    }
   ],
   "source": [
    "np_array_2d[omgwork][:,1] # does this count"
   ]
  },
  {
   "cell_type": "markdown",
   "id": "abd43a4d-8b99-4d01-b390-33b7a58598b8",
   "metadata": {},
   "source": [
    "### condensed version"
   ]
  },
  {
   "cell_type": "code",
   "execution_count": 92,
   "id": "0f9f5e92-a658-4a33-9096-577799e2f831",
   "metadata": {},
   "outputs": [
    {
     "data": {
      "text/plain": [
       "array(['A', 'C', 'E', 'G', 'I'], dtype='<U21')"
      ]
     },
     "execution_count": 92,
     "metadata": {},
     "output_type": "execute_result"
    }
   ],
   "source": [
    "np_array_2d = np.array([[1, \"A\"], [3, \"C\"], [2, \"B\"], [4, \"D\"],\n",
    "                        [5, \"E\"], [7, \"G\"], [6, \"F\"], [8, \"H\"],\n",
    "                        [10, \"J\"], [9, \"I\"]])\n",
    "numbers = np_array_2d[:,0]\n",
    "numbers.astype(int)\n",
    "plswork = numbers.astype(int)\n",
    "yeswork = plswork % 2\n",
    "omgwork = yeswork == 1\n",
    "np_array_2d[omgwork][:,1]"
   ]
  },
  {
   "cell_type": "markdown",
   "id": "32c86d5e-bf7a-4563-aa51-06f71bdede8a",
   "metadata": {},
   "source": [
    "## Exercise 3"
   ]
  },
  {
   "cell_type": "code",
   "execution_count": 7,
   "id": "2a5c2497-21c7-403e-96e5-bff096432883",
   "metadata": {},
   "outputs": [
    {
     "ename": "SyntaxError",
     "evalue": "invalid decimal literal (1228899159.py, line 9)",
     "output_type": "error",
     "traceback": [
      "\u001b[0;36m  Cell \u001b[0;32mIn[7], line 9\u001b[0;36m\u001b[0m\n\u001b[0;31m    Consider the 2D array shown above. Using your knowledge of NumPy masking, change:\u001b[0m\n\u001b[0m                 ^\u001b[0m\n\u001b[0;31mSyntaxError\u001b[0m\u001b[0;31m:\u001b[0m invalid decimal literal\n"
     ]
    }
   ],
   "source": [
    "Exercise 3  \n",
    "\n",
    "[[66, 50, 57, -1, -1],\n",
    " [92, -1, 88, -1, -1],\n",
    " [75, -1, -1, 76, -1],\n",
    " [-1, 51, 87, -1, -1],\n",
    " [71, -1, 67, -1, 69]]\n",
    "\n",
    "Consider the 2D array shown above. Using your knowledge of NumPy masking, change:\n",
    "\n",
    "values below 50 to -1,\n",
    "values above 50 to +1, and\n",
    "values equal to 50 to 0.\n",
    "You should end up with:\n",
    "\n",
    "[[ 1  0  1 -1 -1]\n",
    " [ 1 -1  1 -1 -1]\n",
    " [ 1 -1 -1  1 -1]\n",
    " [-1  1  1 -1 -1]\n",
    " [ 1 -1  1 -1  1]]"
   ]
  },
  {
   "cell_type": "code",
   "execution_count": 91,
   "id": "749553d1-01b0-4a95-8c23-ff052ff66db0",
   "metadata": {},
   "outputs": [],
   "source": [
    " list2D = [[66, 50, 57, -1, -1],\n",
    " [92, -1, 88, -1, -1],\n",
    " [75, -1, -1, 76, -1],\n",
    " [-1, 51, 87, -1, -1],\n",
    " [71, -1, 67, -1, 69]]"
   ]
  },
  {
   "cell_type": "code",
   "execution_count": 11,
   "id": "2a176f32-88c9-40f4-8611-876bc3783d8a",
   "metadata": {},
   "outputs": [],
   "source": [
    "ummm = np.array(list2D)"
   ]
  },
  {
   "cell_type": "code",
   "execution_count": 36,
   "id": "32d6b65d-490e-44ae-bcce-f7e26d851685",
   "metadata": {},
   "outputs": [],
   "source": [
    "morethan50 = ummm>50"
   ]
  },
  {
   "cell_type": "code",
   "execution_count": 42,
   "id": "646b04f4-eb18-4fa0-9f07-0053b899dd06",
   "metadata": {},
   "outputs": [],
   "source": [
    "morethan50 = morethan50 *1"
   ]
  },
  {
   "cell_type": "code",
   "execution_count": 68,
   "id": "06c0909b-af1d-4c37-848e-548f0abdc218",
   "metadata": {},
   "outputs": [
    {
     "data": {
      "text/plain": [
       "array([[1, 0, 1, 0, 0],\n",
       "       [1, 0, 1, 0, 0],\n",
       "       [1, 0, 0, 1, 0],\n",
       "       [0, 1, 1, 0, 0],\n",
       "       [1, 0, 1, 0, 1]])"
      ]
     },
     "execution_count": 68,
     "metadata": {},
     "output_type": "execute_result"
    }
   ],
   "source": [
    "morethan50"
   ]
  },
  {
   "cell_type": "code",
   "execution_count": 43,
   "id": "9adbbd1c-a67a-4c06-9083-cad57e3888ea",
   "metadata": {},
   "outputs": [],
   "source": [
    "lessthan50 = ummm<50"
   ]
  },
  {
   "cell_type": "code",
   "execution_count": 47,
   "id": "d7d7b9b4-7fae-41ad-9236-1727e2fc57b0",
   "metadata": {},
   "outputs": [],
   "source": [
    "lessthan50 = lessthan50 *-1"
   ]
  },
  {
   "cell_type": "code",
   "execution_count": 48,
   "id": "bde28098-b9d1-468f-b467-1e47ce1a37ee",
   "metadata": {},
   "outputs": [
    {
     "data": {
      "text/plain": [
       "array([[ 0,  0,  0, -1, -1],\n",
       "       [ 0, -1,  0, -1, -1],\n",
       "       [ 0, -1, -1,  0, -1],\n",
       "       [-1,  0,  0, -1, -1],\n",
       "       [ 0, -1,  0, -1,  0]])"
      ]
     },
     "execution_count": 48,
     "metadata": {},
     "output_type": "execute_result"
    }
   ],
   "source": [
    "lessthan50"
   ]
  },
  {
   "cell_type": "code",
   "execution_count": 49,
   "id": "f4a153bc-271a-4176-b9d2-3923de9d2434",
   "metadata": {},
   "outputs": [],
   "source": [
    "equalto50 = ummm==50"
   ]
  },
  {
   "cell_type": "code",
   "execution_count": 83,
   "id": "f5383ccd-a5e2-4e16-b117-9bd270441571",
   "metadata": {},
   "outputs": [],
   "source": [
    "equalto50 = equalto50 * 0"
   ]
  },
  {
   "cell_type": "code",
   "execution_count": 89,
   "id": "7ff5ed4d-6570-4b8f-894c-0dbbb3574d29",
   "metadata": {},
   "outputs": [],
   "source": [
    "ans = morethan50 + lessthan50 + equalto50"
   ]
  },
  {
   "cell_type": "code",
   "execution_count": 90,
   "id": "e946b38f-e887-4339-9930-b83da0712727",
   "metadata": {},
   "outputs": [
    {
     "data": {
      "text/plain": [
       "array([[ 1,  0,  1, -1, -1],\n",
       "       [ 1, -1,  1, -1, -1],\n",
       "       [ 1, -1, -1,  1, -1],\n",
       "       [-1,  1,  1, -1, -1],\n",
       "       [ 1, -1,  1, -1,  1]])"
      ]
     },
     "execution_count": 90,
     "metadata": {},
     "output_type": "execute_result"
    }
   ],
   "source": [
    "ans # final answer"
   ]
  },
  {
   "cell_type": "code",
   "execution_count": 79,
   "id": "709b3181-8ae4-49a3-a7fb-6dc420037fb8",
   "metadata": {},
   "outputs": [],
   "source": [
    "list1 =[[66, 50, 57, -1, -1],\n",
    " [92, -1, 88, -1, -1],\n",
    " [75, -1, -1, 76, -1],\n",
    " [-1, 51, 87, -1, -1],\n",
    " [71, -1, 67, -1, 69]]"
   ]
  },
  {
   "cell_type": "code",
   "execution_count": 80,
   "id": "7f7af96d-b644-4cc6-ac6f-dad10fc5a081",
   "metadata": {},
   "outputs": [],
   "source": [
    "for i in range(len(list1)): # manual way to change. using a 4 loop to go through the entire list within list, using if elif else conditions to set what you want to change.\n",
    "    for j in range(len(list1[0])):\n",
    "        if list1[i][j] > 50:\n",
    "            list1[i][j] = 1\n",
    "        elif list1[i][j] < 50:\n",
    "            list1[i][j] = -1\n",
    "        else:\n",
    "            list1[i][j] = 0"
   ]
  },
  {
   "cell_type": "code",
   "execution_count": 81,
   "id": "efde036a-92aa-4728-a806-b5b5648b750c",
   "metadata": {},
   "outputs": [
    {
     "data": {
      "text/plain": [
       "[[1, 0, 1, -1, -1],\n",
       " [1, -1, 1, -1, -1],\n",
       " [1, -1, -1, 1, -1],\n",
       " [-1, 1, 1, -1, -1],\n",
       " [1, -1, 1, -1, 1]]"
      ]
     },
     "execution_count": 81,
     "metadata": {},
     "output_type": "execute_result"
    }
   ],
   "source": [
    "list1"
   ]
  },
  {
   "cell_type": "code",
   "execution_count": 57,
   "id": "2d00243e-3ff5-4c95-9fb8-84131fda5df7",
   "metadata": {},
   "outputs": [
    {
     "data": {
      "text/plain": [
       "numpy.ndarray"
      ]
     },
     "execution_count": 57,
     "metadata": {},
     "output_type": "execute_result"
    }
   ],
   "source": [
    "type(lessthan50)"
   ]
  },
  {
   "cell_type": "code",
   "execution_count": 32,
   "id": "47ac19e0-c356-4837-81a4-907401c74a48",
   "metadata": {},
   "outputs": [
    {
     "ename": "ValueError",
     "evalue": "The truth value of an array with more than one element is ambiguous. Use a.any() or a.all()",
     "output_type": "error",
     "traceback": [
      "\u001b[0;31m---------------------------------------------------------------------------\u001b[0m",
      "\u001b[0;31mValueError\u001b[0m                                Traceback (most recent call last)",
      "Cell \u001b[0;32mIn[32], line 1\u001b[0m\n\u001b[0;32m----> 1\u001b[0m \u001b[38;5;28;01mif\u001b[39;00m my_mask \u001b[38;5;241m==\u001b[39m \u001b[38;5;28;01mTrue\u001b[39;00m:\n\u001b[1;32m      2\u001b[0m     \u001b[38;5;28mprint\u001b[39m(np\u001b[38;5;241m.\u001b[39marray(\u001b[38;5;241m-\u001b[39m\u001b[38;5;241m1\u001b[39m))\n\u001b[1;32m      3\u001b[0m \u001b[38;5;28;01melse\u001b[39;00m: \u001b[38;5;28mprint\u001b[39m(np\u001b[38;5;241m.\u001b[39marray)\n",
      "\u001b[0;31mValueError\u001b[0m: The truth value of an array with more than one element is ambiguous. Use a.any() or a.all()"
     ]
    }
   ],
   "source": [
    "if my_mask :\n",
    "    print(np.array(-1))\n",
    "else: print(np.array)"
   ]
  },
  {
   "cell_type": "code",
   "execution_count": 34,
   "id": "cf57e793-24ea-412c-a140-726f54136d81",
   "metadata": {},
   "outputs": [],
   "source": [
    "my_mask = my_mask * 1\n"
   ]
  },
  {
   "cell_type": "code",
   "execution_count": 35,
   "id": "20f67416-cdae-440a-b113-5bba21c89f56",
   "metadata": {},
   "outputs": [
    {
     "data": {
      "text/plain": [
       "array([[0, 0, 0, 1, 1],\n",
       "       [0, 1, 0, 1, 1],\n",
       "       [0, 1, 1, 0, 1],\n",
       "       [1, 0, 0, 1, 1],\n",
       "       [0, 1, 0, 1, 0]])"
      ]
     },
     "execution_count": 35,
     "metadata": {},
     "output_type": "execute_result"
    }
   ],
   "source": [
    "my_mask"
   ]
  },
  {
   "cell_type": "code",
   "execution_count": null,
   "id": "5e8e1c32-5fb9-4ef1-b98a-8c814e5b080a",
   "metadata": {},
   "outputs": [],
   "source": []
  }
 ],
 "metadata": {
  "kernelspec": {
   "display_name": "Python 3 (ipykernel)",
   "language": "python",
   "name": "python3"
  },
  "language_info": {
   "codemirror_mode": {
    "name": "ipython",
    "version": 3
   },
   "file_extension": ".py",
   "mimetype": "text/x-python",
   "name": "python",
   "nbconvert_exporter": "python",
   "pygments_lexer": "ipython3",
   "version": "3.12.2"
  },
  "toc": {
   "base_numbering": 1,
   "nav_menu": {},
   "number_sections": true,
   "sideBar": true,
   "skip_h1_title": false,
   "title_cell": "Table of Contents",
   "title_sidebar": "Contents",
   "toc_cell": false,
   "toc_position": {},
   "toc_section_display": true,
   "toc_window_display": false
  },
  "vscode": {
   "interpreter": {
    "hash": "31f2aee4e71d21fbe5cf8b01ff0e069b9275f58929596ceb00d14d90e3e16cd6"
   }
  }
 },
 "nbformat": 4,
 "nbformat_minor": 5
}
