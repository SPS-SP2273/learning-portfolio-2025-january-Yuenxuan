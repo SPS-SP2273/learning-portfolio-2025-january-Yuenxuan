{
 "cells": [
  {
   "attachments": {},
   "cell_type": "markdown",
   "id": "123456",
   "metadata": {},
   "source": [
    "<div style=\"text-align:left;font-size:2em\"><span style=\"font-weight:bolder;font-size:1.25em\">SP2273 | Learning Portfolio</span><br><br><span style=\"font-weight:bold;color:darkred\">Storing Data (Need) Exercises</span></div>"
   ]
  },
  {
   "cell_type": "markdown",
   "id": "77a74b54-09bc-4d20-aad9-bee0ab910f0b",
   "metadata": {},
   "source": [
    "## Exercise 1"
   ]
  },
  {
   "cell_type": "markdown",
   "id": "fb34de48-b353-4aa2-85b5-e2fc617ba16d",
   "metadata": {},
   "source": [
    "Purely from memory, jot down:\n",
    "\n",
    "Two similarities between lists and arrays.\n",
    "Two differences between lists and arrays.\n",
    "What is a dictionary?\n",
    "If you cannot recall the answers, please refer to the course notes and put this information you could not recall in italics."
   ]
  },
  {
   "cell_type": "markdown",
   "id": "1612f594-6d9b-4281-a59e-d46bff280e7b",
   "metadata": {},
   "source": [
    "both mutable, both store data\n",
    "arrays are numbered, lists are not numbered \n",
    "array handle arthimatic operations lists cannot\n",
    "a dictionary is where "
   ]
  },
  {
   "cell_type": "markdown",
   "id": "5b5a016d-0e5e-468d-a604-0e19fa5f9420",
   "metadata": {},
   "source": [
    "1. 2 similarities: Both can store collections of elements and can be indexed and sliced to access these elements.\n",
    "\n",
    "2. 2 differences: Lists can store elements of different data types, like strings and integers. But Arrays only store elements of the same type (eg, integer).\n",
    "Arrays can handle arithmetic operations, but lists cannot.\n",
    "\n",
    "3. *A dictionary stores data as key-value pairs. Each key maps to a specific value, they are separated by a :, you can access the value by using the key.*"
   ]
  },
  {
   "cell_type": "markdown",
   "id": "489bee7f-9e2f-4b82-b098-b5154ade1882",
   "metadata": {},
   "source": [
    "## Exercise 2"
   ]
  },
  {
   "cell_type": "code",
   "execution_count": null,
   "id": "a7c44df5-699c-4bba-a11f-b040dcd1acea",
   "metadata": {},
   "outputs": [],
   "source": [
    "Modify the following code to print out all elements with an odd number. I have done the one corresponding to i9 for you."
   ]
  },
  {
   "cell_type": "code",
   "execution_count": 9,
   "id": "91a44931-47e2-45f9-af4b-693bccb014e8",
   "metadata": {},
   "outputs": [],
   "source": [
    "import numpy as np"
   ]
  },
  {
   "cell_type": "code",
   "execution_count": 18,
   "id": "2aad79ca-0d5a-4c78-bd14-a0bf10b47245",
   "metadata": {},
   "outputs": [
    {
     "name": "stdout",
     "output_type": "stream",
     "text": [
      "a1 c3 e5 g7 i9\n"
     ]
    }
   ],
   "source": [
    "py_list = [\"a1\", \"b2\", \"c3\", \"d4\", \"e5\", \"f6\", \"g7\", \"h8\", \"i9\", \"j10\"]\n",
    "print(py_list[0],py_list[2],py_list[4],py_list[6],py_list[8]) "
   ]
  },
  {
   "cell_type": "code",
   "execution_count": 17,
   "id": "58a0f1ea-447a-4daf-8db4-3b21f2d977d1",
   "metadata": {},
   "outputs": [
    {
     "name": "stdout",
     "output_type": "stream",
     "text": [
      "a1\n",
      "c3\n",
      "e5\n",
      "g7\n",
      "i9\n"
     ]
    }
   ],
   "source": [
    "py_list = [\"a1\", \"b2\", \"c3\", \"d4\", \"e5\", \"f6\", \"g7\", \"h8\", \"i9\", \"j10\"] # my friend did this for fun & I wanted to learn how to filter the odd stuffs dhfhd\n",
    "for i in range(len(py_list)):\n",
    "    if i %2==0:\n",
    "        print(py_list[i])"
   ]
  },
  {
   "cell_type": "markdown",
   "id": "1df2c1ea-13ce-413b-8e9a-d7e7d2c2272f",
   "metadata": {},
   "source": [
    "## Exercise 3"
   ]
  },
  {
   "cell_type": "markdown",
   "id": "25c02f4e-71c9-4e37-a116-b888e31b439b",
   "metadata": {},
   "source": [
    "Access and print the element at index 4 using forward indexing.\n",
    "\n",
    "Access and print the element at index 4 from the end of the list using reverse indexing."
   ]
  },
  {
   "cell_type": "code",
   "execution_count": 19,
   "id": "10e80435-2589-4d90-974d-718159bf69b2",
   "metadata": {},
   "outputs": [],
   "source": [
    "elements = ['Hydrogen',\n",
    "            'Helium', 'Lithium',\n",
    "            'Beryllium', 'Boron', 'Carbon',\n",
    "            'Nitrogen', 'Oxygen',\n",
    "            'Fluorine',\n",
    "            'Neon']"
   ]
  },
  {
   "cell_type": "code",
   "execution_count": 20,
   "id": "9829fcd2-22f5-4a34-ad10-c5ee25eb39cd",
   "metadata": {},
   "outputs": [
    {
     "name": "stdout",
     "output_type": "stream",
     "text": [
      "Boron\n"
     ]
    }
   ],
   "source": [
    "print(elements[4])"
   ]
  },
  {
   "cell_type": "code",
   "execution_count": 21,
   "id": "62a98999-7ea8-4c0b-b96f-409f1d96e6f0",
   "metadata": {},
   "outputs": [
    {
     "name": "stdout",
     "output_type": "stream",
     "text": [
      "Boron\n"
     ]
    }
   ],
   "source": [
    "print(elements[-6])"
   ]
  },
  {
   "cell_type": "markdown",
   "id": "4d28b2e5-40a8-46e0-a743-0b3651bfb4f8",
   "metadata": {},
   "source": [
    "## Exercise 4"
   ]
  },
  {
   "cell_type": "markdown",
   "id": "2ddf8381-e68a-4f75-82f1-50763f13946e",
   "metadata": {},
   "source": [
    "Use the concepts you learned in this chapter to determine the number of 1’s in the following list of numbers.\n",
    "\n",
    "Use a NumPy array.\n",
    "\n",
    "Ask a question.\n",
    "\n",
    "False is considered 0, and True is considered 1 by sum()."
   ]
  },
  {
   "cell_type": "code",
   "execution_count": 23,
   "id": "5342fb56-0338-4668-b655-0dcbfad979e7",
   "metadata": {},
   "outputs": [],
   "source": [
    "numbers=[45, 60, 1, 30, 96, 1, 96, 57, 16, 1,\n",
    "        99, 62, 86, 43, 42, 60, 59, 1, 1, 35,\n",
    "        83, 47, 34, 28, 68, 23, 22, 92, 1, 79,\n",
    "        1, 29, 94, 72, 46, 47, 1, 74, 32, 20,\n",
    "        8, 37, 35, 1, 89, 29, 86, 19, 43, 61]                  "
   ]
  },
  {
   "cell_type": "code",
   "execution_count": 27,
   "id": "e5d3581f-a3d4-4abf-879d-2201e70c9224",
   "metadata": {},
   "outputs": [
    {
     "data": {
      "text/plain": [
       "np.int64(9)"
      ]
     },
     "execution_count": 27,
     "metadata": {},
     "output_type": "execute_result"
    }
   ],
   "source": [
    "ilovenp=np.array(numbers)\n",
    "itsokbro = ilovenp==1 # is this legal\n",
    "sum(itsokbro)"
   ]
  },
  {
   "cell_type": "markdown",
   "id": "c654f0be-8382-4ac4-a6fa-2e518c17b54a",
   "metadata": {},
   "source": [
    "## Exercise 5"
   ]
  },
  {
   "cell_type": "markdown",
   "id": "771ffa0d-bc7c-47e3-ae05-e8fba63e1930",
   "metadata": {},
   "source": [
    "Using NumPy:\n",
    "\n",
    "Determine the means of x1 and x2.\n",
    "\n",
    "Determine the standard deviations of x1 and x2.\n",
    "\n",
    "Determine the Pearson correlation coefficient r for the two datasets. Don’t use np.corrcoef()!\n",
    "\n",
    "Compare your results to np.corrcoef().\n",
    "\n",
    "HINTS: np.mean(), np.std(), np.sum(), np.sqrt()"
   ]
  },
  {
   "cell_type": "code",
   "execution_count": 28,
   "id": "dc86facf-13f9-4585-8e93-4984245ba84b",
   "metadata": {},
   "outputs": [],
   "source": [
    "x_1 = [1, 4, 9, 16, 25, 36, 49, 64, 81, 100]\n",
    "x_2 = [1, 8, 27, 64, 125, 216, 343, 512, 729, 1000]"
   ]
  },
  {
   "cell_type": "code",
   "execution_count": 96,
   "id": "00c36003-3669-4b3b-94d5-b9df80caec65",
   "metadata": {},
   "outputs": [
    {
     "data": {
      "text/plain": [
       "np.float64(0.9871796626270701)"
      ]
     },
     "execution_count": 96,
     "metadata": {},
     "output_type": "execute_result"
    }
   ],
   "source": [
    "mean_x1 = np.mean(x_1)\n",
    "mean_x2 = np.mean(x_2)\n",
    "\n",
    "numerator = np.sum((x_1 - mean_x1) * (x_2 - mean_x2))\n",
    "denominator = np.sqrt(np.sum((x_1 - mean_x1) ** 2) * np.sum((x_2 - mean_x2) ** 2))\n",
    "r_manual = numerator / denominator\n",
    "\n",
    "# Compare with np.corrcoef()\n",
    "np.corrcoef(x_1, x_2)[0, 1]"
   ]
  },
  {
   "cell_type": "code",
   "execution_count": 49,
   "id": "d251ab08-4f54-48e3-8548-6d0160d21682",
   "metadata": {},
   "outputs": [],
   "source": [
    "a = np.array(x_1)\n",
    "b = np.array(x_2)"
   ]
  },
  {
   "cell_type": "code",
   "execution_count": 74,
   "id": "812a8fe1-bbb7-4107-a03e-aa93137e4b39",
   "metadata": {},
   "outputs": [
    {
     "data": {
      "text/plain": [
       "(np.float64(38.5), np.float64(32.41990129534635))"
      ]
     },
     "execution_count": 74,
     "metadata": {},
     "output_type": "execute_result"
    }
   ],
   "source": [
    "a.mean(), a.std()"
   ]
  },
  {
   "cell_type": "code",
   "execution_count": 51,
   "id": "8f28e84d-f877-4a17-bc21-316b189b81c7",
   "metadata": {},
   "outputs": [
    {
     "data": {
      "text/plain": [
       "(np.float64(302.5), np.float64(326.0893282522444))"
      ]
     },
     "execution_count": 51,
     "metadata": {},
     "output_type": "execute_result"
    }
   ],
   "source": [
    "b.mean(), b.std()"
   ]
  },
  {
   "cell_type": "code",
   "execution_count": 97,
   "id": "109efe92-4c5d-4fdb-8dc8-4e956f0705fe",
   "metadata": {},
   "outputs": [],
   "source": [
    "num = np.sum((x_1 - a.mean())* (x_2 - b.mean()))"
   ]
  },
  {
   "cell_type": "code",
   "execution_count": 106,
   "id": "683303e1-9367-4fae-a322-c55d7315925b",
   "metadata": {},
   "outputs": [],
   "source": [
    "dem = np.sqrt( np.sum( (x_1- a.mean()) **2) * np.sum( (x_2 - b.mean()) **2) ) "
   ]
  },
  {
   "cell_type": "code",
   "execution_count": 107,
   "id": "1759e7c0-550a-4490-9d13-39a7d58b7327",
   "metadata": {},
   "outputs": [
    {
     "data": {
      "text/plain": [
       "np.float64(0.9871796626270701)"
      ]
     },
     "execution_count": 107,
     "metadata": {},
     "output_type": "execute_result"
    }
   ],
   "source": [
    "num/dem"
   ]
  },
  {
   "cell_type": "code",
   "execution_count": 94,
   "id": "685a0651-d5cf-48df-85d3-3dfefb38d581",
   "metadata": {},
   "outputs": [
    {
     "data": {
      "text/plain": [
       "np.float64(0.9871796626270701)"
      ]
     },
     "execution_count": 94,
     "metadata": {},
     "output_type": "execute_result"
    }
   ],
   "source": [
    "np.corrcoef(x_1, x_2)[0, 1]"
   ]
  },
  {
   "cell_type": "code",
   "execution_count": null,
   "id": "4b5170fc-9e44-4ae0-aca7-f207472fd2d9",
   "metadata": {},
   "outputs": [],
   "source": []
  }
 ],
 "metadata": {
  "kernelspec": {
   "display_name": "Python 3 (ipykernel)",
   "language": "python",
   "name": "python3"
  },
  "language_info": {
   "codemirror_mode": {
    "name": "ipython",
    "version": 3
   },
   "file_extension": ".py",
   "mimetype": "text/x-python",
   "name": "python",
   "nbconvert_exporter": "python",
   "pygments_lexer": "ipython3",
   "version": "3.12.2"
  },
  "toc": {
   "base_numbering": 1,
   "nav_menu": {},
   "number_sections": true,
   "sideBar": true,
   "skip_h1_title": false,
   "title_cell": "Table of Contents",
   "title_sidebar": "Contents",
   "toc_cell": false,
   "toc_position": {},
   "toc_section_display": true,
   "toc_window_display": false
  },
  "vscode": {
   "interpreter": {
    "hash": "31f2aee4e71d21fbe5cf8b01ff0e069b9275f58929596ceb00d14d90e3e16cd6"
   }
  }
 },
 "nbformat": 4,
 "nbformat_minor": 5
}
