{
 "cells": [
  {
   "attachments": {},
   "cell_type": "markdown",
   "id": "123456",
   "metadata": {},
   "source": [
    "<div style=\"text-align:left;font-size:2em\"><span style=\"font-weight:bolder;font-size:1.25em\">SP2273 | Learning Portfolio</span><br><br><span style=\"font-weight:bold;color:darkred\">Using Jupyter (Need), Exercises</span></div>"
   ]
  },
  {
   "attachments": {},
   "cell_type": "markdown",
   "id": "bdb7abb3",
   "metadata": {},
   "source": [
    "## 1 Quadratic Equations"
   ]
  },
  {
   "attachments": {},
   "cell_type": "markdown",
   "id": "12174ed6",
   "metadata": {},
   "source": [
    "### Introduction"
   ]
  },
  {
   "cell_type": "markdown",
   "id": "d107fb94-8e3f-4a7f-8474-1bd1761d3353",
   "metadata": {},
   "source": [
    "\n",
    "![](https://upload.wikimedia.org/wikipedia/commons/thumb/f/f8/Polynomialdeg2.svg/300px-Polynomialdeg2.svg.png)\n",
    "\n",
    "(Image from the [*Wikipedia Page on Quadratic Equations*](https://en.wikipedia.org/wiki/Quadratic_equation))\n",
    "\n",
    "The general form of a quadratic equation is:\n",
    "\n",
    "$$\n",
    "ax^{2}+bx+c=0\n",
    "$$\n",
    "\n"
   ]
  },
  {
   "attachments": {},
   "cell_type": "markdown",
   "id": "5148014a",
   "metadata": {},
   "source": [
    "### Solutions"
   ]
  },
  {
   "cell_type": "markdown",
   "id": "93f78573-9bd0-4bbb-b72a-c966d897066c",
   "metadata": {},
   "source": [
    "Provided $a \\ne 0$, we can use an elementary algebraic method called [completing the square](https://en.wikipedia.org/wiki/Completing_the_square) to show that a quadratic equation has the following solution:"
   ]
  },
  {
   "attachments": {},
   "cell_type": "markdown",
   "id": "f283dfce",
   "metadata": {},
   "source": [
    "### Discriminant"
   ]
  },
  {
   "cell_type": "markdown",
   "id": "716eb49f-83c3-4270-b7a3-7bcac287a86e",
   "metadata": {},
   "source": [
    "\n",
    "The quantity $\\Delta=b^2-4ac$ is called the discriminant of the equation and decides the nature of its solutions. The table below shows the various possibilities.\n",
    "\n",
    "| Discriminant           | Roots                                |\n",
    "|------------------------|--------------------------------------|\n",
    "| $\\Delta=b^2-4ac=0$     | A single solution of $-b/(2a)$       |\n",
    "| $\\Delta=b^2-4ac \\gt 0$ | Two distinct solutions               |\n",
    "| $\\Delta=b^2-4ac \\lt 0$ | No real solutions; both are complex. |"
   ]
  },
  {
   "cell_type": "markdown",
   "id": "2e816e5f-2173-40ef-a01e-21680240c9bf",
   "metadata": {},
   "source": [
    "## Exercise 2"
   ]
  },
  {
   "cell_type": "markdown",
   "id": "97547b08-3d42-4994-8b5d-b0a7ea27272a",
   "metadata": {},
   "source": [
    "In your own words, use a Markdown cell to answer the following question."
   ]
  },
  {
   "cell_type": "markdown",
   "id": "fe9085ef-66e8-4326-aa73-f3bdaabc5065",
   "metadata": {},
   "source": [
    "### What is a Git **repository**?"
   ]
  },
  {
   "cell_type": "markdown",
   "id": "80861855-4275-40d9-8713-09a8097371ee",
   "metadata": {},
   "source": [
    "A git repository is the main storage space of Github where the files of the user and/or other collaborators."
   ]
  },
  {
   "cell_type": "markdown",
   "id": "360bf5d7-573c-4c49-b153-85563c389ef9",
   "metadata": {},
   "source": [
    "### Git keeps track of **changes** in the files in our repository."
   ]
  },
  {
   "cell_type": "markdown",
   "id": "58bca86b-7c6e-4a41-bcb7-66ce73492f9c",
   "metadata": {},
   "source": []
  },
  {
   "cell_type": "markdown",
   "id": "1aa4fbe0-252b-4c44-bddc-71a4c1125136",
   "metadata": {},
   "source": [
    "### What is a **commit**?"
   ]
  },
  {
   "cell_type": "markdown",
   "id": "aa5929c5-d214-46fa-9f23-20f7214a3f2e",
   "metadata": {},
   "source": [
    "After one makes changes, one can tell Github what changes they want to save using the \"commit to main\" button."
   ]
  },
  {
   "cell_type": "markdown",
   "id": "c758c4ea-fe8d-482d-a9d4-606d230f607c",
   "metadata": {},
   "source": [
    "### What is a **push**?"
   ]
  },
  {
   "cell_type": "markdown",
   "id": "5c4d90a5-0765-4969-a606-0df66cd1a960",
   "metadata": {},
   "source": [
    "To push means to send the committed changes into the shared repository, which allows others to view these changes too."
   ]
  },
  {
   "cell_type": "markdown",
   "id": "7510bd2a-8179-4646-a432-2ef7b74bb771",
   "metadata": {},
   "source": [
    "### What is a **pull**?"
   ]
  },
  {
   "cell_type": "markdown",
   "id": "dc39cf80-0648-4709-b50b-cfb31f6e65f9",
   "metadata": {},
   "source": [
    "To pull means to save changes from the shared repository into one's own device. "
   ]
  },
  {
   "cell_type": "markdown",
   "id": "bb82584f-bf9c-4975-a10e-04339f5236fc",
   "metadata": {},
   "source": [
    "### What is the difference between **Github** and **Github Desktop**?"
   ]
  },
  {
   "cell_type": "markdown",
   "id": "5f1cc4a2-ed8b-4a5b-8bc8-0f9c5f1f53f0",
   "metadata": {},
   "source": [
    "Github is the cloud where the repository is contained. Github Desktop allows a user to commit, push, and pull changes on their device to make changes to the repository. "
   ]
  },
  {
   "cell_type": "markdown",
   "id": "d40c2b3a-8330-43bc-a6cf-ecf3f8f18067",
   "metadata": {},
   "source": [
    "## Exercise 3 (A Matter of Statistics)"
   ]
  },
  {
   "cell_type": "markdown",
   "id": "3b4e1088-2d9e-47c6-86d7-180357494e60",
   "metadata": {},
   "source": [
    "The mean ($\\mu$), standard deviation ($\\sigma$), and Pearson correlation coefficient ($r$) are important statistical parameters. Given variables $x_{i}$ and $y_{i}$\n",
    " representing the \n",
    "$i$-th values in a dataset with $n$ pairs, use Markdown notation to write the equations for these parameters."
   ]
  },
  {
   "cell_type": "markdown",
   "id": "aed54fae-a4e1-45cc-b131-07248cf8c1e3",
   "metadata": {},
   "source": [
    "$$\n",
    "\\mu=\\dfrac{1}{n}\\sum_{i=1}^{n} x_i\n",
    "$$"
   ]
  },
  {
   "cell_type": "markdown",
   "id": "0bb6c66a-c585-42b6-a948-bc3af6cbbebf",
   "metadata": {},
   "source": [
    "$$\n",
    "\\sigma=\\sqrt{\\dfrac{1}{n}\\sum_{i=1}^{n} (x_i-\\mu)^{2}}\n",
    "$$"
   ]
  },
  {
   "cell_type": "markdown",
   "id": "3d5aee57-4166-4b4e-b892-d1f44ee18cd0",
   "metadata": {},
   "source": [
    "$$\n",
    "r=\\dfrac{\\sum_{i=1}^{n} (x_i-\\mu_{X})(y_i-\\mu_Y)}{\\sqrt{\\sum_{i=1}^{n} (x_i-\\mu_{X})^{2} \\sum_{i=1}^{n} (y_i-\\mu_{Y})^{2}}}\n",
    "$$"
   ]
  }
 ],
 "metadata": {
  "kernelspec": {
   "display_name": "Python 3 (ipykernel)",
   "language": "python",
   "name": "python3"
  },
  "language_info": {
   "codemirror_mode": {
    "name": "ipython",
    "version": 3
   },
   "file_extension": ".py",
   "mimetype": "text/x-python",
   "name": "python",
   "nbconvert_exporter": "python",
   "pygments_lexer": "ipython3",
   "version": "3.12.2"
  },
  "toc": {
   "base_numbering": 1,
   "nav_menu": {},
   "number_sections": true,
   "sideBar": true,
   "skip_h1_title": false,
   "title_cell": "Table of Contents",
   "title_sidebar": "Contents",
   "toc_cell": false,
   "toc_position": {},
   "toc_section_display": true,
   "toc_window_display": false
  },
  "vscode": {
   "interpreter": {
    "hash": "31f2aee4e71d21fbe5cf8b01ff0e069b9275f58929596ceb00d14d90e3e16cd6"
   }
  }
 },
 "nbformat": 4,
 "nbformat_minor": 5
}
