{
 "cells": [
  {
   "attachments": {},
   "cell_type": "markdown",
   "id": "123456",
   "metadata": {},
   "source": [
    "<div style=\"text-align:left;font-size:2em\"><span style=\"font-weight:bolder;font-size:1.25em\">SP2273 | Learning Portfolio</span><br><br><span style=\"font-weight:bold;color:darkred\">Loops (Good) Exercises</span></div>"
   ]
  },
  {
   "cell_type": "markdown",
   "id": "01bfb68c-0f85-489c-b5e2-1f968f8bc370",
   "metadata": {},
   "source": [
    "## Exercise 1"
   ]
  },
  {
   "cell_type": "code",
   "execution_count": null,
   "id": "9c9c33cc-010e-4c87-9dad-63749cc99ba6",
   "metadata": {},
   "outputs": [],
   "source": [
    "Exercise 1 (Make me an odd list) ☻\n",
    "\n",
    "With your knowledge of growing lists, use a for loop with range() and continue to generate a list of the squares of the odd integers from 0 to 9.\n",
    "\n",
    "Hint: You can check for ‘evenness’ using number % 2 == 0."
   ]
  },
  {
   "cell_type": "code",
   "execution_count": 1,
   "id": "60cf732d-0228-4d91-ba3c-cf63916b2ee3",
   "metadata": {},
   "outputs": [],
   "source": [
    "import numpy as np"
   ]
  },
  {
   "cell_type": "code",
   "execution_count": 13,
   "id": "aa935fa8-a4fc-465d-a007-56e1948c6c3b",
   "metadata": {},
   "outputs": [
    {
     "name": "stdout",
     "output_type": "stream",
     "text": [
      "1\n",
      "9\n",
      "25\n",
      "49\n"
     ]
    }
   ],
   "source": [
    "for odd in range (0,9):\n",
    "    if odd % 2 == 1:\n",
    "        print(odd**2)\n",
    "    "
   ]
  },
  {
   "cell_type": "markdown",
   "id": "eab72386-043f-41b0-84f4-fa3758f34b51",
   "metadata": {},
   "source": [
    "## Exercise 2"
   ]
  },
  {
   "cell_type": "code",
   "execution_count": null,
   "id": "92bb9798-7da4-4275-9534-71745785c15b",
   "metadata": {},
   "outputs": [],
   "source": [
    "Exercise 2 (Make me another odd list) ☻\n",
    "\n",
    "Redo the previous exercise using list comprehension."
   ]
  },
  {
   "cell_type": "code",
   "execution_count": 14,
   "id": "ff0fb5bb-c819-4a9e-9216-64113b516778",
   "metadata": {},
   "outputs": [
    {
     "data": {
      "text/plain": [
       "[1, 9, 25, 49]"
      ]
     },
     "execution_count": 14,
     "metadata": {},
     "output_type": "execute_result"
    }
   ],
   "source": [
    "[number**2 for number in range(9) if number % 2 ==1]"
   ]
  },
  {
   "cell_type": "markdown",
   "id": "1ce59af0-104c-4af0-90f1-d362005a720b",
   "metadata": {},
   "source": [
    "## Exercise 3"
   ]
  },
  {
   "cell_type": "code",
   "execution_count": null,
   "id": "4b5e0879-fb5e-4a68-8639-1fc05d15889f",
   "metadata": {},
   "outputs": [],
   "source": [
    "Exercise 3 (Time me!) ☻\n",
    "\n",
    "Use the cell magic command %%timeit to time the previous solutions. Which of the two is faster?"
   ]
  },
  {
   "cell_type": "code",
   "execution_count": 19,
   "id": "5eb6ff4a-dd88-43dc-8694-a07312ef316c",
   "metadata": {},
   "outputs": [
    {
     "ename": "SyntaxError",
     "evalue": "'break' outside loop (<magic-timeit-stmt>, line 4)",
     "output_type": "error",
     "traceback": [
      "Traceback \u001b[0;36m(most recent call last)\u001b[0m:\n",
      "\u001b[0m  File \u001b[1;32m/opt/miniconda3/lib/python3.12/site-packages/IPython/core/interactiveshell.py:3577\u001b[0m in \u001b[1;35mrun_code\u001b[0m\n    exec(code_obj, self.user_global_ns, self.user_ns)\u001b[0m\n",
      "\u001b[0m  Cell \u001b[1;32mIn[19], line 1\u001b[0m\n    get_ipython().run_cell_magic('timeit', '', 'for odd in range (0,9):\\n    if odd % 2 == 1:\\n        print(odd**2)\\nbreak\\n')\u001b[0m\n",
      "\u001b[0m  File \u001b[1;32m/opt/miniconda3/lib/python3.12/site-packages/IPython/core/interactiveshell.py:2541\u001b[0m in \u001b[1;35mrun_cell_magic\u001b[0m\n    result = fn(*args, **kwargs)\u001b[0m\n",
      "\u001b[0m  File \u001b[1;32m/opt/miniconda3/lib/python3.12/site-packages/IPython/core/magics/execution.py:1151\u001b[0m in \u001b[1;35mtimeit\u001b[0m\n    self.shell.compile(ast_stmt, \"<magic-timeit-stmt>\", \"exec\")\u001b[0m\n",
      "\u001b[0;36m  File \u001b[0;32m/opt/miniconda3/lib/python3.12/codeop.py:126\u001b[0;36m in \u001b[0;35m__call__\u001b[0;36m\n\u001b[0;31m    codeob = compile(source, filename, symbol, flags, True)\u001b[0;36m\n",
      "\u001b[0;36m  File \u001b[0;32m<magic-timeit-stmt>:4\u001b[0;36m\u001b[0m\n\u001b[0;31mSyntaxError\u001b[0m\u001b[0;31m:\u001b[0m 'break' outside loop\n"
     ]
    }
   ],
   "source": [
    "%%timeit\n",
    "for odd in range (0,9):\n",
    "    if odd % 2 == 1:\n",
    "        print(odd**2)"
   ]
  },
  {
   "cell_type": "code",
   "execution_count": 16,
   "id": "cfa2440b-d356-4e9c-bc2b-6383ff2d089f",
   "metadata": {},
   "outputs": [
    {
     "name": "stdout",
     "output_type": "stream",
     "text": [
      "566 ns ± 9.65 ns per loop (mean ± std. dev. of 7 runs, 1,000,000 loops each)\n"
     ]
    }
   ],
   "source": [
    "%%timeit\n",
    "[number**2 for number in range(9) if number % 2 ==1]"
   ]
  },
  {
   "cell_type": "code",
   "execution_count": null,
   "id": "4ebb870a-98e1-4842-ae2b-f70c4b2e2ebf",
   "metadata": {},
   "outputs": [],
   "source": [
    "list comprehension is faster. "
   ]
  },
  {
   "cell_type": "markdown",
   "id": "200e1fa4-59d2-43e2-bee2-dc7f695c81f4",
   "metadata": {},
   "source": [
    "## Exercise 4"
   ]
  },
  {
   "cell_type": "code",
   "execution_count": null,
   "id": "70299df2-20f5-4bdd-a316-da4537f286d8",
   "metadata": {},
   "outputs": [],
   "source": [
    "Exercise 4 (A problem of decay) ☻\n",
    "\n",
    "The initial quantity of a sample of a radioactive substance is 100 units, and it decays by 5% each year. Use a while loop to determine how long the sample will take to reduce to half its original amount."
   ]
  },
  {
   "cell_type": "code",
   "execution_count": 11,
   "id": "457735b9-4659-4828-906f-8deb413ca244",
   "metadata": {},
   "outputs": [
    {
     "name": "stdout",
     "output_type": "stream",
     "text": [
      "95.0\n",
      "90.25\n",
      "85.7375\n",
      "81.45062499999999\n",
      "77.37809374999999\n",
      "73.50918906249998\n",
      "69.83372960937498\n",
      "66.34204312890623\n",
      "63.02494097246091\n",
      "59.87369392383786\n",
      "56.880009227645964\n",
      "54.03600876626366\n",
      "51.33420832795048\n",
      "48.76749791155295\n"
     ]
    }
   ],
   "source": [
    "sample = 100\n",
    "while sample > 50:\n",
    "    sample *= 0.95\n",
    "    print(sample)"
   ]
  },
  {
   "cell_type": "code",
   "execution_count": 10,
   "id": "7e7a743a-3bcb-4844-af00-0fd6b3f241a9",
   "metadata": {},
   "outputs": [
    {
     "name": "stdout",
     "output_type": "stream",
     "text": [
      "1\n",
      "2\n",
      "3\n",
      "4\n",
      "5\n",
      "6\n",
      "7\n",
      "8\n",
      "9\n",
      "10\n",
      "11\n",
      "12\n",
      "13\n",
      "14\n"
     ]
    }
   ],
   "source": [
    "sample = 100\n",
    "years = 0\n",
    "while sample > 50:\n",
    "    sample *= 0.95\n",
    "    years += 1\n",
    "    print(years)"
   ]
  },
  {
   "cell_type": "code",
   "execution_count": null,
   "id": "fbc0868e-8779-4bb2-b974-60b720ac401c",
   "metadata": {},
   "outputs": [],
   "source": [
    "14 years."
   ]
  },
  {
   "cell_type": "markdown",
   "id": "dc65b940-9a66-472f-8f53-11f43b465771",
   "metadata": {},
   "source": [
    "## Exercise 5"
   ]
  },
  {
   "cell_type": "code",
   "execution_count": null,
   "id": "4f0091e7-ae1e-4271-a824-3008d618bdeb",
   "metadata": {},
   "outputs": [],
   "source": [
    "Exercise 5 (Changes in CO\n",
    ") ☻\n",
    "\n",
    "The following is data about atmospheric CO\n",
    " levels for several years in a (year, CO2_level) format. The units are ppm.\n",
    "\n",
    "co2_data = [\n",
    "    (2000, 369.55), (2001, 371.14), (2002, 373.28), \n",
    "    (2003, 375.80), (2004, 377.52), (2005, 379.80), \n",
    "    (2006, 381.90), (2007, 383.79), (2008, 385.60), \n",
    "    (2009, 387.43), (2010, 389.90), (2011, 391.65), \n",
    "    (2012, 393.85), (2013, 396.52), (2014, 398.65),\n",
    "    (2015, 400.83), (2016, 404.24), (2017, 406.55), \n",
    "    (2018, 408.52), (2019, 411.44), (2020, 414.24)\n",
    "]\n",
    "\n",
    "Identify those years that showed an increase of CO\n",
    " of 3 ppm or more compared to the previous year.\n",
    "Please print out these years along with the corresponding change in concentration."
   ]
  },
  {
   "cell_type": "code",
   "execution_count": 22,
   "id": "79d14a6b-638e-4a95-9f80-c69c92c027f1",
   "metadata": {},
   "outputs": [],
   "source": [
    "co2_data = [\n",
    "    (2000, 369.55), (2001, 371.14), (2002, 373.28), \n",
    "    (2003, 375.80), (2004, 377.52), (2005, 379.80), \n",
    "    (2006, 381.90), (2007, 383.79), (2008, 385.60), \n",
    "    (2009, 387.43), (2010, 389.90), (2011, 391.65), \n",
    "    (2012, 393.85), (2013, 396.52), (2014, 398.65),\n",
    "    (2015, 400.83), (2016, 404.24), (2017, 406.55), \n",
    "    (2018, 408.52), (2019, 411.44), (2020, 414.24)\n",
    "]"
   ]
  },
  {
   "cell_type": "code",
   "execution_count": 15,
   "id": "540d08df-3748-4fbb-bfe1-7ef1126e0bb8",
   "metadata": {},
   "outputs": [],
   "source": [
    "import numpy as np"
   ]
  },
  {
   "cell_type": "code",
   "execution_count": 25,
   "id": "6d2f0478-f041-44e4-927e-bd35f3cca542",
   "metadata": {},
   "outputs": [
    {
     "name": "stdout",
     "output_type": "stream",
     "text": [
      "Year: 2016, Increase: 3.41 ppm\n"
     ]
    }
   ],
   "source": [
    "for i in range(1, len(co2_data)):\n",
    "    year, co2 = co2_data[i]\n",
    "    prev_year, prev_co2 = co2_data[i - 1]\n",
    "    increase = co2 - prev_co2\n",
    "    \n",
    "    if increase >= 3:\n",
    "        print(f\"Year: {year}, Increase: {increase:.2f} ppm\")"
   ]
  }
 ],
 "metadata": {
  "kernelspec": {
   "display_name": "Python 3 (ipykernel)",
   "language": "python",
   "name": "python3"
  },
  "language_info": {
   "codemirror_mode": {
    "name": "ipython",
    "version": 3
   },
   "file_extension": ".py",
   "mimetype": "text/x-python",
   "name": "python",
   "nbconvert_exporter": "python",
   "pygments_lexer": "ipython3",
   "version": "3.12.2"
  },
  "toc": {
   "base_numbering": 1,
   "nav_menu": {},
   "number_sections": true,
   "sideBar": true,
   "skip_h1_title": false,
   "title_cell": "Table of Contents",
   "title_sidebar": "Contents",
   "toc_cell": false,
   "toc_position": {},
   "toc_section_display": true,
   "toc_window_display": false
  },
  "vscode": {
   "interpreter": {
    "hash": "31f2aee4e71d21fbe5cf8b01ff0e069b9275f58929596ceb00d14d90e3e16cd6"
   }
  }
 },
 "nbformat": 4,
 "nbformat_minor": 5
}
