{
 "cells": [
  {
   "attachments": {},
   "cell_type": "markdown",
   "id": "123456",
   "metadata": {},
   "source": [
    "<div style=\"text-align:left;font-size:2em\"><span style=\"font-weight:bolder;font-size:1.25em\">SP2273 | Learning Portfolio</span><br><br><span style=\"font-weight:bold;color:darkred\">Loops (Need) Exercises</span></div>"
   ]
  },
  {
   "cell_type": "code",
   "execution_count": null,
   "id": "c66b977d-8e65-458d-856e-70986c9b49bc",
   "metadata": {},
   "outputs": [],
   "source": []
  },
  {
   "cell_type": "code",
   "execution_count": null,
   "id": "f507cfae-8c21-4cf9-8862-2331bfc13e04",
   "metadata": {},
   "outputs": [],
   "source": [
    "Exercise 1 (Celsius to Fahrenheit) ☻\n",
    "\n",
    "You are provided with the following list of temperatures in Celsius. Write a quick Python snippet that converts each temperature to Fahrenheit and prints both temperatures as a Celsius, Fahrenheit pair.\n",
    "\n",
    "temperatures_celsius = [\n",
    "    0, 5, 10, 15, 20, 25,\n",
    "    30, 35, 40, 45, 50\n",
    "]"
   ]
  },
  {
   "cell_type": "code",
   "execution_count": 1,
   "id": "c3ad8e80-72a5-4d36-82d0-7206f1b6af2e",
   "metadata": {},
   "outputs": [],
   "source": [
    "temperatures_celsius = [\n",
    "    0, 5, 10, 15, 20, 25,\n",
    "    30, 35, 40, 45, 50\n",
    "]"
   ]
  },
  {
   "cell_type": "code",
   "execution_count": 2,
   "id": "d5166cde-b109-4920-9bcd-1f17742cfcee",
   "metadata": {},
   "outputs": [],
   "source": [
    "import numpy as np"
   ]
  },
  {
   "cell_type": "code",
   "execution_count": 3,
   "id": "2f5a45cf-eee6-4527-9db2-1e304b321ae7",
   "metadata": {},
   "outputs": [],
   "source": [
    "c = np.array(temperatures_celsius)"
   ]
  },
  {
   "cell_type": "code",
   "execution_count": 4,
   "id": "5134553e-d338-4b4d-992c-966c0c56354b",
   "metadata": {},
   "outputs": [
    {
     "data": {
      "text/plain": [
       "list"
      ]
     },
     "execution_count": 4,
     "metadata": {},
     "output_type": "execute_result"
    }
   ],
   "source": [
    "type(temperatures_celsius)"
   ]
  },
  {
   "cell_type": "code",
   "execution_count": 16,
   "id": "3bdc0ea6-f9aa-4e61-834a-33ac4b8b6035",
   "metadata": {},
   "outputs": [],
   "source": [
    "f= c * 9/5 + 32"
   ]
  },
  {
   "cell_type": "code",
   "execution_count": 17,
   "id": "56cc1293-661c-4302-bbd9-1d3668fe1f70",
   "metadata": {},
   "outputs": [
    {
     "data": {
      "text/plain": [
       "array([ 32.,  41.,  50.,  59.,  68.,  77.,  86.,  95., 104., 113., 122.])"
      ]
     },
     "execution_count": 17,
     "metadata": {},
     "output_type": "execute_result"
    }
   ],
   "source": [
    "f"
   ]
  },
  {
   "cell_type": "code",
   "execution_count": 21,
   "id": "8726af0a-bd34-4f88-b0fe-b66b535a2b14",
   "metadata": {},
   "outputs": [],
   "source": []
  },
  {
   "cell_type": "code",
   "execution_count": 18,
   "id": "402ff0e8-f4a1-468c-b034-95b44d573c02",
   "metadata": {},
   "outputs": [
    {
     "name": "stdout",
     "output_type": "stream",
     "text": [
      "32.0 pls work\n",
      "41.0 pls work\n",
      "50.0 pls work\n",
      "59.0 pls work\n",
      "68.0 pls work\n",
      "77.0 pls work\n",
      "86.0 pls work\n",
      "95.0 pls work\n",
      "104.0 pls work\n",
      "113.0 pls work\n",
      "122.0 pls work\n"
     ]
    }
   ],
   "source": [
    "for fahrenheit in f:\n",
    "    print(f\"{fahrenheit} pls work\")"
   ]
  },
  {
   "cell_type": "code",
   "execution_count": 21,
   "id": "e7faffd2-395a-433b-9294-f3d4be6eca78",
   "metadata": {},
   "outputs": [
    {
     "name": "stdout",
     "output_type": "stream",
     "text": [
      "0 : 0\n",
      "1 : 5\n",
      "2 : 10\n",
      "3 : 15\n",
      "4 : 20\n",
      "5 : 25\n",
      "6 : 30\n",
      "7 : 35\n",
      "8 : 40\n",
      "9 : 45\n",
      "10 : 50\n"
     ]
    }
   ],
   "source": [
    "for fahrenheit, celcius in enumerate(temperatures_celsius):\n",
    "    print(f'{fahrenheit} : {celcius}')"
   ]
  },
  {
   "cell_type": "markdown",
   "id": "a3d21527-4ba9-437d-a481-f6571a7f2d52",
   "metadata": {},
   "source": [
    "## EXERCISE 2"
   ]
  },
  {
   "cell_type": "code",
   "execution_count": null,
   "id": "6a09e9b5-9208-48cf-8d41-0061b7181bbb",
   "metadata": {},
   "outputs": [],
   "source": [
    "Exercise 2 (Multiplication table) ☻\n",
    "\n",
    "Example\n",
    "Task\n",
    "You can put a loop within a loop to do doubly loopy stuff. Here is an example:\n",
    "\n",
    "for letter in ['A', 'B', 'C']:\n",
    "    for number in [1, 2, 3]:\n",
    "        print(f'{letter}{number}', end='\\t')\n",
    "    print('\\n')\n",
    "\n",
    "A1  A2  A3  \n",
    "\n",
    "B1  B2  B3  \n",
    "\n",
    "C1  C2  C3  \n",
    "Try this out and explore."
   ]
  },
  {
   "cell_type": "code",
   "execution_count": 22,
   "id": "847fd7a9-8df9-4b45-b633-19c63229ac03",
   "metadata": {},
   "outputs": [
    {
     "name": "stdout",
     "output_type": "stream",
     "text": [
      "A1\tA2\tA3\t\n",
      "\n",
      "B1\tB2\tB3\t\n",
      "\n",
      "C1\tC2\tC3\t\n",
      "\n"
     ]
    }
   ],
   "source": [
    "for letter in ['A', 'B', 'C']:\n",
    "    for number in [1, 2, 3]:\n",
    "        print(f'{letter}{number}', end='\\t')\n",
    "    print('\\n')"
   ]
  },
  {
   "cell_type": "code",
   "execution_count": null,
   "id": "5393562a-7d11-4062-b8fb-2b99247ff162",
   "metadata": {},
   "outputs": [],
   "source": [
    "Write a Python snippet that prints a multiplication table (up to 5) for numbers 1 through 5 using nested for loops. The output should be formatted as shown below:\n",
    "\n",
    "1 : 1   2   3   4   5   \n",
    "2 : 2   4   6   8   10  \n",
    "3 : 3   6   9   12  15  \n",
    "4 : 4   8   12  16  20  \n",
    "5 : 5   10  15  20  25  "
   ]
  },
  {
   "cell_type": "code",
   "execution_count": 28,
   "id": "9dd5c4fa-b751-4184-aef4-79191c79d2f2",
   "metadata": {},
   "outputs": [
    {
     "name": "stdout",
     "output_type": "stream",
     "text": [
      "1\t2\t3\t4\t5\t\n",
      "\n",
      "2\t4\t6\t8\t10\t\n",
      "\n",
      "3\t6\t9\t12\t15\t\n",
      "\n",
      "4\t8\t12\t16\t20\t\n",
      "\n",
      "5\t10\t15\t20\t25\t\n",
      "\n"
     ]
    }
   ],
   "source": [
    "for number in [1,2,3,4,5]: # answer\n",
    "    for number2 in [1,2,3,4,5]:\n",
    "        print(f'{number * number2}', end = '\\t') # what does this do\n",
    "    print('\\n') # what does this do"
   ]
  },
  {
   "cell_type": "markdown",
   "id": "1612dbd1-ac52-4240-b2d1-b8dfaa713d9b",
   "metadata": {},
   "source": [
    "## exercise 3"
   ]
  },
  {
   "cell_type": "code",
   "execution_count": null,
   "id": "a68c57d1-839a-47c8-922d-4b83004f838b",
   "metadata": {},
   "outputs": [],
   "source": [
    "Exercise 3 (Simulating a Coin Flip Experiment)  \n",
    "\n",
    "Example\n",
    "Task\n",
    "Let’s use NumPy to simulate a simple experiment. NumPy has a random module that allows us to generate random numbers. We can generate 10 numbers between 0 and 1 by:\n",
    "\n",
    "np.random.rand(10)\n",
    "\n",
    "array([0.87820881, 0.51408832, 0.5028915 , 0.59833137, 0.76499243,\n",
    "       0.40666847, 0.58407205, 0.00879205, 0.54712811, 0.95816881])\n",
    "We can use this to simulate coin flips of a fair coin by considering values less than 0.5 as tails and values greater than 0.5 as heads. For example, in the above ‘experiment’ we have 8(!) heads."
   ]
  },
  {
   "cell_type": "code",
   "execution_count": 29,
   "id": "944081f0-4a4b-484e-bb2a-ce846e3e44c7",
   "metadata": {},
   "outputs": [
    {
     "data": {
      "text/plain": [
       "array([0.86629453, 0.08863468, 0.37625122, 0.63963976, 0.74732307,\n",
       "       0.56189939, 0.691126  , 0.80349803, 0.21531468, 0.06952895])"
      ]
     },
     "execution_count": 29,
     "metadata": {},
     "output_type": "execute_result"
    }
   ],
   "source": [
    "np.random.rand(10)"
   ]
  },
  {
   "cell_type": "code",
   "execution_count": 37,
   "id": "c38a7a13-445e-4aca-ae36-9c32adbb828c",
   "metadata": {},
   "outputs": [
    {
     "ename": "ValueError",
     "evalue": "The truth value of an array with more than one element is ambiguous. Use a.any() or a.all()",
     "output_type": "error",
     "traceback": [
      "\u001b[0;31m---------------------------------------------------------------------------\u001b[0m",
      "\u001b[0;31mValueError\u001b[0m                                Traceback (most recent call last)",
      "Cell \u001b[0;32mIn[37], line 1\u001b[0m\n\u001b[0;32m----> 1\u001b[0m \u001b[38;5;28;01mif\u001b[39;00m np\u001b[38;5;241m.\u001b[39mrandom\u001b[38;5;241m.\u001b[39mrand(\u001b[38;5;241m10\u001b[39m) \u001b[38;5;241m<\u001b[39m \u001b[38;5;241m0.5\u001b[39m:\n\u001b[1;32m      2\u001b[0m     \u001b[38;5;28mprint\u001b[39m(tails)\n\u001b[1;32m      3\u001b[0m \u001b[38;5;28;01melif\u001b[39;00m np\u001b[38;5;241m.\u001b[39mrandom\u001b[38;5;241m.\u001b[39mrand(\u001b[38;5;241m10\u001b[39m) \u001b[38;5;241m==\u001b[39m \u001b[38;5;241m0.5\u001b[39m:\n",
      "\u001b[0;31mValueError\u001b[0m: The truth value of an array with more than one element is ambiguous. Use a.any() or a.all()"
     ]
    }
   ],
   "source": [
    "if np.random.rand(10) < 0.5:\n",
    "    print(tails)\n",
    "elif np.random.rand(10) == 0.5:\n",
    "    print(tails)\n",
    "else: print(heads)"
   ]
  },
  {
   "cell_type": "code",
   "execution_count": 31,
   "id": "699df795-1004-4114-a17b-d5437fc49071",
   "metadata": {},
   "outputs": [],
   "source": []
  },
  {
   "cell_type": "code",
   "execution_count": 32,
   "id": "fd47d44b-91ed-4487-aee4-cbebadfed4c5",
   "metadata": {},
   "outputs": [],
   "source": []
  },
  {
   "cell_type": "code",
   "execution_count": 34,
   "id": "2be3e1fe-43cc-470e-b351-8da5386b00fb",
   "metadata": {},
   "outputs": [
    {
     "name": "stdout",
     "output_type": "stream",
     "text": [
      "[0.45353338 0.14366171 0.73762055 0.84141486 0.88809686 0.51311509\n",
      " 0.67009236 0.82679448 0.89331668 0.68877251]\n"
     ]
    }
   ],
   "source": [
    "print(coinflip)"
   ]
  },
  {
   "cell_type": "code",
   "execution_count": null,
   "id": "1bdf5803-fd9f-48f0-b6b8-882b3b742b1d",
   "metadata": {},
   "outputs": [],
   "source": [
    "Using a for loop, run this experiment 10 times and, for each iteration, print out the number of heads.\n",
    "\n",
    "Your results should look something like:\n",
    "\n",
    "Experiment  1: No. of Heads = 4\n",
    "Experiment  2: No. of Heads = 2\n",
    "Experiment  3: No. of Heads = 8\n",
    "Experiment  4: No. of Heads = 5\n",
    "Experiment  5: No. of Heads = 8\n",
    "Experiment  6: No. of Heads = 5\n",
    "Experiment  7: No. of Heads = 4\n",
    "Experiment  8: No. of Heads = 6\n",
    "Experiment  9: No. of Heads = 2\n",
    "Experiment 10: No. of Heads = 4\n",
    "Note that your numbers will not be the same as mine, because the numbers are meant to be random!"
   ]
  },
  {
   "cell_type": "code",
   "execution_count": null,
   "id": "6ec04c8d-8659-4935-bf69-9995e3686e46",
   "metadata": {},
   "outputs": [],
   "source": []
  }
 ],
 "metadata": {
  "kernelspec": {
   "display_name": "Python 3 (ipykernel)",
   "language": "python",
   "name": "python3"
  },
  "language_info": {
   "codemirror_mode": {
    "name": "ipython",
    "version": 3
   },
   "file_extension": ".py",
   "mimetype": "text/x-python",
   "name": "python",
   "nbconvert_exporter": "python",
   "pygments_lexer": "ipython3",
   "version": "3.12.2"
  },
  "toc": {
   "base_numbering": 1,
   "nav_menu": {},
   "number_sections": true,
   "sideBar": true,
   "skip_h1_title": false,
   "title_cell": "Table of Contents",
   "title_sidebar": "Contents",
   "toc_cell": false,
   "toc_position": {},
   "toc_section_display": true,
   "toc_window_display": false
  },
  "vscode": {
   "interpreter": {
    "hash": "31f2aee4e71d21fbe5cf8b01ff0e069b9275f58929596ceb00d14d90e3e16cd6"
   }
  }
 },
 "nbformat": 4,
 "nbformat_minor": 5
}
