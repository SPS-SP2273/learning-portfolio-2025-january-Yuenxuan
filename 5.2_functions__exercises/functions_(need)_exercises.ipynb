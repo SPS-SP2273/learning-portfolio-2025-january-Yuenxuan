{
 "cells": [
  {
   "attachments": {},
   "cell_type": "markdown",
   "id": "123456",
   "metadata": {},
   "source": [
    "<div style=\"text-align:left;font-size:2em\"><span style=\"font-weight:bolder;font-size:1.25em\">SP2273 | Learning Portfolio</span><br><br><span style=\"font-weight:bold;color:darkred\">Functions (Need) Exercises</span></div>"
   ]
  },
  {
   "cell_type": "markdown",
   "id": "b56e4e96-f76f-4680-b251-050a0bb06fdb",
   "metadata": {},
   "source": [
    "## Exercise 1"
   ]
  },
  {
   "cell_type": "code",
   "execution_count": null,
   "id": "3cd5993e-caac-4b19-943a-3bd5a78d8b8a",
   "metadata": {},
   "outputs": [],
   "source": [
    "The following code works as expected despite not having an else statement. Please use a Markdown cell to explain why?\n",
    "\n",
    "def greeting(name):\n",
    "    if name == 'Batman':\n",
    "        return 'Hello Batman! So, nice to meet you!'\n",
    "    return f'Hello {name}!'"
   ]
  },
  {
   "cell_type": "code",
   "execution_count": null,
   "id": "0ec209df-7989-46c4-9912-3d4c811e5935",
   "metadata": {},
   "outputs": [],
   "source": [
    "When Python sees the return keyword it jumps out of the function with the return value. Thus, the code still works without the else statement."
   ]
  },
  {
   "cell_type": "markdown",
   "id": "6b7d2c6c-ced2-40f2-ab33-00b93f2f1f4c",
   "metadata": {},
   "source": [
    "## Exercise 2"
   ]
  },
  {
   "cell_type": "code",
   "execution_count": null,
   "id": "43ca7209-c6c2-489f-8c24-a9663d071159",
   "metadata": {},
   "outputs": [],
   "source": [
    "Write a Python function named calculate_bmi.\n",
    "\n",
    "The function should take two parameters:\n",
    "weight (in kilograms) and height (in meters).\n",
    "The function should calculate the BMI (Body Mass Index) using the formula BMI = weight / (height ** 2).\n",
    "Based on the calculated BMI, the function should return a string indicating the BMI category based on the following criteria:\n",
    "Category\tBMI Range\n",
    "Underweight\tBMI less than 18.5\n",
    "Normal weight\tBMI between 18.5 and 24.9\n",
    "Overweight\tBMI between 25 and 29.9\n",
    "Obese\tBMI 30 or more"
   ]
  },
  {
   "cell_type": "code",
   "execution_count": 1,
   "id": "bd554fa2-92b6-4474-b465-0a58960ca8f0",
   "metadata": {},
   "outputs": [],
   "source": [
    "import numpy as np"
   ]
  },
  {
   "cell_type": "code",
   "execution_count": 19,
   "id": "a42b76c9-175a-4512-a333-597441f5214f",
   "metadata": {},
   "outputs": [],
   "source": [
    "def calculate_bmi(weight,height): # is there a better way to do this instead of keying in the formula for each line?\n",
    "    if 0 <= weight / (height ** 2) <= 18.5:\n",
    "        return 'Underweight'\n",
    "    elif 18.6 <= weight / (height ** 2) <= 24.9:\n",
    "        return 'Normal weight'\n",
    "    elif 25<= weight / (height ** 2) <= 29.9:\n",
    "        return 'Overweight'\n",
    "    elif weight / (height ** 2) >= 30:\n",
    "        return 'Obese'\n",
    "    else: \n",
    "        return 'Error'\n",
    "    "
   ]
  },
  {
   "cell_type": "code",
   "execution_count": 20,
   "id": "7e2f4f36-3bca-4885-b7c6-99fdc0ed006a",
   "metadata": {},
   "outputs": [
    {
     "data": {
      "text/plain": [
       "'Normal weight'"
      ]
     },
     "execution_count": 20,
     "metadata": {},
     "output_type": "execute_result"
    }
   ],
   "source": [
    "calculate_bmi(55,1.69)"
   ]
  },
  {
   "cell_type": "markdown",
   "id": "851c243b-4887-41ce-90ca-23195c3d3625",
   "metadata": {},
   "source": [
    "## Exercise 3"
   ]
  },
  {
   "cell_type": "code",
   "execution_count": null,
   "id": "d1d77922-be98-4bc2-97f2-e869e5f934fa",
   "metadata": {},
   "outputs": [],
   "source": [
    "Exercise 3 (Factorials) Write a function that accepts an integer n and returns its factorial. \n",
    "Ensure that your function gracefully handles negative numbers."
   ]
  },
  {
   "cell_type": "code",
   "execution_count": 46,
   "id": "8d6f5fcc-18d6-4710-8acc-f5b96e2b5425",
   "metadata": {},
   "outputs": [],
   "source": [
    "def factorial(n):\n",
    "    if n > 0:\n",
    "        result = 1\n",
    "        for number in range(1,n+1): # what is \"gracefully handle negative numbers???\"\n",
    "            result *= number \n",
    "        return result\n",
    "    elif n == 0:\n",
    "        return '1'\n",
    "    else:\n",
    "        return 'Please key in a positive number'"
   ]
  },
  {
   "cell_type": "code",
   "execution_count": 47,
   "id": "1645de99-31ea-494e-ad5f-a6044f859d0d",
   "metadata": {},
   "outputs": [
    {
     "data": {
      "text/plain": [
       "24"
      ]
     },
     "execution_count": 47,
     "metadata": {},
     "output_type": "execute_result"
    }
   ],
   "source": [
    "factorial(4)"
   ]
  },
  {
   "cell_type": "code",
   "execution_count": 48,
   "id": "7eedeb42-5430-4c34-b885-0396277230f1",
   "metadata": {},
   "outputs": [
    {
     "data": {
      "text/plain": [
       "'Please key in a positive number'"
      ]
     },
     "execution_count": 48,
     "metadata": {},
     "output_type": "execute_result"
    }
   ],
   "source": [
    "factorial(-2)"
   ]
  }
 ],
 "metadata": {
  "kernelspec": {
   "display_name": "Python 3 (ipykernel)",
   "language": "python",
   "name": "python3"
  },
  "language_info": {
   "codemirror_mode": {
    "name": "ipython",
    "version": 3
   },
   "file_extension": ".py",
   "mimetype": "text/x-python",
   "name": "python",
   "nbconvert_exporter": "python",
   "pygments_lexer": "ipython3",
   "version": "3.12.2"
  },
  "toc": {
   "base_numbering": 1,
   "nav_menu": {},
   "number_sections": true,
   "sideBar": true,
   "skip_h1_title": false,
   "title_cell": "Table of Contents",
   "title_sidebar": "Contents",
   "toc_cell": false,
   "toc_position": {},
   "toc_section_display": true,
   "toc_window_display": false
  },
  "vscode": {
   "interpreter": {
    "hash": "31f2aee4e71d21fbe5cf8b01ff0e069b9275f58929596ceb00d14d90e3e16cd6"
   }
  }
 },
 "nbformat": 4,
 "nbformat_minor": 5
}
