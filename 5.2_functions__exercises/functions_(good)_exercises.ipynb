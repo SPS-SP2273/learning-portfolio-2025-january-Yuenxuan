{
 "cells": [
  {
   "attachments": {},
   "cell_type": "markdown",
   "id": "123456",
   "metadata": {},
   "source": [
    "<div style=\"text-align:left;font-size:2em\"><span style=\"font-weight:bolder;font-size:1.25em\">SP2273 | Learning Portfolio</span><br><br><span style=\"font-weight:bold;color:darkred\">Functions (Good) Exercises</span></div>"
   ]
  },
  {
   "cell_type": "markdown",
   "id": "4f8d6cd0-3971-47db-8e19-23a96d80c228",
   "metadata": {},
   "source": [
    "## Exercise 1"
   ]
  },
  {
   "cell_type": "code",
   "execution_count": null,
   "id": "5a541001-9797-4cba-9072-cea3b4e52327",
   "metadata": {},
   "outputs": [],
   "source": [
    "Exercise 1 (Celsius to Fahrenheit or Kelvin) ☻\n",
    "\n",
    "Develop a function named convert_celsius() to convert temperatures from Celsius to either Fahrenheit or Kelvin.\n",
    "The function should take two arguments:\n",
    "temperature_celsius: The temperature in Celsius.\n",
    "target_scale (string): The target scale for conversion, with the default value set to 'Fahrenheit'.\n",
    "The function should return the temperature in Kelvin if target_scale is 'Kelvin'; otherwise, it should return the temperature in Fahrenheit."
   ]
  },
  {
   "cell_type": "code",
   "execution_count": 1,
   "id": "294720f5-1664-4571-a4a2-85332736a6bc",
   "metadata": {},
   "outputs": [],
   "source": [
    "def greeting(name):\n",
    "    if name == 'Batman':\n",
    "        return 'Hello Batman! So, nice to meet you!' #Ignore, testing\n",
    "    else:\n",
    "        return f'Hello {name}!'"
   ]
  },
  {
   "cell_type": "code",
   "execution_count": 5,
   "id": "452bb393-b3fd-4a70-b5f0-cfc031542c0f",
   "metadata": {},
   "outputs": [
    {
     "data": {
      "text/plain": [
       "'Hello Batman! So, nice to meet you!'"
      ]
     },
     "execution_count": 5,
     "metadata": {},
     "output_type": "execute_result"
    }
   ],
   "source": [
    "greeting('Batman')"
   ]
  },
  {
   "cell_type": "code",
   "execution_count": 22,
   "id": "e62be352-810e-47be-8c64-942952fd31ba",
   "metadata": {},
   "outputs": [],
   "source": [
    "def convert_celcius(temperature_celsius, target_scale = 'Fahrenheit'): # answer. target_scale = 'Fahrenheit' is how to set default\n",
    "    if target_scale == 'Fahrenheit':\n",
    "        return temperature_celsius * 9/5 + 32\n",
    "    elif target_scale == 'Kelvin':\n",
    "        return temperature_celsius + 273.15 \n",
    "    else: 'please key in Fahrenheit or Kelvin'"
   ]
  },
  {
   "cell_type": "code",
   "execution_count": 23,
   "id": "27d7a345-3d8e-439d-9698-ea7bb5c611e6",
   "metadata": {},
   "outputs": [
    {
     "data": {
      "text/plain": [
       "39.2"
      ]
     },
     "execution_count": 23,
     "metadata": {},
     "output_type": "execute_result"
    }
   ],
   "source": [
    "convert_celcius(4) #with default, one does not need to key in anything, and it will defualt to specified pathway"
   ]
  },
  {
   "cell_type": "code",
   "execution_count": 24,
   "id": "1dd89a4a-56f1-4508-9b04-15fca7bab7d3",
   "metadata": {},
   "outputs": [
    {
     "data": {
      "text/plain": [
       "277.15"
      ]
     },
     "execution_count": 24,
     "metadata": {},
     "output_type": "execute_result"
    }
   ],
   "source": [
    "convert_celcius(4,'Kelvin')"
   ]
  },
  {
   "cell_type": "markdown",
   "id": "c4d207b7-cb18-426f-afd6-363821284a81",
   "metadata": {},
   "source": [
    "## Exercise 2"
   ]
  },
  {
   "cell_type": "code",
   "execution_count": null,
   "id": "45afe3f1-5175-4ee4-827c-32481e6a6872",
   "metadata": {},
   "outputs": [],
   "source": [
    "Exercise 2 (Fahrenheit to Celsius or Kelvin) ☻\n",
    "\n",
    "Develop a function called convert_fahrenheit() for converting temperatures from Fahrenheit to either Celsius or Kelvin.\n",
    "The function should take two arguments:\n",
    "temperature_fahrenheit: The temperature in Fahrenheit.\n",
    "target_scale (string): The target scale for conversion, defaulting to 'Celsius'.\n",
    "The function should return the temperature in Kelvin if target_scale is 'Kelvin'; otherwise, return it in Celsius."
   ]
  },
  {
   "cell_type": "code",
   "execution_count": 27,
   "id": "05538fe3-6f25-45c9-a621-75821bcbc741",
   "metadata": {},
   "outputs": [],
   "source": [
    "def convert_fahrenheit(temperature_fahrenheit, target_scale='Celsius'): # answer. wait how do i set default?? wait what does the question want even.\n",
    "    if target_scale == 'Celsius':\n",
    "        return (temperature_fahrenheit - 32) * 5/9\n",
    "    elif target_scale == 'Kelvin':\n",
    "        return (temperature_fahrenheit - 32) * 5/9 + 273.15 \n",
    "    else: 'please key in Celsius or Kelvin'"
   ]
  },
  {
   "cell_type": "code",
   "execution_count": 28,
   "id": "e938cb35-e711-4778-843b-794d41e5371b",
   "metadata": {},
   "outputs": [
    {
     "data": {
      "text/plain": [
       "-14.444444444444445"
      ]
     },
     "execution_count": 28,
     "metadata": {},
     "output_type": "execute_result"
    }
   ],
   "source": [
    "convert_fahrenheit(6)"
   ]
  },
  {
   "cell_type": "code",
   "execution_count": 29,
   "id": "b642bfe8-db2e-408e-ae26-6ac961c8d478",
   "metadata": {},
   "outputs": [
    {
     "data": {
      "text/plain": [
       "258.7055555555555"
      ]
     },
     "execution_count": 29,
     "metadata": {},
     "output_type": "execute_result"
    }
   ],
   "source": [
    "convert_fahrenheit(6,'Kelvin')"
   ]
  },
  {
   "cell_type": "markdown",
   "id": "1f4677c3-d474-478a-aeda-b7a54f0e8fb4",
   "metadata": {},
   "source": [
    "## Exercise 3"
   ]
  },
  {
   "cell_type": "code",
   "execution_count": null,
   "id": "04aeb7df-47e7-4af1-a6a7-cf5f341cc2bd",
   "metadata": {},
   "outputs": [],
   "source": [
    "Exercise 3 (General Temperature Conversion) ☻\n",
    "\n",
    "Implement a function named convert_temperature() to perform general temperature conversions.\n",
    "The function should take three arguments:\n",
    "temperature: The temperature to be converted.\n",
    "source_scale (string): The scale of the input temperature (either 'Celsius', 'Fahrenheit', or 'Kelvin').\n",
    "target_scale (string): The desired scale for the output temperature.\n",
    "Remember to reuse your previous functions!"
   ]
  },
  {
   "cell_type": "code",
   "execution_count": 30,
   "id": "a576923d-f280-4f51-885f-3a64d3469fa5",
   "metadata": {},
   "outputs": [],
   "source": [
    "def convert_kelvin(temperature_kelvin, target_scale='Celsius'): # answer. wait how do i set default?? wait what does the question want even.\n",
    "    if target_scale == 'Celsius':\n",
    "        return temperature_kelvin - 273.15\n",
    "    elif target_scale == 'Fahrenheit':\n",
    "        return (temperature_kelvin - 273.15) *  9/5 + 32 \n",
    "    else: 'please key in Celsius or Fahrenheit'"
   ]
  },
  {
   "cell_type": "code",
   "execution_count": 33,
   "id": "831b2d79-40c2-4cc1-b5f1-c1663176152a",
   "metadata": {},
   "outputs": [
    {
     "data": {
      "text/plain": [
       "-270.15"
      ]
     },
     "execution_count": 33,
     "metadata": {},
     "output_type": "execute_result"
    }
   ],
   "source": [
    "convert_kelvin(3)"
   ]
  },
  {
   "cell_type": "code",
   "execution_count": 34,
   "id": "e4326c26-69ac-4ecb-8f9c-0bdd36be208c",
   "metadata": {},
   "outputs": [],
   "source": [
    "def convert_temperature(temperature, source_scale, target_scale):\n",
    "    if source_scale == 'Celsius':\n",
    "        if target_scale == 'Fahrenheit':\n",
    "            return convert_celcius(temperature)\n",
    "        if target_scale == 'Kelvin':\n",
    "            return convert_celcius(temperature,'Kelvin')\n",
    "    elif source_scale == 'Fahrenheit':\n",
    "        if target_scale == 'Celcius':\n",
    "            return convert_fahrenheit(temperature)\n",
    "        if target_scale == 'Kelvin':\n",
    "            return convert_fahrenheit(temperature,'Kelvin')\n",
    "    elif source_scale == 'Kelvin':\n",
    "        if target_scale == 'Celcius':\n",
    "            return convert_kelvin(temperature)\n",
    "        if target_scale == 'Fahrenheit':\n",
    "            return convert_kelvin(temperature,'Fahrenheit')"
   ]
  },
  {
   "cell_type": "code",
   "execution_count": 35,
   "id": "c9b16f62-817a-4312-b783-7e24fd761854",
   "metadata": {},
   "outputs": [
    {
     "data": {
      "text/plain": [
       "277.15"
      ]
     },
     "execution_count": 35,
     "metadata": {},
     "output_type": "execute_result"
    }
   ],
   "source": [
    "convert_temperature(4,'Celsius','Kelvin')"
   ]
  },
  {
   "cell_type": "code",
   "execution_count": 36,
   "id": "1ea78d35-b5b7-42c9-82db-439585941dda",
   "metadata": {},
   "outputs": [
    {
     "data": {
      "text/plain": [
       "4.0"
      ]
     },
     "execution_count": 36,
     "metadata": {},
     "output_type": "execute_result"
    }
   ],
   "source": [
    "convert_temperature(277.15,'Kelvin','Celcius') #OMG I DID IT"
   ]
  }
 ],
 "metadata": {
  "kernelspec": {
   "display_name": "Python 3 (ipykernel)",
   "language": "python",
   "name": "python3"
  },
  "language_info": {
   "codemirror_mode": {
    "name": "ipython",
    "version": 3
   },
   "file_extension": ".py",
   "mimetype": "text/x-python",
   "name": "python",
   "nbconvert_exporter": "python",
   "pygments_lexer": "ipython3",
   "version": "3.12.2"
  },
  "toc": {
   "base_numbering": 1,
   "nav_menu": {},
   "number_sections": true,
   "sideBar": true,
   "skip_h1_title": false,
   "title_cell": "Table of Contents",
   "title_sidebar": "Contents",
   "toc_cell": false,
   "toc_position": {},
   "toc_section_display": true,
   "toc_window_display": false
  },
  "vscode": {
   "interpreter": {
    "hash": "31f2aee4e71d21fbe5cf8b01ff0e069b9275f58929596ceb00d14d90e3e16cd6"
   }
  }
 },
 "nbformat": 4,
 "nbformat_minor": 5
}
