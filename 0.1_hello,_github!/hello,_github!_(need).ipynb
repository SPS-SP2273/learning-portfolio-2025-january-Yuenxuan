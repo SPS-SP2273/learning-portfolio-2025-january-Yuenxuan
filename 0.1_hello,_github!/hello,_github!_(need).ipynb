{
 "cells": [
  {
   "attachments": {},
   "cell_type": "markdown",
   "id": "123456",
   "metadata": {},
   "source": [
    "<div style=\"text-align:left;font-size:2em\"><span style=\"font-weight:bolder;font-size:1.25em\">SP2273 | Learning Portfolio</span><br><br><span style=\"font-weight:bold;color:darkred\">Hello, GitHub! (Need)</span></div>"
   ]
  },
  {
   "attachments": {},
   "cell_type": "markdown",
   "id": "2fc8f779",
   "metadata": {},
   "source": [
    "# Setting up GitHub Classroom"
   ]
  },
  {
   "attachments": {},
   "cell_type": "markdown",
   "id": "824e4f9c",
   "metadata": {},
   "source": [
    "### Create an account with GitHub"
   ]
  },
  {
   "cell_type": "code",
   "execution_count": null,
   "id": "0d3a48fe",
   "metadata": {},
   "outputs": [],
   "source": [
    "\n",
    "# Your code here hello world\n"
   ]
  },
  {
   "attachments": {},
   "cell_type": "markdown",
   "id": "5594e9f7",
   "metadata": {},
   "source": [
    "### Link to 73 GitHub Classroom"
   ]
  },
  {
   "cell_type": "code",
   "execution_count": null,
   "id": "0fdc32a3",
   "metadata": {},
   "outputs": [],
   "source": [
    "\n",
    "# Your code here\n"
   ]
  },
  {
   "attachments": {},
   "cell_type": "markdown",
   "id": "5c9e1359",
   "metadata": {},
   "source": [
    "### Enabling ReviewNB"
   ]
  },
  {
   "cell_type": "code",
   "execution_count": null,
   "id": "d6668fe1",
   "metadata": {},
   "outputs": [],
   "source": [
    "\n",
    "# Your code here\n"
   ]
  },
  {
   "attachments": {},
   "cell_type": "markdown",
   "id": "7eeb7f5b",
   "metadata": {},
   "source": [
    "### Setting up your local environment with GitHub Desktop"
   ]
  },
  {
   "cell_type": "code",
   "execution_count": null,
   "id": "1b1031aa",
   "metadata": {},
   "outputs": [],
   "source": [
    "\n",
    "# Your code here\n"
   ]
  },
  {
   "attachments": {},
   "cell_type": "markdown",
   "id": "31514661",
   "metadata": {},
   "source": [
    "# Using Git & GitHub"
   ]
  },
  {
   "attachments": {},
   "cell_type": "markdown",
   "id": "22f4bd6c",
   "metadata": {},
   "source": [
    "### Recording changes with GitHub"
   ]
  },
  {
   "cell_type": "code",
   "execution_count": null,
   "id": "2c58f72d",
   "metadata": {},
   "outputs": [],
   "source": [
    "\n",
    "# Your code here\n"
   ]
  },
  {
   "attachments": {},
   "cell_type": "markdown",
   "id": "5b5a0395",
   "metadata": {},
   "source": [
    "### Pushing Changes to GitHub"
   ]
  },
  {
   "cell_type": "code",
   "execution_count": null,
   "id": "7fce87f5",
   "metadata": {},
   "outputs": [],
   "source": [
    "\n",
    "# Your code here\n"
   ]
  },
  {
   "attachments": {},
   "cell_type": "markdown",
   "id": "b06938bb",
   "metadata": {},
   "source": [
    "### Pulling Changes from GitHub"
   ]
  },
  {
   "cell_type": "code",
   "execution_count": null,
   "id": "90314c68",
   "metadata": {},
   "outputs": [],
   "source": [
    "\n",
    "# Your code here\n"
   ]
  },
  {
   "attachments": {},
   "cell_type": "markdown",
   "id": "c0ed45eb",
   "metadata": {},
   "source": [
    "## Footnotes"
   ]
  }
 ],
 "metadata": {
  "kernelspec": {
   "display_name": "Python 3 (ipykernel)",
   "language": "python",
   "name": "python3"
  },
  "language_info": {
   "codemirror_mode": {
    "name": "ipython",
    "version": 3
   },
   "file_extension": ".py",
   "mimetype": "text/x-python",
   "name": "python",
   "nbconvert_exporter": "python",
   "pygments_lexer": "ipython3",
   "version": "3.12.2"
  },
  "toc": {
   "base_numbering": 1,
   "nav_menu": {},
   "number_sections": true,
   "sideBar": true,
   "skip_h1_title": false,
   "title_cell": "Table of Contents",
   "title_sidebar": "Contents",
   "toc_cell": false,
   "toc_position": {},
   "toc_section_display": true,
   "toc_window_display": false
  },
  "vscode": {
   "interpreter": {
    "hash": "31f2aee4e71d21fbe5cf8b01ff0e069b9275f58929596ceb00d14d90e3e16cd6"
   }
  }
 },
 "nbformat": 4,
 "nbformat_minor": 5
}
