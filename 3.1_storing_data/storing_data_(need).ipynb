{
 "cells": [
  {
   "attachments": {},
   "cell_type": "markdown",
   "id": "123456",
   "metadata": {},
   "source": [
    "<div style=\"text-align:left;font-size:2em\"><span style=\"font-weight:bolder;font-size:1.25em\">SP2273 | Learning Portfolio</span><br><br><span style=\"font-weight:bold;color:darkred\">Storing Data (Need)</span></div>"
   ]
  },
  {
   "attachments": {},
   "cell_type": "markdown",
   "id": "c7c0c8b1",
   "metadata": {},
   "source": [
    "# What to expect in this chapter"
   ]
  },
  {
   "attachments": {},
   "cell_type": "markdown",
   "id": "eae3067a",
   "metadata": {},
   "source": [
    "# 1 Lists, Arrays & Dictionaries"
   ]
  },
  {
   "cell_type": "code",
   "execution_count": null,
   "id": "b569a2ea-eaf1-49c0-b522-d19e2a498fd0",
   "metadata": {},
   "outputs": [],
   "source": [
    "list = [1,2,3,4,5]. # never use list as a variable, because it is a function"
   ]
  },
  {
   "cell_type": "code",
   "execution_count": 1,
   "id": "8a7947ed-de76-4bf6-9a37-c8e6f5b758fa",
   "metadata": {},
   "outputs": [],
   "source": [
    "py_list= [1,2,3,4,5]"
   ]
  },
  {
   "cell_type": "code",
   "execution_count": null,
   "id": "0f0b1b02-9907-4c33-9f99-863a1f998061",
   "metadata": {},
   "outputs": [],
   "source": [
    "list() # nooooooo!!"
   ]
  },
  {
   "cell_type": "code",
   "execution_count": 2,
   "id": "fe204541-b666-441f-9077-93f1490ff42e",
   "metadata": {},
   "outputs": [],
   "source": [
    "import numpy as np"
   ]
  },
  {
   "cell_type": "code",
   "execution_count": 6,
   "id": "04cacc73-9b1a-41e6-9ddb-1b0ef70a1d45",
   "metadata": {},
   "outputs": [],
   "source": [
    "py_list= [1,2,3,4,5]"
   ]
  },
  {
   "cell_type": "code",
   "execution_count": 7,
   "id": "e31efda4-a306-4cb8-810c-0754510219e8",
   "metadata": {},
   "outputs": [],
   "source": [
    "np_array = np.array(py_list)"
   ]
  },
  {
   "cell_type": "raw",
   "id": "d6afe099-4182-486f-9128-43c5dedb94ec",
   "metadata": {},
   "source": [
    "np_array"
   ]
  },
  {
   "cell_type": "code",
   "execution_count": null,
   "id": "c971b39d-5130-4b66-91fe-c2e0be663003",
   "metadata": {},
   "outputs": [],
   "source": []
  },
  {
   "attachments": {},
   "cell_type": "markdown",
   "id": "d439fb90",
   "metadata": {},
   "source": [
    "## 1.1 Let’s compare"
   ]
  },
  {
   "attachments": {},
   "cell_type": "markdown",
   "id": "5cb1b823",
   "metadata": {},
   "source": [
    "## 1.2 Accessing data from a list (or array)"
   ]
  },
  {
   "cell_type": "code",
   "execution_count": null,
   "id": "c0f7ba49-8b0d-4784-9bd8-3e261316d79b",
   "metadata": {},
   "outputs": [],
   "source": [
    "py_list= [1,2,3,4,5]\n",
    "np_array = np.array([1,2,3,4,5])"
   ]
  },
  {
   "cell_type": "code",
   "execution_count": null,
   "id": "30f12579-e6ce-45a0-a6e1-58c25cb8d850",
   "metadata": {},
   "outputs": [],
   "source": [
    "py_list + 1 # noo use np\n"
   ]
  },
  {
   "cell_type": "code",
   "execution_count": 8,
   "id": "0f609c6d-9dfc-43f4-b57c-f1cfb514562f",
   "metadata": {},
   "outputs": [
    {
     "data": {
      "text/plain": [
       "[1, 2, 3, 4, 5, 1, 2, 3, 4, 5]"
      ]
     },
     "execution_count": 8,
     "metadata": {},
     "output_type": "execute_result"
    }
   ],
   "source": [
    "py_list*2 #give two copies of the list"
   ]
  },
  {
   "cell_type": "code",
   "execution_count": 9,
   "id": "1776ae0f-5686-4a3f-b0c3-6e0768120511",
   "metadata": {},
   "outputs": [
    {
     "data": {
      "text/plain": [
       "array([ 2,  4,  6,  8, 10])"
      ]
     },
     "execution_count": 9,
     "metadata": {},
     "output_type": "execute_result"
    }
   ],
   "source": [
    "np_array*2 #give values of list times two"
   ]
  },
  {
   "cell_type": "code",
   "execution_count": 10,
   "id": "496659f4-e31f-4bef-b4c8-f9d7856d5c21",
   "metadata": {},
   "outputs": [
    {
     "data": {
      "text/plain": [
       "array([ 1,  4,  9, 16, 25])"
      ]
     },
     "execution_count": 10,
     "metadata": {},
     "output_type": "execute_result"
    }
   ],
   "source": [
    "np_array**2"
   ]
  },
  {
   "cell_type": "code",
   "execution_count": null,
   "id": "28876eb6-e47d-4c84-b992-2dcaaa0163fe",
   "metadata": {},
   "outputs": [],
   "source": [
    "if you wann achnage py_list, do this: py_list=py_list*2"
   ]
  },
  {
   "cell_type": "code",
   "execution_count": null,
   "id": "4a16d802-af58-4ce3-93f2-d2d2cbee9863",
   "metadata": {},
   "outputs": [],
   "source": [
    "py_list*=2 # is faster"
   ]
  },
  {
   "cell_type": "code",
   "execution_count": 11,
   "id": "f3aaed75-62c0-4d25-b256-28c5a06c3cf2",
   "metadata": {},
   "outputs": [
    {
     "data": {
      "text/plain": [
       "5"
      ]
     },
     "execution_count": 11,
     "metadata": {},
     "output_type": "execute_result"
    }
   ],
   "source": [
    "len(np_array)"
   ]
  },
  {
   "cell_type": "code",
   "execution_count": 12,
   "id": "106fbe72-64bf-41f7-91ba-13a3ca5b8e3c",
   "metadata": {},
   "outputs": [
    {
     "data": {
      "text/plain": [
       "(5,)"
      ]
     },
     "execution_count": 12,
     "metadata": {},
     "output_type": "execute_result"
    }
   ],
   "source": [
    "np_array.shape"
   ]
  },
  {
   "attachments": {},
   "cell_type": "markdown",
   "id": "8fccdaf6",
   "metadata": {},
   "source": [
    "## 1.3 Accessing data from a dictionary"
   ]
  },
  {
   "attachments": {},
   "cell_type": "markdown",
   "id": "630b8c58",
   "metadata": {},
   "source": [
    "## 1.4 Higher dimensional lists"
   ]
  },
  {
   "attachments": {},
   "cell_type": "markdown",
   "id": "c1491fb5",
   "metadata": {},
   "source": [
    "# 2 Lists vs. Arrays"
   ]
  },
  {
   "attachments": {},
   "cell_type": "markdown",
   "id": "2627ae89",
   "metadata": {},
   "source": [
    "## 2.1 Size"
   ]
  },
  {
   "cell_type": "code",
   "execution_count": 13,
   "id": "6de39c78-43fd-4b60-9cad-e0d948ac5876",
   "metadata": {},
   "outputs": [
    {
     "data": {
      "text/plain": [
       "5"
      ]
     },
     "execution_count": 13,
     "metadata": {},
     "output_type": "execute_result"
    }
   ],
   "source": [
    "len(np_array)"
   ]
  },
  {
   "cell_type": "code",
   "execution_count": 14,
   "id": "0a0a35bb-7105-4b5a-a3b5-84dde8fb9c98",
   "metadata": {},
   "outputs": [
    {
     "data": {
      "text/plain": [
       "(5,)"
      ]
     },
     "execution_count": 14,
     "metadata": {},
     "output_type": "execute_result"
    }
   ],
   "source": [
    "np_array.shape"
   ]
  },
  {
   "attachments": {},
   "cell_type": "markdown",
   "id": "1937fbea",
   "metadata": {},
   "source": [
    "## 2.2 Arrays are fussy about type"
   ]
  },
  {
   "cell_type": "code",
   "execution_count": 15,
   "id": "aca57047-68b9-4c81-8eb9-2092f07835a8",
   "metadata": {},
   "outputs": [
    {
     "data": {
      "text/plain": [
       "True"
      ]
     },
     "execution_count": 15,
     "metadata": {},
     "output_type": "execute_result"
    }
   ],
   "source": [
    "'a' in ['a','b','c']"
   ]
  },
  {
   "cell_type": "code",
   "execution_count": 18,
   "id": "ca6093e6-5bb4-4820-8b1c-e284942d374d",
   "metadata": {},
   "outputs": [
    {
     "data": {
      "text/plain": [
       "array([62, 39, 56, 70, 64, 24, 46, 40,  8, 93, 34, 58, 18, 61, 76, 73, 36,\n",
       "       63,  2, 38, 40, 83,  0,  8, 89, 44, 31, 70, 68, 39, 32, 80, 39, 98,\n",
       "       90, 30, 14, 73, 65, 16, 43, 91, 73, 81, 95, 48, 85, 32, 50, 67,  0,\n",
       "        7, 92, 46, 91, 20, 32, 15, 40,  1,  1,  2, 79, 54, 65,  2, 72, 71,\n",
       "       46, 32, 74, 14,  2, 72, 97, 18, 44, 73, 84, 60, 14, 29, 24, 31, 68,\n",
       "       78, 33, 65, 79, 71, 60, 20, 40, 43, 53, 98, 78, 93, 20, 42])"
      ]
     },
     "execution_count": 18,
     "metadata": {},
     "output_type": "execute_result"
    }
   ],
   "source": [
    "np.random.randint(0,100,100)"
   ]
  },
  {
   "cell_type": "code",
   "execution_count": 19,
   "id": "c4d5b5e0-2107-48cf-afab-a2082919089a",
   "metadata": {},
   "outputs": [],
   "source": [
    "my_rand_numbers= np.random.randint(0,100,100)"
   ]
  },
  {
   "cell_type": "code",
   "execution_count": 20,
   "id": "bfd94951-8dc9-49a3-a43d-cf25b0c13712",
   "metadata": {},
   "outputs": [
    {
     "data": {
      "text/plain": [
       "array([False,  True, False,  True, False, False,  True, False,  True,\n",
       "        True, False,  True, False,  True,  True, False,  True, False,\n",
       "        True, False,  True, False, False,  True,  True,  True, False,\n",
       "       False, False, False, False,  True, False, False, False, False,\n",
       "       False,  True, False,  True,  True,  True, False,  True,  True,\n",
       "        True, False,  True,  True,  True,  True,  True,  True, False,\n",
       "        True,  True, False,  True,  True,  True, False,  True,  True,\n",
       "       False, False,  True, False, False,  True,  True,  True,  True,\n",
       "       False, False, False, False,  True,  True,  True, False, False,\n",
       "        True, False, False,  True,  True, False, False,  True, False,\n",
       "        True,  True, False, False, False, False,  True, False, False,\n",
       "        True])"
      ]
     },
     "execution_count": 20,
     "metadata": {},
     "output_type": "execute_result"
    }
   ],
   "source": [
    "my_rand_numbers < 50"
   ]
  },
  {
   "cell_type": "code",
   "execution_count": 22,
   "id": "a402a0f9-d04c-414c-9196-91af2e950463",
   "metadata": {},
   "outputs": [],
   "source": [
    "mask = my_rand_numbers < 50"
   ]
  },
  {
   "cell_type": "code",
   "execution_count": 23,
   "id": "bf284f37-0c95-443b-a0cf-08a3919d71ba",
   "metadata": {},
   "outputs": [
    {
     "data": {
      "text/plain": [
       "array([17, 24, 26, 41, 22, 31, 32, 27, 16, 35, 29, 33, 23, 20, 15, 24, 37,\n",
       "       43, 27, 23, 33, 26,  2, 29, 33, 11, 17, 17, 15, 38,  3,  1, 35, 13,\n",
       "       39, 39,  3, 46, 17, 21, 47, 43, 12, 29, 32,  4, 45, 44,  0, 26, 29])"
      ]
     },
     "execution_count": 23,
     "metadata": {},
     "output_type": "execute_result"
    }
   ],
   "source": [
    "my_rand_numbers[mask]"
   ]
  },
  {
   "cell_type": "code",
   "execution_count": null,
   "id": "8c997ffe-093b-48e0-bfb0-aeaf934bfc49",
   "metadata": {},
   "outputs": [],
   "source": [
    "(my_rand_numbers%2==0)  # to find even numbers --> % yields the remainder when the first operand is divided by the second"
   ]
  },
  {
   "cell_type": "code",
   "execution_count": null,
   "id": "1d8b31f7-51cb-4027-9058-c3a4f0be05aa",
   "metadata": {},
   "outputs": [],
   "source": [
    "(my_rand_numbers%2==1) # to find odd"
   ]
  },
  {
   "cell_type": "code",
   "execution_count": 48,
   "id": "46455f07-d30b-4d48-ad3f-dfb66fdbff34",
   "metadata": {},
   "outputs": [],
   "source": [
    "mask = (my_rand_numbers < 50) & (my_rand_numbers%2==0) #use and symbol to combine!!!"
   ]
  },
  {
   "cell_type": "code",
   "execution_count": 49,
   "id": "c3a38cd4-de06-4551-ab4f-8ce986e7d370",
   "metadata": {},
   "outputs": [
    {
     "data": {
      "text/plain": [
       "array([24, 26, 22, 32, 16, 20, 24, 26,  2, 38, 46, 12, 32,  4, 44,  0, 26])"
      ]
     },
     "execution_count": 49,
     "metadata": {},
     "output_type": "execute_result"
    }
   ],
   "source": [
    "my_rand_numbers[mask] # [] is for elipse, masking and lists {} is for f string or dictionary"
   ]
  },
  {
   "cell_type": "code",
   "execution_count": 50,
   "id": "b9325f1d-fbec-48a9-9774-011cde17c349",
   "metadata": {},
   "outputs": [],
   "source": [
    "mask = (my_rand_numbers < 50) | (my_rand_numbers%2==0) # or"
   ]
  },
  {
   "cell_type": "code",
   "execution_count": 51,
   "id": "88e93886-978a-453b-9ef8-d0842979c4d6",
   "metadata": {},
   "outputs": [
    {
     "data": {
      "text/plain": [
       "array([72, 17, 82, 24, 58, 26, 41, 22, 60, 31, 32, 27, 16, 35, 29, 88, 33,\n",
       "       23, 20, 66, 96, 58, 15, 98, 90, 24, 86, 37, 43, 27, 68, 23, 33, 26,\n",
       "       62,  2, 29, 33, 11, 17, 17, 15, 38, 72,  3,  1, 35, 76, 13, 39, 39,\n",
       "       60, 62,  3, 46, 17, 21, 84, 47, 43, 12, 29, 74, 32,  4, 54, 90, 45,\n",
       "       44,  0, 84, 72, 62, 76, 26, 70, 29])"
      ]
     },
     "execution_count": 51,
     "metadata": {},
     "output_type": "execute_result"
    }
   ],
   "source": [
    "my_rand_numbers[mask]"
   ]
  },
  {
   "cell_type": "code",
   "execution_count": 34,
   "id": "f3eb4b7d-c747-4131-a22d-c0261e98933c",
   "metadata": {},
   "outputs": [
    {
     "data": {
      "text/plain": [
       "array([72, 17, 82, 24, 79, 58, 26, 81, 41, 22, 60, 31, 81, 32, 27, 71, 16,\n",
       "       77, 35, 55, 29, 73, 88, 33, 23, 20, 66, 69, 67, 96, 58, 15, 98, 87,\n",
       "       93, 55, 90, 24, 86, 37, 43, 27, 68, 23, 33, 26, 62,  2, 29, 33, 11,\n",
       "       17, 17, 59, 15, 38, 72,  3,  1, 35, 76, 13, 39, 69, 59, 39, 60, 62,\n",
       "        3, 46, 17, 21, 77, 84, 73, 79, 47, 43, 12, 87, 53, 29, 74, 57, 32,\n",
       "        4, 54, 90, 45, 51, 44,  0, 84, 72, 62, 76, 26, 91, 70, 29])"
      ]
     },
     "execution_count": 34,
     "metadata": {},
     "output_type": "execute_result"
    }
   ],
   "source": [
    "my_rand_numbers"
   ]
  },
  {
   "cell_type": "code",
   "execution_count": 35,
   "id": "00fd96a6-1d7d-4b02-b1e3-37dad5001728",
   "metadata": {},
   "outputs": [
    {
     "data": {
      "text/plain": [
       "np.int64(82)"
      ]
     },
     "execution_count": 35,
     "metadata": {},
     "output_type": "execute_result"
    }
   ],
   "source": [
    "my_rand_numbers[2] #finds number in the second position"
   ]
  },
  {
   "cell_type": "code",
   "execution_count": 36,
   "id": "bb5345ab-4030-4e7e-a7b6-5961365faf99",
   "metadata": {},
   "outputs": [],
   "source": []
  },
  {
   "attachments": {},
   "cell_type": "markdown",
   "id": "ed297d90",
   "metadata": {},
   "source": [
    "## 2.3 Adding a number"
   ]
  },
  {
   "attachments": {},
   "cell_type": "markdown",
   "id": "cf68170f",
   "metadata": {},
   "source": [
    "## 2.4 Adding another list"
   ]
  },
  {
   "cell_type": "code",
   "execution_count": null,
   "id": "51e8df58-eb95-4411-8b63-2c9c36b96a8b",
   "metadata": {},
   "outputs": [],
   "source": [
    "py_2d_list = [[1,2,3],[4,5,6],[7,8,9]]"
   ]
  },
  {
   "cell_type": "code",
   "execution_count": 37,
   "id": "bf953e0f-7f2e-4c28-aa15-1810394d7a9c",
   "metadata": {},
   "outputs": [
    {
     "data": {
      "text/plain": [
       "[1, 2, 3]"
      ]
     },
     "execution_count": 37,
     "metadata": {},
     "output_type": "execute_result"
    }
   ],
   "source": [
    "py_2d_list[0]"
   ]
  },
  {
   "cell_type": "code",
   "execution_count": 38,
   "id": "ff739d08-2a57-4948-be65-40a98fde1c15",
   "metadata": {},
   "outputs": [],
   "source": [
    "py_2d_list = [[1, 'A'],[2,'B']]\n",
    "np_2d_list = np.array(py_2d_list)"
   ]
  },
  {
   "cell_type": "code",
   "execution_count": 39,
   "id": "1a279a14-e20f-4c15-81a8-37ce0643b541",
   "metadata": {},
   "outputs": [
    {
     "data": {
      "text/plain": [
       "[[1, 'A'], [2, 'B']]"
      ]
     },
     "execution_count": 39,
     "metadata": {},
     "output_type": "execute_result"
    }
   ],
   "source": [
    "py_2d_list #py list allows multiple types "
   ]
  },
  {
   "cell_type": "code",
   "execution_count": 40,
   "id": "fd1d4635-4c00-45c9-b1ab-2b41df8fea20",
   "metadata": {},
   "outputs": [
    {
     "data": {
      "text/plain": [
       "array([['1', 'A'],\n",
       "       ['2', 'B']], dtype='<U21')"
      ]
     },
     "execution_count": 40,
     "metadata": {},
     "output_type": "execute_result"
    }
   ],
   "source": [
    "np_2d_list #np arrays dont tolerate different types, \n",
    "#it only allows one type : optimised to do array operations, \n",
    "#if hv diff types of numbers it Will slow down, so it will create everything to the same type eg, 1 --> '1', \n",
    "#instead of just 1 in py_list"
   ]
  },
  {
   "cell_type": "code",
   "execution_count": 41,
   "id": "b352eaba-fdbf-4e6b-a806-64f9b59eb0b6",
   "metadata": {},
   "outputs": [
    {
     "data": {
      "text/plain": [
       "'A'"
      ]
     },
     "execution_count": 41,
     "metadata": {},
     "output_type": "execute_result"
    }
   ],
   "source": [
    "py_2d_list[0][1] #if you want just A"
   ]
  },
  {
   "cell_type": "code",
   "execution_count": 42,
   "id": "ee88d975-80c7-4305-b184-0c434721afb5",
   "metadata": {},
   "outputs": [
    {
     "data": {
      "text/plain": [
       "np.str_('A')"
      ]
     },
     "execution_count": 42,
     "metadata": {},
     "output_type": "execute_result"
    }
   ],
   "source": [
    "np_2d_list[0,]"
   ]
  },
  {
   "cell_type": "code",
   "execution_count": 52,
   "id": "cf6f6578-26e2-4392-8fa0-0dcbee287615",
   "metadata": {},
   "outputs": [
    {
     "data": {
      "text/plain": [
       "[[2, 'B']]"
      ]
     },
     "execution_count": 52,
     "metadata": {},
     "output_type": "execute_result"
    }
   ],
   "source": [
    "py_2d_list[1:4]"
   ]
  },
  {
   "cell_type": "code",
   "execution_count": 53,
   "id": "3228fa0e-61db-4b78-b7fe-b7c5a93d70d6",
   "metadata": {},
   "outputs": [
    {
     "data": {
      "text/plain": [
       "array(['A', 'B'], dtype='<U21')"
      ]
     },
     "execution_count": 53,
     "metadata": {},
     "output_type": "execute_result"
    }
   ],
   "source": [
    "np_2d_list[0:4,1] #comparing first pos of each list point"
   ]
  },
  {
   "cell_type": "code",
   "execution_count": 55,
   "id": "d968e2e4-fc2a-44a0-8d4f-241fc210cc59",
   "metadata": {},
   "outputs": [
    {
     "data": {
      "text/plain": [
       "array([1, 8])"
      ]
     },
     "execution_count": 55,
     "metadata": {},
     "output_type": "execute_result"
    }
   ],
   "source": [
    "np_2d_list[:,0].astype(int)**3"
   ]
  },
  {
   "cell_type": "code",
   "execution_count": null,
   "id": "005a2d5c-0d24-4767-842f-2d50eb312943",
   "metadata": {},
   "outputs": [],
   "source": [
    "py_list[3:6] #will give values in list frm 3rd to 6th pos"
   ]
  },
  {
   "cell_type": "code",
   "execution_count": null,
   "id": "ccc2935a-5a39-4489-9265-46a148d8ccc6",
   "metadata": {},
   "outputs": [],
   "source": [
    "py_list[-1::1] #last element to the end, last element inclusive"
   ]
  },
  {
   "attachments": {},
   "cell_type": "markdown",
   "id": "ed01fce5",
   "metadata": {},
   "source": [
    "## 2.5 Multiplying by a Number"
   ]
  },
  {
   "attachments": {},
   "cell_type": "markdown",
   "id": "9ff9d821",
   "metadata": {},
   "source": [
    "## 2.6 Squaring"
   ]
  },
  {
   "attachments": {},
   "cell_type": "markdown",
   "id": "60e36e99",
   "metadata": {},
   "source": [
    "## 2.7 Asking questions"
   ]
  },
  {
   "attachments": {},
   "cell_type": "markdown",
   "id": "0d4a9b33",
   "metadata": {},
   "source": [
    "## 2.8 Mathematics"
   ]
  },
  {
   "cell_type": "markdown",
   "id": "5a90d9b5-f552-4ec2-b040-ad7e2fb84f30",
   "metadata": {},
   "source": [
    "# dictionary"
   ]
  },
  {
   "cell_type": "code",
   "execution_count": 44,
   "id": "fcf69b4e-aaf3-4704-9d0b-636651ec5ac3",
   "metadata": {},
   "outputs": [],
   "source": [
    "py_super_names = [\"Black Widow\", \"Iron Man\", \"Doctor Strange\"]\n",
    "py_real_names = [\"Natasha Romanoff\", \"Tony Stark\", \"Stephen Strange\"]\n",
    "\n",
    "np_super_names = np.array([\"Black Widow\", \"Iron Man\", \"Doctor Strange\"])\n",
    "np_real_names = np.array([\"Natasha Romanoff\", \"Tony Stark\", \"Stephen Strange\"])\n",
    "\n",
    "superhero_info = {\n",
    "    \"Natasha Romanoff\": [\"Black Widow\", \"Johannson\"],\n",
    "    \"Tony Stark\": \"Iron Man\",\n",
    "    \"Stephen Strange\": \"Doctor Strange\"\n",
    "}"
   ]
  },
  {
   "cell_type": "code",
   "execution_count": 47,
   "id": "d5e5d1fb-4bfe-4ab5-bd2d-8bc32e184c23",
   "metadata": {},
   "outputs": [
    {
     "data": {
      "text/plain": [
       "['Black Widow', 'Johannson']"
      ]
     },
     "execution_count": 47,
     "metadata": {},
     "output_type": "execute_result"
    }
   ],
   "source": [
    "superhero_info['Natasha Romanoff']"
   ]
  },
  {
   "attachments": {},
   "cell_type": "markdown",
   "id": "267ab0a0",
   "metadata": {},
   "source": [
    "## Footnotes"
   ]
  }
 ],
 "metadata": {
  "kernelspec": {
   "display_name": "Python 3 (ipykernel)",
   "language": "python",
   "name": "python3"
  },
  "language_info": {
   "codemirror_mode": {
    "name": "ipython",
    "version": 3
   },
   "file_extension": ".py",
   "mimetype": "text/x-python",
   "name": "python",
   "nbconvert_exporter": "python",
   "pygments_lexer": "ipython3",
   "version": "3.12.2"
  },
  "toc": {
   "base_numbering": 1,
   "nav_menu": {},
   "number_sections": true,
   "sideBar": true,
   "skip_h1_title": false,
   "title_cell": "Table of Contents",
   "title_sidebar": "Contents",
   "toc_cell": false,
   "toc_position": {},
   "toc_section_display": true,
   "toc_window_display": false
  },
  "vscode": {
   "interpreter": {
    "hash": "31f2aee4e71d21fbe5cf8b01ff0e069b9275f58929596ceb00d14d90e3e16cd6"
   }
  }
 },
 "nbformat": 4,
 "nbformat_minor": 5
}
