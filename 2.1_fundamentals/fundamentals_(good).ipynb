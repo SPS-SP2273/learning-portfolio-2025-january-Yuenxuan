{
 "cells": [
  {
   "attachments": {},
   "cell_type": "markdown",
   "id": "123456",
   "metadata": {},
   "source": [
    "<div style=\"text-align:left;font-size:2em\"><span style=\"font-weight:bolder;font-size:1.25em\">SP2273 | Learning Portfolio</span><br><br><span style=\"font-weight:bold;color:darkred\">Fundamentals (Good)</span></div>"
   ]
  },
  {
   "attachments": {},
   "cell_type": "markdown",
   "id": "91c0c4a3",
   "metadata": {},
   "source": [
    "# What to expect in this chapter"
   ]
  },
  {
   "cell_type": "code",
   "execution_count": 1,
   "id": "d930ba46-df5a-49d9-b68b-0fa10f1d3ef0",
   "metadata": {},
   "outputs": [],
   "source": [
    "import numpy as np"
   ]
  },
  {
   "cell_type": "code",
   "execution_count": 5,
   "id": "5f1aaaea-1893-47c9-a61b-c992b99109db",
   "metadata": {},
   "outputs": [],
   "source": [
    "x32=np.sqrt(2, dtype=np.float32)"
   ]
  },
  {
   "cell_type": "code",
   "execution_count": 6,
   "id": "434b16c6-ce28-4d6b-b44b-feb7975b09e8",
   "metadata": {},
   "outputs": [
    {
     "data": {
      "text/plain": [
       "np.float32(1.4142135)"
      ]
     },
     "execution_count": 6,
     "metadata": {},
     "output_type": "execute_result"
    }
   ],
   "source": [
    "x32"
   ]
  },
  {
   "cell_type": "code",
   "execution_count": 7,
   "id": "18d0b103-21a6-4d00-8e41-f765c92c23dc",
   "metadata": {},
   "outputs": [
    {
     "data": {
      "text/plain": [
       "numpy.float32"
      ]
     },
     "execution_count": 7,
     "metadata": {},
     "output_type": "execute_result"
    }
   ],
   "source": [
    "type(x32)"
   ]
  },
  {
   "cell_type": "code",
   "execution_count": 8,
   "id": "8c7317e2-4dbc-4800-b17f-40adb990bcee",
   "metadata": {},
   "outputs": [
    {
     "data": {
      "text/plain": [
       "str"
      ]
     },
     "execution_count": 8,
     "metadata": {},
     "output_type": "execute_result"
    }
   ],
   "source": [
    "type('age')"
   ]
  },
  {
   "cell_type": "code",
   "execution_count": 9,
   "id": "b5f591ea-4c8f-4469-b645-354b9ba6c17c",
   "metadata": {},
   "outputs": [
    {
     "data": {
      "text/plain": [
       "float"
      ]
     },
     "execution_count": 9,
     "metadata": {},
     "output_type": "execute_result"
    }
   ],
   "source": [
    "type(1.5)"
   ]
  },
  {
   "attachments": {},
   "cell_type": "markdown",
   "id": "f845e3b6",
   "metadata": {},
   "source": [
    "# 1 There is more to if"
   ]
  },
  {
   "cell_type": "code",
   "execution_count": 10,
   "id": "e8791686-4040-4403-a1be-aff2de10f788",
   "metadata": {},
   "outputs": [
    {
     "name": "stdout",
     "output_type": "stream",
     "text": [
      "101010\n"
     ]
    }
   ],
   "source": [
    "x=10\n",
    "if x==10:\n",
    "    # true block\n",
    "    print('10'*3)\n",
    "else:\n",
    "    # false block\n",
    "    print('not 10')\n",
    "\n",
    "    print('Madness')\n"
   ]
  },
  {
   "attachments": {},
   "cell_type": "markdown",
   "id": "f26197da",
   "metadata": {},
   "source": [
    "# 2 Asking questions"
   ]
  },
  {
   "cell_type": "code",
   "execution_count": 13,
   "id": "5e4aad7c-42e7-4376-9cca-551e5f9e6a9d",
   "metadata": {},
   "outputs": [
    {
     "data": {
      "text/plain": [
       "False"
      ]
     },
     "execution_count": 13,
     "metadata": {},
     "output_type": "execute_result"
    }
   ],
   "source": [
    "4==5"
   ]
  },
  {
   "cell_type": "code",
   "execution_count": 16,
   "id": "d829e7c1-ee5e-4f81-8954-6f00a58db4c9",
   "metadata": {},
   "outputs": [
    {
     "ename": "SyntaxError",
     "evalue": "cannot assign to literal (3773635313.py, line 1)",
     "output_type": "error",
     "traceback": [
      "\u001b[0;36m  Cell \u001b[0;32mIn[16], line 1\u001b[0;36m\u001b[0m\n\u001b[0;31m    4 => 5\u001b[0m\n\u001b[0m    ^\u001b[0m\n\u001b[0;31mSyntaxError\u001b[0m\u001b[0;31m:\u001b[0m cannot assign to literal\n"
     ]
    }
   ],
   "source": [
    "4 => 5"
   ]
  },
  {
   "cell_type": "code",
   "execution_count": 17,
   "id": "20180a1e-d992-4038-800f-c3f0ca291816",
   "metadata": {},
   "outputs": [
    {
     "data": {
      "text/plain": [
       "False"
      ]
     },
     "execution_count": 17,
     "metadata": {},
     "output_type": "execute_result"
    }
   ],
   "source": [
    "(x < 5) and (x > 8)"
   ]
  },
  {
   "cell_type": "code",
   "execution_count": 18,
   "id": "6c938661-0602-4643-a0af-40fb8839147b",
   "metadata": {},
   "outputs": [
    {
     "data": {
      "text/plain": [
       "True"
      ]
     },
     "execution_count": 18,
     "metadata": {},
     "output_type": "execute_result"
    }
   ],
   "source": [
    "'apple' in ['apple','pear','chocolate']"
   ]
  },
  {
   "cell_type": "code",
   "execution_count": 19,
   "id": "e3d62581-94bc-4008-81dc-62fabfe4759e",
   "metadata": {},
   "outputs": [
    {
     "data": {
      "text/plain": [
       "'O'"
      ]
     },
     "execution_count": 19,
     "metadata": {},
     "output_type": "execute_result"
    }
   ],
   "source": [
    "chr(79)"
   ]
  },
  {
   "attachments": {},
   "cell_type": "markdown",
   "id": "630c540b",
   "metadata": {},
   "source": [
    "## 2.1 Asking Math questions"
   ]
  },
  {
   "attachments": {},
   "cell_type": "markdown",
   "id": "96000f32",
   "metadata": {},
   "source": [
    "# 3 Python stores information in different formats or types"
   ]
  },
  {
   "attachments": {},
   "cell_type": "markdown",
   "id": "27e79cba",
   "metadata": {},
   "source": [
    "# 4 Never compare floats directly"
   ]
  },
  {
   "cell_type": "code",
   "execution_count": 20,
   "id": "6088bee9-8c90-439d-b0ae-767cef907063",
   "metadata": {},
   "outputs": [],
   "source": [
    "a=.1\n",
    "a3=.3 #dont use decimal!"
   ]
  },
  {
   "cell_type": "code",
   "execution_count": 21,
   "id": "689163f9-a9ea-4f38-b90b-59bf072bef3a",
   "metadata": {},
   "outputs": [
    {
     "data": {
      "text/plain": [
       "False"
      ]
     },
     "execution_count": 21,
     "metadata": {},
     "output_type": "execute_result"
    }
   ],
   "source": [
    "a3==3*a"
   ]
  },
  {
   "cell_type": "code",
   "execution_count": 24,
   "id": "67686a9e-8dac-458d-9c90-6d9d259553a9",
   "metadata": {},
   "outputs": [
    {
     "name": "stdout",
     "output_type": "stream",
     "text": [
      "0.29999999999999999\n"
     ]
    }
   ],
   "source": [
    "print(f'{a3:0.17f}') # cannot store decimals and floats exactly (0.__ --> __ is the number of dp u want)"
   ]
  },
  {
   "cell_type": "code",
   "execution_count": 31,
   "id": "251c5500-d51b-4602-9cc5-03316ed442c3",
   "metadata": {},
   "outputs": [
    {
     "name": "stdout",
     "output_type": "stream",
     "text": [
      "0.30000\n"
     ]
    }
   ],
   "source": [
    "print(f'{a3:0.5f}')"
   ]
  },
  {
   "cell_type": "code",
   "execution_count": 25,
   "id": "ae662a19-c63d-440a-9153-eef6e7859b84",
   "metadata": {},
   "outputs": [
    {
     "data": {
      "text/plain": [
       "-5.551115123125783e-17"
      ]
     },
     "execution_count": 25,
     "metadata": {},
     "output_type": "execute_result"
    }
   ],
   "source": [
    "a3-3*a"
   ]
  },
  {
   "cell_type": "code",
   "execution_count": 28,
   "id": "a173887f-bee5-4694-ab62-0e483889b35d",
   "metadata": {},
   "outputs": [
    {
     "data": {
      "text/plain": [
       "True"
      ]
     },
     "execution_count": 28,
     "metadata": {},
     "output_type": "execute_result"
    }
   ],
   "source": [
    "abs(a3-3*a) < 1e-15 # if difference is very very small, just take it as correct"
   ]
  },
  {
   "cell_type": "code",
   "execution_count": 30,
   "id": "eae52926-2694-4d82-8f84-22c265030104",
   "metadata": {},
   "outputs": [
    {
     "data": {
      "text/plain": [
       "np.True_"
      ]
     },
     "execution_count": 30,
     "metadata": {},
     "output_type": "execute_result"
    }
   ],
   "source": [
    "np.isclose(a3,3*a)"
   ]
  },
  {
   "cell_type": "code",
   "execution_count": 32,
   "id": "f0ce4fe5-8e92-4391-928c-d233679a2517",
   "metadata": {},
   "outputs": [],
   "source": [
    "x=np.array([.3], dtype=np.float16)"
   ]
  },
  {
   "cell_type": "code",
   "execution_count": 37,
   "id": "da265172-6d34-44b1-bf53-469979dad687",
   "metadata": {},
   "outputs": [
    {
     "name": "stdout",
     "output_type": "stream",
     "text": [
      "0.30000000000\n"
     ]
    }
   ],
   "source": [
    "print(f'{a3:0.11f}')"
   ]
  },
  {
   "attachments": {},
   "cell_type": "markdown",
   "id": "19054e5d",
   "metadata": {},
   "source": [
    "## 4.1 The Problem"
   ]
  },
  {
   "attachments": {},
   "cell_type": "markdown",
   "id": "51b78ade",
   "metadata": {},
   "source": [
    "## 4.2 A solution"
   ]
  },
  {
   "attachments": {},
   "cell_type": "markdown",
   "id": "321d0c16",
   "metadata": {},
   "source": [
    "# 5 Combining English and variables"
   ]
  },
  {
   "cell_type": "code",
   "execution_count": 45,
   "id": "51faec6a-25dd-4424-b7e8-c11259fc4ddc",
   "metadata": {},
   "outputs": [],
   "source": [
    "yuh=10\n",
    "nah=10000"
   ]
  },
  {
   "cell_type": "code",
   "execution_count": 40,
   "id": "2e8b4a09-498e-4b63-bc70-82f1970399f4",
   "metadata": {},
   "outputs": [
    {
     "name": "stdout",
     "output_type": "stream",
     "text": [
      "My age is         10\n"
     ]
    }
   ],
   "source": [
    "print(f'My age is {yuh:10d}') #d help align stuff "
   ]
  },
  {
   "cell_type": "code",
   "execution_count": 46,
   "id": "6fd27e54-1af8-4c58-926f-8e7d805d5556",
   "metadata": {},
   "outputs": [
    {
     "name": "stdout",
     "output_type": "stream",
     "text": [
      "My age is                   10\n",
      "My age is                10000\n"
     ]
    }
   ],
   "source": [
    "print(f'My age is {yuh:20d}')\n",
    "print(f'My age is {nah:20d}')"
   ]
  },
  {
   "attachments": {},
   "cell_type": "markdown",
   "id": "4ed59c1b",
   "metadata": {},
   "source": [
    "## 5.1 Structure of f-strings"
   ]
  },
  {
   "cell_type": "code",
   "execution_count": 48,
   "id": "570ca558-bad3-494b-a20a-a9ca4a2619bb",
   "metadata": {},
   "outputs": [
    {
     "ename": "SyntaxError",
     "evalue": "unterminated f-string literal (detected at line 1) (373775206.py, line 1)",
     "output_type": "error",
     "traceback": [
      "\u001b[0;36m  Cell \u001b[0;32mIn[48], line 1\u001b[0;36m\u001b[0m\n\u001b[0;31m    f'HAHAHA {'age'}\u001b[0m\n\u001b[0m    ^\u001b[0m\n\u001b[0;31mSyntaxError\u001b[0m\u001b[0;31m:\u001b[0m unterminated f-string literal (detected at line 1)\n"
     ]
    }
   ],
   "source": [
    "f'HAHAHA {'age'}"
   ]
  },
  {
   "cell_type": "code",
   "execution_count": 49,
   "id": "fec3c612-a7e5-4514-beac-d5c394c08111",
   "metadata": {},
   "outputs": [
    {
     "data": {
      "text/plain": [
       "'This is an English sentance 00100. Just for fun {}'"
      ]
     },
     "execution_count": 49,
     "metadata": {},
     "output_type": "execute_result"
    }
   ],
   "source": [
    "x=100\n",
    "f'This is an English sentance {x:05d}. Just for fun {{}}'"
   ]
  },
  {
   "attachments": {},
   "cell_type": "markdown",
   "id": "758812ad",
   "metadata": {},
   "source": [
    "# 6 Escape sequences"
   ]
  },
  {
   "attachments": {},
   "cell_type": "markdown",
   "id": "d2a791df",
   "metadata": {},
   "source": [
    "## 6.1 Self-documenting f-strings"
   ]
  },
  {
   "cell_type": "code",
   "execution_count": 50,
   "id": "635ee8db-d699-4027-ac00-d1d9cabfad86",
   "metadata": {},
   "outputs": [
    {
     "data": {
      "text/plain": [
       "'This is x=100'"
      ]
     },
     "execution_count": 50,
     "metadata": {},
     "output_type": "execute_result"
    }
   ],
   "source": [
    "f'This is {x=}'"
   ]
  },
  {
   "attachments": {},
   "cell_type": "markdown",
   "id": "f0e78058",
   "metadata": {},
   "source": [
    "# 7 Computers read = from Right to Left!"
   ]
  },
  {
   "cell_type": "code",
   "execution_count": 51,
   "id": "ea71d14c-0d80-43b0-8bab-af8dfc696f3a",
   "metadata": {},
   "outputs": [
    {
     "data": {
      "text/plain": [
       "42"
      ]
     },
     "execution_count": 51,
     "metadata": {},
     "output_type": "execute_result"
    }
   ],
   "source": [
    "x=40\n",
    "x=x+2\n",
    "x"
   ]
  },
  {
   "cell_type": "code",
   "execution_count": 52,
   "id": "5a8acdbc-4c38-43d6-8ee2-226d92158fda",
   "metadata": {},
   "outputs": [
    {
     "data": {
      "text/plain": [
       "42"
      ]
     },
     "execution_count": 52,
     "metadata": {},
     "output_type": "execute_result"
    }
   ],
   "source": [
    "x=40\n",
    "x+=2\n",
    "x"
   ]
  },
  {
   "attachments": {},
   "cell_type": "markdown",
   "id": "b6754fdf",
   "metadata": {},
   "source": [
    "# 8 Shorter and Cleaner Code"
   ]
  },
  {
   "cell_type": "markdown",
   "id": "069ec521-03fa-4c4d-a517-3ddc9c5bedbd",
   "metadata": {},
   "source": [
    "# solution for ax^2+bx+c=0\n",
    "y=-b+sqrt(b**2-4a*c)\n",
    "y/=2*a"
   ]
  },
  {
   "cell_type": "code",
   "execution_count": null,
   "id": "2a378270-e710-4a48-b07f-3a8dfea1661d",
   "metadata": {},
   "outputs": [],
   "source": [
    "x=15 # x is the age of a student"
   ]
  },
  {
   "cell_type": "markdown",
   "id": "1e7c68c8-2e67-405c-9bbe-f76ff0562d14",
   "metadata": {},
   "source": [
    "years = 1\n",
    "age_of_student=15*years # put units!"
   ]
  },
  {
   "cell_type": "code",
   "execution_count": null,
   "id": "4a897d44-ed13-4cc9-9134-541cc85a64b8",
   "metadata": {},
   "outputs": [],
   "source": [
    "# if you need help, can go to stackoverflow.com ! (like a quora page)"
   ]
  },
  {
   "attachments": {},
   "cell_type": "markdown",
   "id": "1a26f682",
   "metadata": {},
   "source": [
    "# 9 Python can be a prima-donna."
   ]
  },
  {
   "attachments": {},
   "cell_type": "markdown",
   "id": "50bec075",
   "metadata": {},
   "source": [
    "# 10 Best Practices for Scientific Computing"
   ]
  },
  {
   "attachments": {},
   "cell_type": "markdown",
   "id": "28dd7070",
   "metadata": {},
   "source": [
    "# 11 Looking for help"
   ]
  },
  {
   "attachments": {},
   "cell_type": "markdown",
   "id": "8bc0aa17",
   "metadata": {},
   "source": [
    "## References"
   ]
  },
  {
   "attachments": {},
   "cell_type": "markdown",
   "id": "304647c5",
   "metadata": {},
   "source": [
    "## Footnotes"
   ]
  }
 ],
 "metadata": {
  "kernelspec": {
   "display_name": "Python 3 (ipykernel)",
   "language": "python",
   "name": "python3"
  },
  "language_info": {
   "codemirror_mode": {
    "name": "ipython",
    "version": 3
   },
   "file_extension": ".py",
   "mimetype": "text/x-python",
   "name": "python",
   "nbconvert_exporter": "python",
   "pygments_lexer": "ipython3",
   "version": "3.12.2"
  },
  "toc": {
   "base_numbering": 1,
   "nav_menu": {},
   "number_sections": true,
   "sideBar": true,
   "skip_h1_title": false,
   "title_cell": "Table of Contents",
   "title_sidebar": "Contents",
   "toc_cell": false,
   "toc_position": {},
   "toc_section_display": true,
   "toc_window_display": false
  },
  "vscode": {
   "interpreter": {
    "hash": "31f2aee4e71d21fbe5cf8b01ff0e069b9275f58929596ceb00d14d90e3e16cd6"
   }
  }
 },
 "nbformat": 4,
 "nbformat_minor": 5
}
