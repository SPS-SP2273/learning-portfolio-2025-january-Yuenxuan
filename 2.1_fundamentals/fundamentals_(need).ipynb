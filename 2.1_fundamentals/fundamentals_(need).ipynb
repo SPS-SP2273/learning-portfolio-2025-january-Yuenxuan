{
 "cells": [
  {
   "attachments": {},
   "cell_type": "markdown",
   "id": "123456",
   "metadata": {},
   "source": [
    "<div style=\"text-align:left;font-size:2em\"><span style=\"font-weight:bolder;font-size:1.25em\">SP2273 | Learning Portfolio</span><br><br><span style=\"font-weight:bold;color:darkred\">Fundamentals (Need)</span></div>"
   ]
  },
  {
   "attachments": {},
   "cell_type": "markdown",
   "id": "a0f2efe5",
   "metadata": {},
   "source": [
    "# What to expect in this chapter"
   ]
  },
  {
   "attachments": {},
   "cell_type": "markdown",
   "id": "dcbe9361",
   "metadata": {},
   "source": [
    "# 1 Functions"
   ]
  },
  {
   "cell_type": "code",
   "execution_count": 5,
   "id": "b4b510e7-a996-430a-8377-ac0ef6dadd32",
   "metadata": {},
   "outputs": [
    {
     "name": "stdout",
     "output_type": "stream",
     "text": [
      "Help on built-in function print in module builtins:\n",
      "\n",
      "print(*args, sep=' ', end='\\n', file=None, flush=False)\n",
      "    Prints the values to a stream, or to sys.stdout by default.\n",
      "\n",
      "    sep\n",
      "      string inserted between values, default a space.\n",
      "    end\n",
      "      string appended after the last value, default a newline.\n",
      "    file\n",
      "      a file-like object (stream); defaults to the current sys.stdout.\n",
      "    flush\n",
      "      whether to forcibly flush the stream.\n",
      "\n"
     ]
    }
   ],
   "source": [
    "help(print)"
   ]
  },
  {
   "cell_type": "code",
   "execution_count": 6,
   "id": "c7ad6715-3648-48ab-b088-782645ff8a92",
   "metadata": {},
   "outputs": [
    {
     "name": "stdout",
     "output_type": "stream",
     "text": [
      "yyyyyyeeeeeehhhhhh\n"
     ]
    }
   ],
   "source": [
    "print('yyyyyy', 'hhhhhh', sep='eeeeee')"
   ]
  },
  {
   "cell_type": "code",
   "execution_count": 7,
   "id": "c6aeeb4c-aa7d-4190-a86e-c2b434d1b033",
   "metadata": {},
   "outputs": [],
   "source": [
    "def noooo():\n",
    "    print('not useful')"
   ]
  },
  {
   "cell_type": "code",
   "execution_count": 2,
   "id": "3f306b4e-93d8-4a8d-8b53-b7450a44e571",
   "metadata": {},
   "outputs": [
    {
     "name": "stdout",
     "output_type": "stream",
     "text": [
      "Hellow World!hahhahahhahahahaahhahahahahhahahahahah\n"
     ]
    }
   ],
   "source": [
    "print('Hello World!'+'hahhahahhahahahaahhahahahahhahahahahah')"
   ]
  },
  {
   "cell_type": "code",
   "execution_count": 3,
   "id": "7aa95ea7-868a-414a-b71a-8fc95e1e3ab4",
   "metadata": {},
   "outputs": [
    {
     "name": "stdout",
     "output_type": "stream",
     "text": [
      "Hello World!Hello World!Hello World!\n"
     ]
    }
   ],
   "source": [
    "print('Hello World!'*3)"
   ]
  },
  {
   "cell_type": "code",
   "execution_count": 4,
   "id": "0c69d505-ab31-4862-8d4f-8769e047a753",
   "metadata": {},
   "outputs": [
    {
     "name": "stdout",
     "output_type": "stream",
     "text": [
      "Hello World\n",
      "Hello World\n",
      "Hello World\n",
      "\n"
     ]
    }
   ],
   "source": [
    "print('Hello World\\n'*3)"
   ]
  },
  {
   "cell_type": "raw",
   "id": "9b1f0cf8-6021-4c4d-b33f-8d573ebbf755",
   "metadata": {},
   "source": [
    "print is a function!"
   ]
  },
  {
   "cell_type": "code",
   "execution_count": 8,
   "id": "6095f59b-fd4e-4ee6-9f4f-e10886ac79a5",
   "metadata": {},
   "outputs": [
    {
     "ename": "SyntaxError",
     "evalue": "invalid syntax (1760326670.py, line 1)",
     "output_type": "error",
     "traceback": [
      "\u001b[0;36m  Cell \u001b[0;32mIn[8], line 1\u001b[0;36m\u001b[0m\n\u001b[0;31m    Print('ye') --> wrong print will be in normal black. (python is case sensitive)\u001b[0m\n\u001b[0m                 ^\u001b[0m\n\u001b[0;31mSyntaxError\u001b[0m\u001b[0;31m:\u001b[0m invalid syntax\n"
     ]
    }
   ],
   "source": [
    "Print('ye') --> wrong print will be in normal black. (python is case sensitive)"
   ]
  },
  {
   "attachments": {},
   "cell_type": "markdown",
   "id": "3e8b50f8",
   "metadata": {},
   "source": [
    "# 2 Python is interpreted"
   ]
  },
  {
   "attachments": {},
   "cell_type": "markdown",
   "id": "9e544653",
   "metadata": {},
   "source": [
    "# 3 Python is sensitive."
   ]
  },
  {
   "attachments": {},
   "cell_type": "markdown",
   "id": "c80d4b86",
   "metadata": {},
   "source": [
    "# 4 Comments"
   ]
  },
  {
   "cell_type": "code",
   "execution_count": 11,
   "id": "9b984097-accc-4d33-a995-c619db8376e7",
   "metadata": {},
   "outputs": [],
   "source": [
    "sqrt(b**2-4*a*c) # Solution to a quad eqn"
   ]
  },
  {
   "attachments": {},
   "cell_type": "markdown",
   "id": "f66323ed",
   "metadata": {},
   "source": [
    "# 5 = is not the same as =="
   ]
  },
  {
   "cell_type": "code",
   "execution_count": 12,
   "id": "502f70fb-c2ff-448a-9ff1-9873df7ed32f",
   "metadata": {},
   "outputs": [],
   "source": [
    "x=10"
   ]
  },
  {
   "cell_type": "code",
   "execution_count": 13,
   "id": "96fa88b0-90ac-4382-bb4e-a756c84cf2f4",
   "metadata": {},
   "outputs": [
    {
     "data": {
      "text/plain": [
       "True"
      ]
     },
     "execution_count": 13,
     "metadata": {},
     "output_type": "execute_result"
    }
   ],
   "source": [
    "x==10 # test for true or false"
   ]
  },
  {
   "cell_type": "code",
   "execution_count": 14,
   "id": "a0c2315a-9725-40b8-99f4-a2484f2e6871",
   "metadata": {},
   "outputs": [
    {
     "data": {
      "text/plain": [
       "False"
      ]
     },
     "execution_count": 14,
     "metadata": {},
     "output_type": "execute_result"
    }
   ],
   "source": [
    "x==100"
   ]
  },
  {
   "cell_type": "code",
   "execution_count": 15,
   "id": "0ec4fed6-cf8f-44cc-bef3-fa4e69e3e4af",
   "metadata": {},
   "outputs": [
    {
     "name": "stdout",
     "output_type": "stream",
     "text": [
      "equal to 10\n"
     ]
    }
   ],
   "source": [
    "if x==10:\n",
    "    print('equal to 10')"
   ]
  },
  {
   "cell_type": "code",
   "execution_count": 17,
   "id": "80f7b5b6-c8f6-4a30-9874-9083875aa145",
   "metadata": {},
   "outputs": [],
   "source": [
    "x=300\n",
    "if x==7:\n",
    "    print('yo this is 7?')"
   ]
  },
  {
   "cell_type": "code",
   "execution_count": 18,
   "id": "bfcfb393-d386-4c96-8503-803acaee2f4e",
   "metadata": {},
   "outputs": [
    {
     "name": "stdout",
     "output_type": "stream",
     "text": [
      "equal to 10\n",
      "yes\n"
     ]
    }
   ],
   "source": [
    "x=10\n",
    "if x==10:\n",
    "    print('equal to 10')\n",
    "\n",
    "print('yes') # this statement is not controlled by the functions stated above!"
   ]
  },
  {
   "cell_type": "code",
   "execution_count": 22,
   "id": "af8027aa-d3a5-4322-998c-c2dfd8b20929",
   "metadata": {},
   "outputs": [
    {
     "name": "stdout",
     "output_type": "stream",
     "text": [
      "equal to 10\n",
      "yes\n"
     ]
    }
   ],
   "source": [
    "x=10\n",
    "if x==10:\n",
    "    print('equal to 10')\n",
    "    \n",
    "    print('yes') # if this statement is in the same tab, it will be controlled by the statements above!"
   ]
  },
  {
   "cell_type": "code",
   "execution_count": 23,
   "id": "010e1340-4afc-4bc0-9d3d-3b64e30e1d22",
   "metadata": {},
   "outputs": [],
   "source": [
    "x=9\n",
    "if x==10:\n",
    "    print('equal to 10')\n",
    "    \n",
    "    print('yes')"
   ]
  },
  {
   "attachments": {},
   "cell_type": "markdown",
   "id": "4f978aa6",
   "metadata": {},
   "source": [
    "# 6 Use if to make decisions"
   ]
  },
  {
   "attachments": {},
   "cell_type": "markdown",
   "id": "8644fe36",
   "metadata": {},
   "source": [
    "# 7 Indentations (spaces) are sooo IMPORTANT!"
   ]
  },
  {
   "attachments": {},
   "cell_type": "markdown",
   "id": "1fd744bf",
   "metadata": {},
   "source": [
    "# 8 ‘age’ is English, age is a variable."
   ]
  },
  {
   "cell_type": "code",
   "execution_count": 24,
   "id": "bd82a9b7-637e-47b7-83c3-2a76fff5b2ea",
   "metadata": {},
   "outputs": [
    {
     "name": "stdout",
     "output_type": "stream",
     "text": [
      "age\n"
     ]
    }
   ],
   "source": [
    "age=10\n",
    "print('age') # ''-english"
   ]
  },
  {
   "cell_type": "code",
   "execution_count": 25,
   "id": "c2bd1497-1a08-4ed7-86ae-5b117d5a4efc",
   "metadata": {},
   "outputs": [
    {
     "name": "stdout",
     "output_type": "stream",
     "text": [
      "10\n"
     ]
    }
   ],
   "source": [
    "age=10\n",
    "print(age)"
   ]
  },
  {
   "cell_type": "code",
   "execution_count": 26,
   "id": "dd2c011a-2dc1-4ee6-900a-1ff00d630a33",
   "metadata": {},
   "outputs": [
    {
     "name": "stdout",
     "output_type": "stream",
     "text": [
      "age\n"
     ]
    }
   ],
   "source": [
    "age=10\n",
    "print(\"age\") # \"\"-variable"
   ]
  },
  {
   "cell_type": "code",
   "execution_count": null,
   "id": "001dcc21-639e-4cb8-b9c6-4930b21d8c05",
   "metadata": {},
   "outputs": [],
   "source": []
  },
  {
   "attachments": {},
   "cell_type": "markdown",
   "id": "df8021a1",
   "metadata": {},
   "source": [
    "# 9 Brackets"
   ]
  },
  {
   "cell_type": "code",
   "execution_count": 27,
   "id": "9514bc88-0b13-4523-b99e-12cca49ec80a",
   "metadata": {},
   "outputs": [
    {
     "data": {
      "text/plain": [
       "9"
      ]
     },
     "execution_count": 27,
     "metadata": {},
     "output_type": "execute_result"
    }
   ],
   "source": [
    "(1+2)*3"
   ]
  },
  {
   "cell_type": "code",
   "execution_count": 28,
   "id": "5e9ac02b-c1b2-419e-8a82-ce3c023a7921",
   "metadata": {},
   "outputs": [
    {
     "data": {
      "text/plain": [
       "[1, 2, 3, 4, 5]"
      ]
     },
     "execution_count": 28,
     "metadata": {},
     "output_type": "execute_result"
    }
   ],
   "source": [
    "[1,2,3,4,5]. # list"
   ]
  },
  {
   "cell_type": "code",
   "execution_count": null,
   "id": "d694085e-df3d-4ab3-b609-2a2c5f7e79ee",
   "metadata": {},
   "outputs": [],
   "source": [
    "{'hahah':'wooo'} # dictionary"
   ]
  },
  {
   "attachments": {},
   "cell_type": "markdown",
   "id": "a890a780",
   "metadata": {},
   "source": [
    "# 10 Giving Python superpowers with Packages"
   ]
  },
  {
   "attachments": {},
   "cell_type": "markdown",
   "id": "01a56fa0",
   "metadata": {},
   "source": [
    "## 10.1 Some Context"
   ]
  },
  {
   "cell_type": "code",
   "execution_count": null,
   "id": "c16bfa12-1578-464d-be75-427950099787",
   "metadata": {},
   "outputs": [],
   "source": []
  },
  {
   "attachments": {},
   "cell_type": "markdown",
   "id": "c18be18b",
   "metadata": {},
   "source": [
    "## 10.2 Importing the math package"
   ]
  },
  {
   "cell_type": "code",
   "execution_count": 31,
   "id": "b99e062f-c19a-4084-a476-705d52753d73",
   "metadata": {},
   "outputs": [],
   "source": [
    "import math # giving python ability to do math!"
   ]
  },
  {
   "cell_type": "code",
   "execution_count": 30,
   "id": "044a9cb6-2681-4acd-bfc9-4b1604fb0862",
   "metadata": {},
   "outputs": [
    {
     "data": {
      "text/plain": [
       "2.0"
      ]
     },
     "execution_count": 30,
     "metadata": {},
     "output_type": "execute_result"
    }
   ],
   "source": [
    "math.sqrt(4) #dot means: square root function belongs to the math package"
   ]
  },
  {
   "cell_type": "code",
   "execution_count": 34,
   "id": "8cf64fcd-8d38-4b55-b67c-659a2b9fa0be",
   "metadata": {},
   "outputs": [
    {
     "ename": "TypeError",
     "evalue": "must be real number, not list",
     "output_type": "error",
     "traceback": [
      "\u001b[0;31m---------------------------------------------------------------------------\u001b[0m",
      "\u001b[0;31mTypeError\u001b[0m                                 Traceback (most recent call last)",
      "Cell \u001b[0;32mIn[34], line 1\u001b[0m\n\u001b[0;32m----> 1\u001b[0m \u001b[43mmath\u001b[49m\u001b[38;5;241;43m.\u001b[39;49m\u001b[43msqrt\u001b[49m\u001b[43m(\u001b[49m\u001b[43m[\u001b[49m\u001b[38;5;241;43m4\u001b[39;49m\u001b[43m,\u001b[49m\u001b[38;5;241;43m9\u001b[39;49m\u001b[43m,\u001b[49m\u001b[38;5;241;43m16\u001b[39;49m\u001b[43m]\u001b[49m\u001b[43m)\u001b[49m\n",
      "\u001b[0;31mTypeError\u001b[0m: must be real number, not list"
     ]
    }
   ],
   "source": [
    "math.sqrt([4,9,16]) # math pack is only for single number"
   ]
  },
  {
   "cell_type": "code",
   "execution_count": null,
   "id": "ca28e0fe-40e3-41ca-ab26-f946dff15036",
   "metadata": {},
   "outputs": [],
   "source": [
    "# math is faster tho"
   ]
  },
  {
   "attachments": {},
   "cell_type": "markdown",
   "id": "52eab5c6",
   "metadata": {},
   "source": [
    "## 10.3 Importing the numpy package"
   ]
  },
  {
   "cell_type": "code",
   "execution_count": 32,
   "id": "c0067b57-6f98-4c1f-b7d6-2641b1d429b9",
   "metadata": {},
   "outputs": [],
   "source": [
    "import numpy"
   ]
  },
  {
   "cell_type": "code",
   "execution_count": 33,
   "id": "80a2dcf7-fc0a-4171-ba84-1ec023f97378",
   "metadata": {},
   "outputs": [
    {
     "data": {
      "text/plain": [
       "np.float64(2.0)"
      ]
     },
     "execution_count": 33,
     "metadata": {},
     "output_type": "execute_result"
    }
   ],
   "source": [
    "numpy.sqrt(4)"
   ]
  },
  {
   "cell_type": "code",
   "execution_count": 35,
   "id": "f216f622-c024-44c9-9e9d-4c1c12b545ca",
   "metadata": {},
   "outputs": [
    {
     "data": {
      "text/plain": [
       "array([2., 3., 4.])"
      ]
     },
     "execution_count": 35,
     "metadata": {},
     "output_type": "execute_result"
    }
   ],
   "source": [
    "numpy.sqrt([4,9,16]) #numpy can do multiple numbers!"
   ]
  },
  {
   "attachments": {},
   "cell_type": "markdown",
   "id": "256c09ff",
   "metadata": {},
   "source": [
    "## 10.4 Why so many packages?"
   ]
  },
  {
   "attachments": {},
   "cell_type": "markdown",
   "id": "9c122309",
   "metadata": {},
   "source": [
    "# 11 The dot (.)"
   ]
  },
  {
   "cell_type": "code",
   "execution_count": null,
   "id": "815d1a1b-937f-4ace-a8e0-4c435a8c0679",
   "metadata": {},
   "outputs": [],
   "source": [
    "# dot indicates ownership!"
   ]
  },
  {
   "cell_type": "code",
   "execution_count": 36,
   "id": "b8555388-ce93-400c-bfc4-6c0b84dd04a7",
   "metadata": {},
   "outputs": [
    {
     "data": {
      "text/plain": [
       "'HAHAHAH'"
      ]
     },
     "execution_count": 36,
     "metadata": {},
     "output_type": "execute_result"
    }
   ],
   "source": [
    "'hahahah'.upper()"
   ]
  },
  {
   "cell_type": "code",
   "execution_count": 37,
   "id": "4ef4b811-72e6-4704-9972-13ce021e41e1",
   "metadata": {},
   "outputs": [
    {
     "data": {
      "text/plain": [
       "'hXhXhXh'"
      ]
     },
     "execution_count": 37,
     "metadata": {},
     "output_type": "execute_result"
    }
   ],
   "source": [
    "'hahahah'.replace('a','X')"
   ]
  },
  {
   "cell_type": "code",
   "execution_count": 39,
   "id": "b1f9a62e-bdc0-4dcd-8295-d5cbeba1003e",
   "metadata": {},
   "outputs": [
    {
     "data": {
      "text/plain": [
       "'This is an English sentance 00100. Just for fun {}'"
      ]
     },
     "execution_count": 39,
     "metadata": {},
     "output_type": "execute_result"
    }
   ],
   "source": [
    "x=100\n",
    "f'This is an English sentance {x:05d}. Just for fun {{}}'"
   ]
  },
  {
   "cell_type": "code",
   "execution_count": 41,
   "id": "4c274444-13c8-4a98-98c0-b06f413c5cd5",
   "metadata": {},
   "outputs": [
    {
     "data": {
      "text/plain": [
       "'This is x=100'"
      ]
     },
     "execution_count": 41,
     "metadata": {},
     "output_type": "execute_result"
    }
   ],
   "source": [
    "f'This is {x=}'"
   ]
  },
  {
   "cell_type": "code",
   "execution_count": null,
   "id": "4cedd4be-66ea-4076-beb9-406d6e54138b",
   "metadata": {},
   "outputs": [],
   "source": [
    "#computers read from the right to left"
   ]
  },
  {
   "cell_type": "code",
   "execution_count": 42,
   "id": "fce29247-a73a-4a91-8970-acc85884869a",
   "metadata": {},
   "outputs": [
    {
     "data": {
      "text/plain": [
       "42"
      ]
     },
     "execution_count": 42,
     "metadata": {},
     "output_type": "execute_result"
    }
   ],
   "source": [
    "x=40\n",
    "x=x+2\n",
    "x"
   ]
  },
  {
   "cell_type": "code",
   "execution_count": 44,
   "id": "ee6291c3-9daf-4788-805f-483bac7fdd96",
   "metadata": {},
   "outputs": [
    {
     "data": {
      "text/plain": [
       "42"
      ]
     },
     "execution_count": 44,
     "metadata": {},
     "output_type": "execute_result"
    }
   ],
   "source": [
    "x=40\n",
    "x+=2\n",
    "x"
   ]
  },
  {
   "attachments": {},
   "cell_type": "markdown",
   "id": "ba039a9a",
   "metadata": {},
   "source": [
    "## Footnotes"
   ]
  }
 ],
 "metadata": {
  "kernelspec": {
   "display_name": "Python 3 (ipykernel)",
   "language": "python",
   "name": "python3"
  },
  "language_info": {
   "codemirror_mode": {
    "name": "ipython",
    "version": 3
   },
   "file_extension": ".py",
   "mimetype": "text/x-python",
   "name": "python",
   "nbconvert_exporter": "python",
   "pygments_lexer": "ipython3",
   "version": "3.12.2"
  },
  "toc": {
   "base_numbering": 1,
   "nav_menu": {},
   "number_sections": true,
   "sideBar": true,
   "skip_h1_title": false,
   "title_cell": "Table of Contents",
   "title_sidebar": "Contents",
   "toc_cell": false,
   "toc_position": {},
   "toc_section_display": true,
   "toc_window_display": false
  },
  "vscode": {
   "interpreter": {
    "hash": "31f2aee4e71d21fbe5cf8b01ff0e069b9275f58929596ceb00d14d90e3e16cd6"
   }
  }
 },
 "nbformat": 4,
 "nbformat_minor": 5
}
