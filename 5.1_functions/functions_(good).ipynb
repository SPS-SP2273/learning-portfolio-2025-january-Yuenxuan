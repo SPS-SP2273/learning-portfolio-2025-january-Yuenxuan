{
 "cells": [
  {
   "attachments": {},
   "cell_type": "markdown",
   "id": "123456",
   "metadata": {},
   "source": [
    "<div style=\"text-align:left;font-size:2em\"><span style=\"font-weight:bolder;font-size:1.25em\">SP2273 | Learning Portfolio</span><br><br><span style=\"font-weight:bold;color:darkred\">Functions (Good)</span></div>"
   ]
  },
  {
   "attachments": {},
   "cell_type": "markdown",
   "id": "e228151c",
   "metadata": {},
   "source": [
    "# What to expect in this chapter"
   ]
  },
  {
   "attachments": {},
   "cell_type": "markdown",
   "id": "77203a93",
   "metadata": {},
   "source": [
    "# 1 Checks, balances, and contingencies"
   ]
  },
  {
   "cell_type": "code",
   "execution_count": 2,
   "id": "83034321-8ec5-4c85-b16e-f25fc56c43bf",
   "metadata": {},
   "outputs": [],
   "source": [
    "def area_triangle(base, height):\n",
    "    return (1/2 * base * height)"
   ]
  },
  {
   "cell_type": "code",
   "execution_count": 3,
   "id": "de4b2f24-04a3-4a99-9919-d6f42b016e40",
   "metadata": {},
   "outputs": [
    {
     "data": {
      "text/plain": [
       "10.0"
      ]
     },
     "execution_count": 3,
     "metadata": {},
     "output_type": "execute_result"
    }
   ],
   "source": [
    "area_triangle(4,5)"
   ]
  },
  {
   "cell_type": "code",
   "execution_count": null,
   "id": "83b061a0-622e-4f6a-9035-164dfab9272a",
   "metadata": {},
   "outputs": [],
   "source": [
    "base #local variable"
   ]
  },
  {
   "cell_type": "code",
   "execution_count": 4,
   "id": "c620c2ba-b503-41e0-ac7b-69a581bdf9f8",
   "metadata": {},
   "outputs": [
    {
     "ename": "AssertionError",
     "evalue": "x must be positive",
     "output_type": "error",
     "traceback": [
      "\u001b[0;31m---------------------------------------------------------------------------\u001b[0m",
      "\u001b[0;31mAssertionError\u001b[0m                            Traceback (most recent call last)",
      "Cell \u001b[0;32mIn[4], line 2\u001b[0m\n\u001b[1;32m      1\u001b[0m x \u001b[38;5;241m=\u001b[39m \u001b[38;5;241m-\u001b[39m\u001b[38;5;241m1\u001b[39m\n\u001b[0;32m----> 2\u001b[0m \u001b[38;5;28;01massert\u001b[39;00m x \u001b[38;5;241m>\u001b[39m\u001b[38;5;241m=\u001b[39m\u001b[38;5;241m0\u001b[39m, \u001b[38;5;124m\"\u001b[39m\u001b[38;5;124mx must be positive\u001b[39m\u001b[38;5;124m\"\u001b[39m\n",
      "\u001b[0;31mAssertionError\u001b[0m: x must be positive"
     ]
    }
   ],
   "source": [
    "x = -1\n",
    "assert x >=0, \"x must be positive\""
   ]
  },
  {
   "cell_type": "code",
   "execution_count": 5,
   "id": "f7dcd942-b3c9-46f3-91c0-952f5169d8ee",
   "metadata": {},
   "outputs": [
    {
     "name": "stdout",
     "output_type": "stream",
     "text": [
      "0\n",
      "1\n",
      "2\n",
      "3\n",
      "4\n",
      "5\n"
     ]
    },
    {
     "ename": "AssertionError",
     "evalue": "i is too big",
     "output_type": "error",
     "traceback": [
      "\u001b[0;31m---------------------------------------------------------------------------\u001b[0m",
      "\u001b[0;31mAssertionError\u001b[0m                            Traceback (most recent call last)",
      "Cell \u001b[0;32mIn[5], line 2\u001b[0m\n\u001b[1;32m      1\u001b[0m \u001b[38;5;28;01mfor\u001b[39;00m i \u001b[38;5;129;01min\u001b[39;00m \u001b[38;5;28mrange\u001b[39m(\u001b[38;5;241m10\u001b[39m):\n\u001b[0;32m----> 2\u001b[0m     \u001b[38;5;28;01massert\u001b[39;00m i\u001b[38;5;241m<\u001b[39m\u001b[38;5;241m=\u001b[39m\u001b[38;5;241m5\u001b[39m, \u001b[38;5;124m\"\u001b[39m\u001b[38;5;124mi is too big\u001b[39m\u001b[38;5;124m\"\u001b[39m\n\u001b[1;32m      3\u001b[0m     \u001b[38;5;28mprint\u001b[39m(i)\n",
      "\u001b[0;31mAssertionError\u001b[0m: i is too big"
     ]
    }
   ],
   "source": [
    "for i in range(10):\n",
    "    assert i<=5, \"i is too big\"\n",
    "    print(i)"
   ]
  },
  {
   "cell_type": "code",
   "execution_count": 6,
   "id": "015e30f0-8548-45d8-ba35-5d1d4ca9d44b",
   "metadata": {},
   "outputs": [
    {
     "ename": "ZeroDivisionError",
     "evalue": "division by zero",
     "output_type": "error",
     "traceback": [
      "\u001b[0;31m---------------------------------------------------------------------------\u001b[0m",
      "\u001b[0;31mZeroDivisionError\u001b[0m                         Traceback (most recent call last)",
      "Cell \u001b[0;32mIn[6], line 2\u001b[0m\n\u001b[1;32m      1\u001b[0m \u001b[38;5;28;01mfor\u001b[39;00m i \u001b[38;5;129;01min\u001b[39;00m \u001b[38;5;28mrange\u001b[39m(\u001b[38;5;241m10\u001b[39m):\n\u001b[0;32m----> 2\u001b[0m     \u001b[38;5;28mprint\u001b[39m(\u001b[38;5;241;43m1\u001b[39;49m\u001b[38;5;241;43m/\u001b[39;49m\u001b[43mi\u001b[49m)\n",
      "\u001b[0;31mZeroDivisionError\u001b[0m: division by zero"
     ]
    }
   ],
   "source": [
    "for i in range(10):\n",
    "    print(1/i)"
   ]
  },
  {
   "cell_type": "code",
   "execution_count": 7,
   "id": "4fd44031-070b-440b-92dd-627bd2711718",
   "metadata": {},
   "outputs": [
    {
     "name": "stdout",
     "output_type": "stream",
     "text": [
      "1.0\n",
      "0.5\n",
      "0.3333333333333333\n",
      "0.25\n",
      "0.2\n",
      "0.16666666666666666\n",
      "0.14285714285714285\n",
      "0.125\n",
      "0.1111111111111111\n"
     ]
    }
   ],
   "source": [
    "for i in range(10):\n",
    "    try:\n",
    "        print(1/i)\n",
    "    except ZeroDivisionError:\n",
    "        continue\n",
    "        "
   ]
  },
  {
   "cell_type": "code",
   "execution_count": 8,
   "id": "32788d87-d798-492b-941c-77f395f8e7e3",
   "metadata": {},
   "outputs": [
    {
     "name": "stdout",
     "output_type": "stream",
     "text": [
      "you divided by 0, idiot\n",
      "1.0\n",
      "0.5\n",
      "0.3333333333333333\n",
      "0.25\n",
      "0.2\n",
      "0.16666666666666666\n",
      "0.14285714285714285\n",
      "0.125\n",
      "0.1111111111111111\n"
     ]
    }
   ],
   "source": [
    "for i in range(10):\n",
    "    try:\n",
    "        print(1/i)\n",
    "    except ZeroDivisionError:\n",
    "        print(\"you divided by 0, idiot\")"
   ]
  },
  {
   "cell_type": "code",
   "execution_count": 12,
   "id": "ddb6319b-ca51-4807-a438-45b1365147e2",
   "metadata": {},
   "outputs": [
    {
     "name": "stdin",
     "output_type": "stream",
     "text": [
      "tell me your age sd\n"
     ]
    },
    {
     "name": "stdout",
     "output_type": "stream",
     "text": [
      "input a number, dolt!\n"
     ]
    }
   ],
   "source": [
    "try:\n",
    "    x= input(\"tell me your age\")\n",
    "    x=int(x)\n",
    "    break \n",
    "except ValueError:\n",
    "    print(\"input a number, dolt!\")"
   ]
  },
  {
   "cell_type": "code",
   "execution_count": 1,
   "id": "24ae2f23-d1e0-4528-8902-e3fb88a2d56a",
   "metadata": {},
   "outputs": [
    {
     "name": "stdin",
     "output_type": "stream",
     "text": [
      "tell me your age 4\n"
     ]
    }
   ],
   "source": [
    "found = False #creates a loop until the user correctly inputs a number as their age. \n",
    "while found == False:\n",
    "    try:\n",
    "        x= input(\"tell me your age\")\n",
    "        x=int(x)\n",
    "        found = True #this will end the loop\n",
    "    except ValueError:\n",
    "        print(\"input a number, dolt!\")"
   ]
  },
  {
   "cell_type": "code",
   "execution_count": 2,
   "id": "8ab288f4-839d-407b-91fa-607a2676bd8b",
   "metadata": {},
   "outputs": [],
   "source": [
    "def volume_cuboid(length,width,height=5):\n",
    "    return (length * height*width)"
   ]
  },
  {
   "cell_type": "code",
   "execution_count": 5,
   "id": "544b088a-3d8a-4395-8cd2-c18ca4dfce10",
   "metadata": {},
   "outputs": [
    {
     "data": {
      "text/plain": [
       "210"
      ]
     },
     "execution_count": 5,
     "metadata": {},
     "output_type": "execute_result"
    }
   ],
   "source": [
    "volume_cuboid(height=7, width=6, length=5)"
   ]
  },
  {
   "cell_type": "code",
   "execution_count": 6,
   "id": "80bda278-ec1a-44bf-a958-4e63a8a34109",
   "metadata": {},
   "outputs": [],
   "source": [
    "def calculator(value, func):\n",
    "    '''This is something we created in sp2273 to calculate stuff''' #special type of comment, after entering, you can see it appear! --> called docstring\n",
    "    return func(value)"
   ]
  },
  {
   "cell_type": "code",
   "execution_count": 7,
   "id": "2e2b13c2-a53f-43e7-a376-e14e7d917d73",
   "metadata": {},
   "outputs": [
    {
     "ename": "NameError",
     "evalue": "name 'np' is not defined",
     "output_type": "error",
     "traceback": [
      "\u001b[0;31m---------------------------------------------------------------------------\u001b[0m",
      "\u001b[0;31mNameError\u001b[0m                                 Traceback (most recent call last)",
      "Cell \u001b[0;32mIn[7], line 1\u001b[0m\n\u001b[0;32m----> 1\u001b[0m calculator(\u001b[43mnp\u001b[49m\u001b[38;5;241m.\u001b[39mpi, np\u001b[38;5;241m.\u001b[39msin)\n",
      "\u001b[0;31mNameError\u001b[0m: name 'np' is not defined"
     ]
    }
   ],
   "source": [
    "calculator(np.pi, np.sin)"
   ]
  },
  {
   "cell_type": "code",
   "execution_count": 8,
   "id": "4761af06-9634-40d8-abe7-34cfe8b86f9e",
   "metadata": {},
   "outputs": [
    {
     "name": "stdout",
     "output_type": "stream",
     "text": [
      "Help on function calculator in module __main__:\n",
      "\n",
      "calculator(value, func)\n",
      "    This is something we created in sp2273 to calculate stuff\n",
      "\n"
     ]
    }
   ],
   "source": [
    "help(calculator)"
   ]
  },
  {
   "cell_type": "code",
   "execution_count": null,
   "id": "2d625003-72ae-42a7-b8d7-43851bdecd00",
   "metadata": {},
   "outputs": [],
   "source": [
    "jdjdjdjdjdjjdjdjdjdjdjdjdjdjdjdjdjdjdjdjdjdjdjdjdjdjdjdjdjdjdjdjdjdjdjdjdjdjdjdjdjdjdjdjdjdjdjdjdjdjdjdjdjdjdjjdjdjdjdjdjdjdjdjdjdjdjdjdjdjdjdjdjdjdjjdjdjdjdjdjdjd"
   ]
  },
  {
   "cell_type": "code",
   "execution_count": 9,
   "id": "d0c5abd1-580a-4c50-86c7-f6abb24f106a",
   "metadata": {},
   "outputs": [
    {
     "ename": "NameError",
     "evalue": "name 'np' is not defined",
     "output_type": "error",
     "traceback": [
      "\u001b[0;31m---------------------------------------------------------------------------\u001b[0m",
      "\u001b[0;31mNameError\u001b[0m                                 Traceback (most recent call last)",
      "Cell \u001b[0;32mIn[9], line 1\u001b[0m\n\u001b[0;32m----> 1\u001b[0m x \u001b[38;5;241m=\u001b[39m \u001b[43mnp\u001b[49m\u001b[38;5;241m.\u001b[39marray([\u001b[38;5;241m0\u001b[39m,\u001b[38;5;241m0.1\u001b[39m,\u001b[38;5;241m0.2\u001b[39m])\n",
      "\u001b[0;31mNameError\u001b[0m: name 'np' is not defined"
     ]
    }
   ],
   "source": [
    "x = np.array([0,0.1,0.2])"
   ]
  },
  {
   "cell_type": "code",
   "execution_count": 10,
   "id": "2d8fce99-e1c2-4046-9a57-eaaba9fab1e6",
   "metadata": {},
   "outputs": [
    {
     "ename": "NameError",
     "evalue": "name 'np' is not defined",
     "output_type": "error",
     "traceback": [
      "\u001b[0;31m---------------------------------------------------------------------------\u001b[0m",
      "\u001b[0;31mNameError\u001b[0m                                 Traceback (most recent call last)",
      "Cell \u001b[0;32mIn[10], line 1\u001b[0m\n\u001b[0;32m----> 1\u001b[0m calculator(x, \u001b[43mnp\u001b[49m\u001b[38;5;241m.\u001b[39msin) \u001b[38;5;241m==\u001b[39m np\u001b[38;5;241m.\u001b[39msin(x)\n",
      "\u001b[0;31mNameError\u001b[0m: name 'np' is not defined"
     ]
    }
   ],
   "source": [
    "calculator(x, np.sin) == np.sin(x)"
   ]
  },
  {
   "cell_type": "code",
   "execution_count": 11,
   "id": "431a9ede-05dd-4829-8a3a-1d9bafd26755",
   "metadata": {},
   "outputs": [],
   "source": [
    "def volume_cuboid_mod(length, width, height=5):\n",
    "    return ([length*height*width,length,width])"
   ]
  },
  {
   "cell_type": "code",
   "execution_count": 12,
   "id": "aaef8cf5-6236-4f4e-88cd-aa945d291a25",
   "metadata": {},
   "outputs": [],
   "source": [
    "x = volume_cuboid_mod(5,4)"
   ]
  },
  {
   "cell_type": "code",
   "execution_count": 13,
   "id": "7f817740-12e1-4b9f-b653-e79c93017d8e",
   "metadata": {},
   "outputs": [
    {
     "data": {
      "text/plain": [
       "[100, 5, 4]"
      ]
     },
     "execution_count": 13,
     "metadata": {},
     "output_type": "execute_result"
    }
   ],
   "source": [
    "x"
   ]
  },
  {
   "cell_type": "code",
   "execution_count": 14,
   "id": "941c07ad-da1c-45e8-bcbd-52142be6270e",
   "metadata": {},
   "outputs": [
    {
     "data": {
      "text/plain": [
       "list"
      ]
     },
     "execution_count": 14,
     "metadata": {},
     "output_type": "execute_result"
    }
   ],
   "source": [
    "type(x)"
   ]
  },
  {
   "cell_type": "code",
   "execution_count": null,
   "id": "725fbd55-0e1c-4f27-8a5e-6767d4fd4d79",
   "metadata": {},
   "outputs": [],
   "source": [
    "vol, *dimensions = volume_cubiod_mod(5,4) # * means take as much as you want, wont wrok without *"
   ]
  },
  {
   "cell_type": "code",
   "execution_count": null,
   "id": "b62080ea-3ffc-4392-8349-523af52e6c05",
   "metadata": {},
   "outputs": [],
   "source": [
    "#dont make functions unless it is really necessary!!!"
   ]
  },
  {
   "cell_type": "code",
   "execution_count": null,
   "id": "d16ca6d0-59d7-4121-8c66-d928fba58b88",
   "metadata": {},
   "outputs": [],
   "source": [
    "def print_me(y):\n",
    "    print(y)"
   ]
  },
  {
   "cell_type": "code",
   "execution_count": null,
   "id": "fdb9bd2f-eacf-4d5f-b0dc-cfcbb5912d94",
   "metadata": {},
   "outputs": [],
   "source": []
  },
  {
   "attachments": {},
   "cell_type": "markdown",
   "id": "df5b0477",
   "metadata": {},
   "source": [
    "## 1.1 assert"
   ]
  },
  {
   "attachments": {},
   "cell_type": "markdown",
   "id": "7ebf226b",
   "metadata": {},
   "source": [
    "## 1.2 try-except"
   ]
  },
  {
   "attachments": {},
   "cell_type": "markdown",
   "id": "8b3b9d7a",
   "metadata": {},
   "source": [
    "## 1.3 A simple suggestion"
   ]
  },
  {
   "attachments": {},
   "cell_type": "markdown",
   "id": "9be15929",
   "metadata": {},
   "source": [
    "# 2 Some loose ends"
   ]
  },
  {
   "attachments": {},
   "cell_type": "markdown",
   "id": "47b4d17d",
   "metadata": {},
   "source": [
    "## 2.1 Positional, keyword and default arguments"
   ]
  },
  {
   "attachments": {},
   "cell_type": "markdown",
   "id": "5488954f",
   "metadata": {},
   "source": [
    "## 2.2 Docstrings"
   ]
  },
  {
   "attachments": {},
   "cell_type": "markdown",
   "id": "a851801b",
   "metadata": {},
   "source": [
    "## 2.3 Function are first-class citizens"
   ]
  },
  {
   "attachments": {},
   "cell_type": "markdown",
   "id": "16bbd34a",
   "metadata": {},
   "source": [
    "## 2.4 More about unpacking"
   ]
  }
 ],
 "metadata": {
  "kernelspec": {
   "display_name": "Python 3 (ipykernel)",
   "language": "python",
   "name": "python3"
  },
  "language_info": {
   "codemirror_mode": {
    "name": "ipython",
    "version": 3
   },
   "file_extension": ".py",
   "mimetype": "text/x-python",
   "name": "python",
   "nbconvert_exporter": "python",
   "pygments_lexer": "ipython3",
   "version": "3.12.2"
  },
  "toc": {
   "base_numbering": 1,
   "nav_menu": {},
   "number_sections": true,
   "sideBar": true,
   "skip_h1_title": false,
   "title_cell": "Table of Contents",
   "title_sidebar": "Contents",
   "toc_cell": false,
   "toc_position": {},
   "toc_section_display": true,
   "toc_window_display": false
  },
  "vscode": {
   "interpreter": {
    "hash": "31f2aee4e71d21fbe5cf8b01ff0e069b9275f58929596ceb00d14d90e3e16cd6"
   }
  }
 },
 "nbformat": 4,
 "nbformat_minor": 5
}
