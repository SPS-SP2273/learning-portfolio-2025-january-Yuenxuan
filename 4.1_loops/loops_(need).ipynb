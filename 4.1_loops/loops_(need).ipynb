{
 "cells": [
  {
   "attachments": {},
   "cell_type": "markdown",
   "id": "123456",
   "metadata": {},
   "source": [
    "<div style=\"text-align:left;font-size:2em\"><span style=\"font-weight:bolder;font-size:1.25em\">SP2273 | Learning Portfolio</span><br><br><span style=\"font-weight:bold;color:darkred\">Loops (Need)</span></div>"
   ]
  },
  {
   "attachments": {},
   "cell_type": "markdown",
   "id": "6f1177e5",
   "metadata": {},
   "source": [
    "# What to expect in this chapter"
   ]
  },
  {
   "attachments": {},
   "cell_type": "markdown",
   "id": "fbd3df23",
   "metadata": {},
   "source": [
    "# 1 The for iterator"
   ]
  },
  {
   "attachments": {},
   "cell_type": "markdown",
   "id": "b16de74f",
   "metadata": {},
   "source": [
    "## 1.1 for with a list"
   ]
  },
  {
   "cell_type": "code",
   "execution_count": 36,
   "id": "66ed7b71-221b-4618-915e-656176ddd94e",
   "metadata": {},
   "outputs": [],
   "source": [
    "Name = ['yes', 'no', 'yuh', \"a\"]"
   ]
  },
  {
   "cell_type": "code",
   "execution_count": 41,
   "id": "340d168a-8179-4a38-95b9-7894f1b873a5",
   "metadata": {},
   "outputs": [],
   "source": [
    "Major = ['bes', 'bo', 'buh', \"chem\"]"
   ]
  },
  {
   "cell_type": "code",
   "execution_count": 42,
   "id": "72b01bcd-d8f3-4ad9-9d43-74849a49471f",
   "metadata": {},
   "outputs": [],
   "source": [
    "Year = ['1', '2', '3'] #list [], not dictionary {}"
   ]
  },
  {
   "cell_type": "code",
   "execution_count": 43,
   "id": "bd10f28d-c0e2-4af3-b353-ccd051c66609",
   "metadata": {},
   "outputs": [
    {
     "name": "stdout",
     "output_type": "stream",
     "text": [
      "Name:yes\n",
      "Name:no\n",
      "Name:yuh\n",
      "Name:a\n"
     ]
    }
   ],
   "source": [
    "for name in Name:\n",
    "    print(f'Name:{name}')"
   ]
  },
  {
   "cell_type": "code",
   "execution_count": 46,
   "id": "ed3c8097-92ba-4f09-b3d4-690291d915cb",
   "metadata": {},
   "outputs": [
    {
     "name": "stdout",
     "output_type": "stream",
     "text": [
      "Major: bes, Name: yes\n",
      "Major: bo, Name: no\n",
      "Major: buh, Name: yuh\n",
      "Major: chem, Name: a\n"
     ]
    }
   ],
   "source": [
    "for count, name in enumerate(Name):\n",
    "    print (f'Major: {Major[count]}, Name: {name}') "
   ]
  },
  {
   "cell_type": "code",
   "execution_count": 24,
   "id": "c721b881-bf60-4712-9cd7-e4939da7f7d0",
   "metadata": {},
   "outputs": [
    {
     "data": {
      "text/plain": [
       "'3: Name[index]:, Major[index]:, Year[index]:'"
      ]
     },
     "execution_count": 24,
     "metadata": {},
     "output_type": "execute_result"
    }
   ],
   "source": [
    "index=1\n",
    "f'{index}: Name[index]:, Major[index]:, Year[index]:'\n",
    "index=2\n",
    "f'{index}: Name[index]:, Major[index]:, Year[index]:'\n",
    "index=3\n",
    "f'{index}: Name[index]:, Major[index]:, Year[index]:'"
   ]
  },
  {
   "cell_type": "code",
   "execution_count": 25,
   "id": "8890a057-254f-4f93-940a-7135d8eecb0b",
   "metadata": {},
   "outputs": [
    {
     "name": "stdout",
     "output_type": "stream",
     "text": [
      "0\n"
     ]
    },
    {
     "ename": "TypeError",
     "evalue": "'<' not supported between instances of 'str' and 'int'",
     "output_type": "error",
     "traceback": [
      "\u001b[0;31m---------------------------------------------------------------------------\u001b[0m",
      "\u001b[0;31mTypeError\u001b[0m                                 Traceback (most recent call last)",
      "Cell \u001b[0;32mIn[25], line 5\u001b[0m\n\u001b[1;32m      3\u001b[0m year \u001b[38;5;241m=\u001b[39m Year[count]\n\u001b[1;32m      4\u001b[0m \u001b[38;5;28;01mif\u001b[39;00m year \u001b[38;5;241m==\u001b[39m \u001b[38;5;124m'\u001b[39m\u001b[38;5;124m1\u001b[39m\u001b[38;5;124m'\u001b[39m:\n\u001b[0;32m----> 5\u001b[0m     \u001b[38;5;28mprint\u001b[39m(\u001b[38;5;124mf\u001b[39m\u001b[38;5;124m'\u001b[39m\u001b[38;5;132;01m{\u001b[39;00mcount\u001b[38;5;132;01m}\u001b[39;00m\u001b[38;5;124m: Name:\u001b[39m\u001b[38;5;132;01m{\u001b[39;00m\u001b[43mname\u001b[49m\u001b[38;5;241;43m<\u001b[39;49m\u001b[38;5;241;43m3\u001b[39;49m\u001b[38;5;132;01m}\u001b[39;00m\u001b[38;5;124m, Major:\u001b[39m\u001b[38;5;132;01m{\u001b[39;00mmajors[index]\u001b[38;5;132;01m:\u001b[39;00m\u001b[38;5;124m<3\u001b[39m\u001b[38;5;132;01m}\u001b[39;00m\u001b[38;5;124m, Year:\u001b[39m\u001b[38;5;132;01m{\u001b[39;00myear\u001b[38;5;241m<\u001b[39m\u001b[38;5;241m3\u001b[39m\u001b[38;5;132;01m}\u001b[39;00m\u001b[38;5;124m'\u001b[39m)\n",
      "\u001b[0;31mTypeError\u001b[0m: '<' not supported between instances of 'str' and 'int'"
     ]
    }
   ],
   "source": [
    "for count, name in enumerate(Name):\n",
    "    print(count)\n",
    "    year = Year[count]\n",
    "    if year == '1':\n",
    "        print(f'{count}: Name:{name<3}, Major:{majors[index]:<3}, Year:{year<3}')\n"
   ]
  },
  {
   "attachments": {},
   "cell_type": "markdown",
   "id": "8609b2df",
   "metadata": {},
   "source": [
    "## 1.2 for with enumerate"
   ]
  },
  {
   "cell_type": "code",
   "execution_count": null,
   "id": "41bf2e9e-e354-4910-8624-cbc340e01de2",
   "metadata": {},
   "outputs": [],
   "source": [
    "for count, name in enumerate(names):\n",
    "    \n",
    "    print(f'{count}: {name} is a Marvel superhero!')"
   ]
  },
  {
   "cell_type": "code",
   "execution_count": null,
   "id": "e1a29299-7de0-4b29-9dc9-819cead77631",
   "metadata": {},
   "outputs": [],
   "source": [
    "for count, name in enumerate(names):\n",
    "    \n",
    "    print(f'{count}: Name:{name<10}, Major:{majors[index]:<30}, Year:{year<10}')"
   ]
  },
  {
   "cell_type": "code",
   "execution_count": null,
   "id": "fa41ef2d-7cb7-486f-ad37-1910eb8700d5",
   "metadata": {},
   "outputs": [],
   "source": [
    "for count, name in enumerate(names):\n",
    "    year = years[index]\n",
    "    if year == '1st Year':\n",
    "        print(f'{count}: Name:{name<10}, Major:{majors[index]:<30}, Year:{year<10}')\n",
    "    # else:\n",
    "      # print('Not a first year')"
   ]
  },
  {
   "cell_type": "code",
   "execution_count": null,
   "id": "48ac7380-df17-4113-b794-bdc34d36e70a",
   "metadata": {},
   "outputs": [],
   "source": [
    "for count, name in enumerate(names):\n",
    "    major = majors[index]\n",
    "    if major == 'Chem':\n",
    "       major = 'Chemistry'\n",
    "        print(f'{count}: Name:{name<10}, Major:{majors:<30}, Year:{year<10}')\n",
    "    # else:\n",
    "      # print('Not a first year')"
   ]
  },
  {
   "cell_type": "code",
   "execution_count": 31,
   "id": "5f231974-7199-45e3-b37a-270ee45658d5",
   "metadata": {},
   "outputs": [
    {
     "ename": "IndentationError",
     "evalue": "unexpected indent (1461289068.py, line 6)",
     "output_type": "error",
     "traceback": [
      "\u001b[0;36m  Cell \u001b[0;32mIn[31], line 6\u001b[0;36m\u001b[0m\n\u001b[0;31m    if major == 'Chemistry':\u001b[0m\n\u001b[0m    ^\u001b[0m\n\u001b[0;31mIndentationError\u001b[0m\u001b[0;31m:\u001b[0m unexpected indent\n"
     ]
    }
   ],
   "source": [
    "for count, name in enumerate(names):\n",
    "    major = majors[index]\n",
    "    if major == 'Chem':\n",
    "       major = 'Chemistry'\n",
    "\n",
    "        if major == 'Chemistry': \n",
    "            print('I am here')\n",
    "            break #disrupts list the moment your desired variable is found/reached\n",
    "            \n",
    "        print(f'{count}: Name:{name<10}, Major:{majors:<30}, Year:{year<10}')\n",
    "    # else:\n",
    "      # print('Not a first year')"
   ]
  },
  {
   "cell_type": "code",
   "execution_count": null,
   "id": "5f976da7-e5a3-4fb7-a264-3b41061a1aef",
   "metadata": {},
   "outputs": [],
   "source": [
    "names_upper =list()\n",
    "for name in names:\n",
    "        names_upper.append(name.upper()) #upper capitilises everything append is to amend and change a variable in the list\n",
    "    #print(name.upper())"
   ]
  },
  {
   "cell_type": "code",
   "execution_count": null,
   "id": "41387335-ed43-4115-bba6-1d8897a2a305",
   "metadata": {},
   "outputs": [],
   "source": [
    "majors = [\"chem\", \"pharm\", ]\n",
    "\n",
    "majors_cleaned =[]\n",
    "for major in majors:\n",
    "        if major == 'chem':\n",
    "            majors_cleaned.append('Chemistry') #amends chem to chemistry\n",
    "        elif major == 'Life Science':\n",
    "            majors_cleaned.append('Life Sciences') #want to add another amendment? use elif! amends life science to life sciences\n",
    "\n",
    "        else:\n",
    "            majors_cleaned.append(major) #then simply type out majors_cleaned in a new box and they will hv the amended list printed out!\n",
    "            "
   ]
  },
  {
   "cell_type": "code",
   "execution_count": 2,
   "id": "1bb62fe0-331c-4e37-bf86-75e77092058f",
   "metadata": {},
   "outputs": [],
   "source": [
    "replace_info ={\n",
    "    'Chem': 'Chemistry',\n",
    "    'Life Science':'Life Sciences',\n",
    "    'Biz Real Estate':'Business Real Estate',\n",
    "}"
   ]
  },
  {
   "cell_type": "code",
   "execution_count": null,
   "id": "a99a3663-ce2d-4917-8839-17837976c298",
   "metadata": {},
   "outputs": [],
   "source": [
    "for key, value in replace_infor.items():\n",
    "    print(key,value)"
   ]
  },
  {
   "cell_type": "code",
   "execution_count": null,
   "id": "e8e6df70-9fb4-4985-86eb-ecfe778bfbc7",
   "metadata": {},
   "outputs": [],
   "source": [
    "old_major, new_major --> key, value"
   ]
  },
  {
   "cell_type": "code",
   "execution_count": 3,
   "id": "8ff792e5-ef4c-4d3e-9b2e-ca014339ad04",
   "metadata": {},
   "outputs": [
    {
     "name": "stdout",
     "output_type": "stream",
     "text": [
      "Chem Chemistry\n",
      "Life Science Life Sciences\n",
      "Biz Real Estate Business Real Estate\n"
     ]
    }
   ],
   "source": [
    "for old_major, new_major in replace_info.items():\n",
    "    print(old_major, new_major)"
   ]
  },
  {
   "cell_type": "code",
   "execution_count": 4,
   "id": "ed149c46-34f0-4f20-bedb-6319af2b1fcb",
   "metadata": {},
   "outputs": [
    {
     "name": "stdout",
     "output_type": "stream",
     "text": [
      "Chemistry\n",
      "Chemistry\n",
      "Chemistry\n"
     ]
    }
   ],
   "source": [
    "major = 'Chem'\n",
    "for old_major, new_major in replace_info.items():\n",
    "    major=major.replace(old_major,new_major)\n",
    "    print(major)\n"
   ]
  },
  {
   "cell_type": "code",
   "execution_count": 11,
   "id": "17d70d96-5423-4cda-9f7d-a6ccfe6deb2d",
   "metadata": {},
   "outputs": [],
   "source": [
    "def cleaned_majors(major): #create your own function!\n",
    "    replace_info ={\n",
    "        'Chem': 'Chemistry',\n",
    "        'Life Science':'Life Sciences',\n",
    "        'Biz Real Estate':'Business Real Estate',\n",
    "    } #dictionary {}\n",
    "    \n",
    "    for old_major, new_major in replace_info.items():\n",
    "        major = major.replace(old_major,new_major)\n",
    "    return major"
   ]
  },
  {
   "cell_type": "code",
   "execution_count": 12,
   "id": "600a9c02-bab4-4136-9602-d503a27f9231",
   "metadata": {},
   "outputs": [
    {
     "data": {
      "text/plain": [
       "'Life Sciences'"
      ]
     },
     "execution_count": 12,
     "metadata": {},
     "output_type": "execute_result"
    }
   ],
   "source": [
    "cleaned_majors('Life Science')"
   ]
  },
  {
   "cell_type": "code",
   "execution_count": 11,
   "id": "fa2ba544-1f7d-4424-bf8f-94c646db321f",
   "metadata": {},
   "outputs": [],
   "source": [
    "def cleaned_majors(major): #create your own function!\n",
    "    replace_info ={\n",
    "        'Chem': 'Chemistry',\n",
    "        'Life Science':'Life Sciences',\n",
    "        'Biz Real Estate':'Business Real Estate',\n",
    "    }\n",
    "    \n",
    "    for old_major, new_major in replace_info.items():\n",
    "        if old_major ==major:\n",
    "            return new_major.  #EVEN CLEANER THAN ABOVE ONE!!!"
   ]
  },
  {
   "cell_type": "code",
   "execution_count": 11,
   "id": "a1fea539-82da-4ee7-adc3-c4d45168f144",
   "metadata": {},
   "outputs": [],
   "source": [
    "def cleaned_majors(major): #create your own function!\n",
    "    replace_info ={\n",
    "        'Chem': 'Chemistry',\n",
    "        'Life Science':'Life Sciences',\n",
    "        'Biz Real Estate':'Business Real Estate',\n",
    "    }\n",
    "    \n",
    "    for old_text, replace_text in replace_info.items():\n",
    "        if old_text ==major:\n",
    "            return replace_major.  #EVEN CLEANER THAN ABOVE ONE!!!\n",
    "        else:\n",
    "            return major #but hving two returns is not very good idkidkidk"
   ]
  },
  {
   "cell_type": "code",
   "execution_count": null,
   "id": "64394cf8-8981-4cfa-9a5b-84eb83f65403",
   "metadata": {},
   "outputs": [],
   "source": [
    "majors_cleaned =[]\n",
    "for major in majors:\n",
    "    cleaned_major = clean_majors(major)\n",
    "    "
   ]
  },
  {
   "cell_type": "code",
   "execution_count": null,
   "id": "0c015fce-5a4c-4fa6-9b29-651f18e0b7c3",
   "metadata": {},
   "outputs": [],
   "source": [
    "[clean_majors(major) for major in majors] #basically doing the same thing as the one above! faster than loop, if creating list, is the best way to do it"
   ]
  },
  {
   "cell_type": "code",
   "execution_count": null,
   "id": "319f45b9-2b38-4eec-aae8-cc63a2b975d9",
   "metadata": {},
   "outputs": [],
   "source": [
    "f'{index+1}'. # if u wanna add ppl??? "
   ]
  },
  {
   "attachments": {},
   "cell_type": "markdown",
   "id": "eacbc435",
   "metadata": {},
   "source": [
    "## 1.3 for with range"
   ]
  },
  {
   "attachments": {},
   "cell_type": "markdown",
   "id": "f6cd10a9",
   "metadata": {},
   "source": [
    "# 2 while"
   ]
  },
  {
   "cell_type": "code",
   "execution_count": null,
   "id": "30cc58ef-0768-4eb0-93bf-d33dc4c3dfcf",
   "metadata": {},
   "outputs": [],
   "source": [
    "x=10\n",
    "while x > 0:\n",
    "    print(x)\n",
    "    "
   ]
  }
 ],
 "metadata": {
  "kernelspec": {
   "display_name": "Python 3 (ipykernel)",
   "language": "python",
   "name": "python3"
  },
  "language_info": {
   "codemirror_mode": {
    "name": "ipython",
    "version": 3
   },
   "file_extension": ".py",
   "mimetype": "text/x-python",
   "name": "python",
   "nbconvert_exporter": "python",
   "pygments_lexer": "ipython3",
   "version": "3.12.2"
  },
  "toc": {
   "base_numbering": 1,
   "nav_menu": {},
   "number_sections": true,
   "sideBar": true,
   "skip_h1_title": false,
   "title_cell": "Table of Contents",
   "title_sidebar": "Contents",
   "toc_cell": false,
   "toc_position": {},
   "toc_section_display": true,
   "toc_window_display": false
  },
  "vscode": {
   "interpreter": {
    "hash": "31f2aee4e71d21fbe5cf8b01ff0e069b9275f58929596ceb00d14d90e3e16cd6"
   }
  }
 },
 "nbformat": 4,
 "nbformat_minor": 5
}
