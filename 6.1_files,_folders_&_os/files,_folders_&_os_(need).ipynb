{
 "cells": [
  {
   "attachments": {},
   "cell_type": "markdown",
   "id": "123456",
   "metadata": {},
   "source": [
    "<div style=\"text-align:left;font-size:2em\"><span style=\"font-weight:bolder;font-size:1.25em\">SP2273 | Learning Portfolio</span><br><br><span style=\"font-weight:bold;color:darkred\">Files, Folders & OS (Need)</span></div>"
   ]
  },
  {
   "attachments": {},
   "cell_type": "markdown",
   "id": "50f2721f",
   "metadata": {},
   "source": [
    "# What to expect in this chapter"
   ]
  },
  {
   "cell_type": "code",
   "execution_count": 1,
   "id": "d416cd8b-7a32-4d91-850a-9bee9bda3edc",
   "metadata": {},
   "outputs": [],
   "source": [
    "import glob"
   ]
  },
  {
   "cell_type": "code",
   "execution_count": 2,
   "id": "e79a3ad4-39cd-4ad8-9792-0cc726cb9975",
   "metadata": {},
   "outputs": [
    {
     "data": {
      "text/plain": [
       "['../2.2_fundamentals__exercises',\n",
       " '../3.1_storing_data',\n",
       " '../7.2_plotting__exercises',\n",
       " '../7.1_plotting',\n",
       " '../5.2_functions__exercises',\n",
       " '../1.1_using_jupyter',\n",
       " '../testing.rtf',\n",
       " '../6.1_files,_folders_&_os',\n",
       " '../README.md',\n",
       " '../0.1_hello,_github!',\n",
       " '../0.2_hello,_jupyter!',\n",
       " '../3.2_storing_data__exercises',\n",
       " '../1.2_using_jupyter_,_exercises',\n",
       " '../5.1_functions',\n",
       " '../0.3_Virtual_Environments_(Nice!)',\n",
       " '../4.2_loops__exercises',\n",
       " '../2.1_fundamentals',\n",
       " '../4.1_loops',\n",
       " '../6.2_files,_folders_&_os__exercises']"
      ]
     },
     "execution_count": 2,
     "metadata": {},
     "output_type": "execute_result"
    }
   ],
   "source": [
    "glob.glob('../*') #looks at all the files "
   ]
  },
  {
   "cell_type": "code",
   "execution_count": 3,
   "id": "6994ad4a-9cf1-4038-91f9-6b4b34907bde",
   "metadata": {},
   "outputs": [
    {
     "data": {
      "text/plain": [
       "['files,_folders_&_os_(need).ipynb']"
      ]
     },
     "execution_count": 3,
     "metadata": {},
     "output_type": "execute_result"
    }
   ],
   "source": [
    "glob.glob('*') #* is wild card"
   ]
  },
  {
   "cell_type": "code",
   "execution_count": 16,
   "id": "37d1db68-e963-4647-8651-8f0a68007ae2",
   "metadata": {},
   "outputs": [
    {
     "name": "stderr",
     "output_type": "stream",
     "text": [
      "<>:1: SyntaxWarning: invalid escape sequence '\\*'\n",
      "<>:1: SyntaxWarning: invalid escape sequence '\\*'\n",
      "/var/folders/10/974rv7vn3gl4l2wgkb7tjh740000gn/T/ipykernel_13695/1817956400.py:1: SyntaxWarning: invalid escape sequence '\\*'\n",
      "  glob.glob('..\\5.1*\\*') #show everything in functions\n"
     ]
    },
    {
     "data": {
      "text/plain": [
       "[]"
      ]
     },
     "execution_count": 16,
     "metadata": {},
     "output_type": "execute_result"
    }
   ],
   "source": [
    "glob.glob('..\\5.1*\\*') #show everything in functions"
   ]
  },
  {
   "cell_type": "code",
   "execution_count": null,
   "id": "43d96a4b-a223-409c-ae52-81aae98b1232",
   "metadata": {},
   "outputs": [],
   "source": [
    "#can show stuff relative to where u are"
   ]
  },
  {
   "cell_type": "code",
   "execution_count": 17,
   "id": "1d7fd532-4670-4c08-89e1-a4786a7896af",
   "metadata": {},
   "outputs": [
    {
     "ename": "SyntaxError",
     "evalue": "invalid syntax (85103345.py, line 1)",
     "output_type": "error",
     "traceback": [
      "\u001b[0;36m  Cell \u001b[0;32mIn[17], line 1\u001b[0;36m\u001b[0m\n\u001b[0;31m    absolute path\u001b[0m\n\u001b[0m             ^\u001b[0m\n\u001b[0;31mSyntaxError\u001b[0m\u001b[0;31m:\u001b[0m invalid syntax\n"
     ]
    }
   ],
   "source": [
    "absolute path "
   ]
  },
  {
   "cell_type": "code",
   "execution_count": 18,
   "id": "a99f8087-8cce-488b-896f-46753c39758c",
   "metadata": {},
   "outputs": [
    {
     "name": "stderr",
     "output_type": "stream",
     "text": [
      "<>:1: SyntaxWarning: invalid escape sequence '\\*'\n",
      "<>:2: SyntaxWarning: invalid escape sequence '\\*'\n",
      "<>:1: SyntaxWarning: invalid escape sequence '\\*'\n",
      "<>:2: SyntaxWarning: invalid escape sequence '\\*'\n",
      "/var/folders/10/974rv7vn3gl4l2wgkb7tjh740000gn/T/ipykernel_13695/1663103784.py:1: SyntaxWarning: invalid escape sequence '\\*'\n",
      "  all_files = glob.glob('..\\5.1*\\*') # ppython thinks anything w \\ in a print is an escape funstion, so you muts double slash\n",
      "/var/folders/10/974rv7vn3gl4l2wgkb7tjh740000gn/T/ipykernel_13695/1663103784.py:2: SyntaxWarning: invalid escape sequence '\\*'\n",
      "  all_files = glob.glob('..\\\\5.1*\\*') # ppython thinks anything w \\ in a print is an escape funstion, so you muts double slash\n"
     ]
    },
    {
     "ename": "SyntaxError",
     "evalue": "invalid syntax (1663103784.py, line 4)",
     "output_type": "error",
     "traceback": [
      "\u001b[0;36m  Cell \u001b[0;32mIn[18], line 4\u001b[0;36m\u001b[0m\n\u001b[0;31m    or\u001b[0m\n\u001b[0m    ^\u001b[0m\n\u001b[0;31mSyntaxError\u001b[0m\u001b[0;31m:\u001b[0m invalid syntax\n"
     ]
    }
   ],
   "source": [
    "all_files = glob.glob('..\\5.1*\\*') # ppython thinks anything w \\ in a print is an escape funstion, so you muts double slash\n",
    "all_files = glob.glob('..\\\\5.1*\\*') # ppython thinks anything w \\ in a print is an escape funstion, so you muts double slash\n",
    "or\n",
    "all_files = glob.glob(r'..\\5.1*\\*')"
   ]
  },
  {
   "cell_type": "code",
   "execution_count": 14,
   "id": "b699eecf-8ea9-4173-b58c-c0580dd448e8",
   "metadata": {},
   "outputs": [
    {
     "data": {
      "text/plain": [
       "['../2.2_fundamentals__exercises/fundamentals_(need)_exercises.ipynb',\n",
       " '../2.2_fundamentals__exercises/fundamentals_(good)_exercises.ipynb',\n",
       " '../5.2_functions__exercises/functions_(good)_exercises.ipynb',\n",
       " '../5.2_functions__exercises/functions_(need)_exercises.ipynb',\n",
       " '../6.1_files,_folders_&_os/files,_folders_&_os_(need).ipynb',\n",
       " '../5.1_functions/functions_(good).ipynb',\n",
       " '../5.1_functions/functions_(nice).ipynb',\n",
       " '../5.1_functions/functions_(need).ipynb',\n",
       " '../2.1_fundamentals/fundamentals_(good).ipynb',\n",
       " '../2.1_fundamentals/fundamentals_(nice).ipynb',\n",
       " '../2.1_fundamentals/fundamentals_(need).ipynb',\n",
       " '../6.2_files,_folders_&_os__exercises/files,_folders_&_os_(need)_exercises.ipynb']"
      ]
     },
     "execution_count": 14,
     "metadata": {},
     "output_type": "execute_result"
    }
   ],
   "source": [
    "glob.glob(r'../**/f*.ipynb', recursive = True) #criteria \"l\", used to find anything that starts w l"
   ]
  },
  {
   "cell_type": "code",
   "execution_count": 6,
   "id": "65cd821b-a16f-46b4-80eb-b49fb4841c05",
   "metadata": {},
   "outputs": [],
   "source": [
    "import os\n",
    "import shutil"
   ]
  },
  {
   "cell_type": "code",
   "execution_count": 16,
   "id": "cc269cca-a0ad-44d7-84f4-234d76537e35",
   "metadata": {},
   "outputs": [
    {
     "name": "stdout",
     "output_type": "stream",
     "text": [
      "../6.1_files,_folders_&_os/sp2273_logo.pngalready here\n"
     ]
    }
   ],
   "source": [
    "png_files = glob.glob('../**/*.png', recursive = True)\n",
    "\n",
    "for file in png_files:\n",
    "    try:\n",
    "        shutil.copy(file,'.')\n",
    "    except:\n",
    "        print(f'{file}already here')"
   ]
  },
  {
   "cell_type": "code",
   "execution_count": 17,
   "id": "95d27863-931d-4255-b79d-b8bf35699f94",
   "metadata": {},
   "outputs": [
    {
     "data": {
      "text/plain": [
       "['..', '6.1_files,_folders_&_os', 'sp2273_logo.png']"
      ]
     },
     "execution_count": 17,
     "metadata": {},
     "output_type": "execute_result"
    }
   ],
   "source": [
    "file.split(os.path.sep)"
   ]
  },
  {
   "cell_type": "code",
   "execution_count": null,
   "id": "cfe4e667-973c-4d62-a7e7-64b38feec9b4",
   "metadata": {},
   "outputs": [],
   "source": [
    "os.remove('test.png') #to delete"
   ]
  },
  {
   "cell_type": "code",
   "execution_count": null,
   "id": "54ba959e-a49b-4ce5-9926-eed9592f6448",
   "metadata": {},
   "outputs": [],
   "source": [
    "os.mkdir('people')\n",
    "\n",
    "for person in ['John','Paul','Ringo']:\n",
    "    path = os.path.join('people',person)\n",
    "    #print(path)"
   ]
  },
  {
   "attachments": {},
   "cell_type": "markdown",
   "id": "cdb8d54a",
   "metadata": {},
   "source": [
    "# 1 Important concepts"
   ]
  },
  {
   "attachments": {},
   "cell_type": "markdown",
   "id": "6934b4f5",
   "metadata": {},
   "source": [
    "## 1.1 Path"
   ]
  },
  {
   "attachments": {},
   "cell_type": "markdown",
   "id": "437f2c9b",
   "metadata": {},
   "source": [
    "## 1.2 More about relative paths"
   ]
  },
  {
   "attachments": {},
   "cell_type": "markdown",
   "id": "7e8fa26e",
   "metadata": {},
   "source": [
    "### macOS or Linux"
   ]
  },
  {
   "cell_type": "code",
   "execution_count": null,
   "id": "a56a0293",
   "metadata": {},
   "outputs": [],
   "source": [
    "\n",
    "# Your code here\n"
   ]
  },
  {
   "attachments": {},
   "cell_type": "markdown",
   "id": "873cea65",
   "metadata": {},
   "source": [
    "## 1.3 Path separator"
   ]
  },
  {
   "attachments": {},
   "cell_type": "markdown",
   "id": "cf8e196c",
   "metadata": {},
   "source": [
    "## 1.4 Text files vs. Binary files"
   ]
  },
  {
   "attachments": {},
   "cell_type": "markdown",
   "id": "3154d20c",
   "metadata": {},
   "source": [
    "## 1.5 Extensions"
   ]
  },
  {
   "attachments": {},
   "cell_type": "markdown",
   "id": "0bcf9c53",
   "metadata": {},
   "source": [
    "# 2 Opening and closing files"
   ]
  },
  {
   "attachments": {},
   "cell_type": "markdown",
   "id": "ca07fa83",
   "metadata": {},
   "source": [
    "## 2.1 Reading data"
   ]
  },
  {
   "attachments": {},
   "cell_type": "markdown",
   "id": "b42f409f",
   "metadata": {},
   "source": [
    "## 2.2 Writing data"
   ]
  },
  {
   "attachments": {},
   "cell_type": "markdown",
   "id": "665868a1",
   "metadata": {},
   "source": [
    "### Writing to a file in one go"
   ]
  },
  {
   "cell_type": "code",
   "execution_count": null,
   "id": "80c07838",
   "metadata": {},
   "outputs": [],
   "source": [
    "\n",
    "# Your code here\n"
   ]
  },
  {
   "attachments": {},
   "cell_type": "markdown",
   "id": "fc0f7d9f",
   "metadata": {},
   "source": [
    "### Writing to a file, line by line"
   ]
  },
  {
   "cell_type": "code",
   "execution_count": null,
   "id": "39c0fba1",
   "metadata": {},
   "outputs": [],
   "source": [
    "\n",
    "# Your code here\n"
   ]
  },
  {
   "attachments": {},
   "cell_type": "markdown",
   "id": "c4864513",
   "metadata": {},
   "source": [
    "# 3 Some useful packages"
   ]
  },
  {
   "attachments": {},
   "cell_type": "markdown",
   "id": "3d3d000b",
   "metadata": {},
   "source": [
    "# 4 OS safe paths"
   ]
  },
  {
   "attachments": {},
   "cell_type": "markdown",
   "id": "14431962",
   "metadata": {},
   "source": [
    "# 5 Folders"
   ]
  },
  {
   "attachments": {},
   "cell_type": "markdown",
   "id": "b4087aed",
   "metadata": {},
   "source": [
    "## 5.1 Creating folders"
   ]
  },
  {
   "attachments": {},
   "cell_type": "markdown",
   "id": "cebd0b34",
   "metadata": {},
   "source": [
    "## 5.2 Checking for existence"
   ]
  },
  {
   "attachments": {},
   "cell_type": "markdown",
   "id": "2bda13d7",
   "metadata": {},
   "source": [
    "### Using try-except"
   ]
  },
  {
   "cell_type": "code",
   "execution_count": null,
   "id": "54f0a7d9",
   "metadata": {},
   "outputs": [],
   "source": [
    "\n",
    "# Your code here\n"
   ]
  },
  {
   "attachments": {},
   "cell_type": "markdown",
   "id": "58126a3c",
   "metadata": {},
   "source": [
    "### Using os.path.exists()"
   ]
  },
  {
   "cell_type": "code",
   "execution_count": null,
   "id": "cbcbebc1",
   "metadata": {},
   "outputs": [],
   "source": [
    "\n",
    "# Your code here\n"
   ]
  },
  {
   "attachments": {},
   "cell_type": "markdown",
   "id": "9e9ac936",
   "metadata": {},
   "source": [
    "## 5.3 Copying files"
   ]
  },
  {
   "attachments": {},
   "cell_type": "markdown",
   "id": "a5486f15",
   "metadata": {},
   "source": [
    "# 6 Listing and looking for files"
   ]
  },
  {
   "attachments": {},
   "cell_type": "markdown",
   "id": "ea7e111d",
   "metadata": {},
   "source": [
    "# 7 Extracting file info"
   ]
  },
  {
   "attachments": {},
   "cell_type": "markdown",
   "id": "e75549ff",
   "metadata": {},
   "source": [
    "# 8 Deleting stuff"
   ]
  }
 ],
 "metadata": {
  "kernelspec": {
   "display_name": "Python 3 (ipykernel)",
   "language": "python",
   "name": "python3"
  },
  "language_info": {
   "codemirror_mode": {
    "name": "ipython",
    "version": 3
   },
   "file_extension": ".py",
   "mimetype": "text/x-python",
   "name": "python",
   "nbconvert_exporter": "python",
   "pygments_lexer": "ipython3",
   "version": "3.12.2"
  },
  "toc": {
   "base_numbering": 1,
   "nav_menu": {},
   "number_sections": true,
   "sideBar": true,
   "skip_h1_title": false,
   "title_cell": "Table of Contents",
   "title_sidebar": "Contents",
   "toc_cell": false,
   "toc_position": {},
   "toc_section_display": true,
   "toc_window_display": false
  },
  "vscode": {
   "interpreter": {
    "hash": "31f2aee4e71d21fbe5cf8b01ff0e069b9275f58929596ceb00d14d90e3e16cd6"
   }
  }
 },
 "nbformat": 4,
 "nbformat_minor": 5
}
